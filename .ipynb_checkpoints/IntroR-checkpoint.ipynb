{
 "cells": [
  {
   "cell_type": "markdown",
   "metadata": {},
   "source": [
    "# Intro a R\n",
    "## DataFrames"
   ]
  },
  {
   "cell_type": "code",
   "execution_count": 6,
   "metadata": {},
   "outputs": [
    {
     "data": {
      "text/html": [
       "'data.frame'"
      ],
      "text/latex": [
       "'data.frame'"
      ],
      "text/markdown": [
       "'data.frame'"
      ],
      "text/plain": [
       "[1] \"data.frame\""
      ]
     },
     "metadata": {},
     "output_type": "display_data"
    }
   ],
   "source": [
    "library(dslabs)\n",
    "# cargo en murders el dataframe homonimo\n",
    "data(\"murders\")\n",
    "\n",
    "# tipo \n",
    "class(murders)"
   ]
  },
  {
   "cell_type": "code",
   "execution_count": 7,
   "metadata": {},
   "outputs": [
    {
     "data": {
      "text/html": [
       "<ol class=list-inline>\n",
       "\t<li>'state'</li>\n",
       "\t<li>'abb'</li>\n",
       "\t<li>'region'</li>\n",
       "\t<li>'population'</li>\n",
       "\t<li>'total'</li>\n",
       "</ol>\n"
      ],
      "text/latex": [
       "\\begin{enumerate*}\n",
       "\\item 'state'\n",
       "\\item 'abb'\n",
       "\\item 'region'\n",
       "\\item 'population'\n",
       "\\item 'total'\n",
       "\\end{enumerate*}\n"
      ],
      "text/markdown": [
       "1. 'state'\n",
       "2. 'abb'\n",
       "3. 'region'\n",
       "4. 'population'\n",
       "5. 'total'\n",
       "\n",
       "\n"
      ],
      "text/plain": [
       "[1] \"state\"      \"abb\"        \"region\"     \"population\" \"total\"     "
      ]
     },
     "metadata": {},
     "output_type": "display_data"
    }
   ],
   "source": [
    "# columnas\n",
    "names(murders)"
   ]
  },
  {
   "cell_type": "code",
   "execution_count": 26,
   "metadata": {},
   "outputs": [
    {
     "name": "stdout",
     "output_type": "stream",
     "text": [
      "'data.frame':\t51 obs. of  5 variables:\n",
      " $ state     : chr  \"Alabama\" \"Alaska\" \"Arizona\" \"Arkansas\" ...\n",
      " $ abb       : chr  \"AL\" \"AK\" \"AZ\" \"AR\" ...\n",
      " $ region    : Factor w/ 4 levels \"Northeast\",\"South\",..: 2 4 4 2 4 4 1 2 2 2 ...\n",
      " $ population: num  4779736 710231 6392017 2915918 37253956 ...\n",
      " $ total     : num  135 19 232 93 1257 ...\n"
     ]
    }
   ],
   "source": [
    "# veamos su estructura\n",
    "str(murders)"
   ]
  },
  {
   "cell_type": "code",
   "execution_count": 8,
   "metadata": {},
   "outputs": [
    {
     "data": {
      "text/html": [
       "<table>\n",
       "<thead><tr><th scope=col>state</th><th scope=col>abb</th><th scope=col>region</th><th scope=col>population</th><th scope=col>total</th></tr></thead>\n",
       "<tbody>\n",
       "\t<tr><td>Alabama   </td><td>AL        </td><td>South     </td><td> 4779736  </td><td> 135      </td></tr>\n",
       "\t<tr><td>Alaska    </td><td>AK        </td><td>West      </td><td>  710231  </td><td>  19      </td></tr>\n",
       "\t<tr><td>Arizona   </td><td>AZ        </td><td>West      </td><td> 6392017  </td><td> 232      </td></tr>\n",
       "\t<tr><td>Arkansas  </td><td>AR        </td><td>South     </td><td> 2915918  </td><td>  93      </td></tr>\n",
       "\t<tr><td>California</td><td>CA        </td><td>West      </td><td>37253956  </td><td>1257      </td></tr>\n",
       "\t<tr><td>Colorado  </td><td>CO        </td><td>West      </td><td> 5029196  </td><td>  65      </td></tr>\n",
       "</tbody>\n",
       "</table>\n"
      ],
      "text/latex": [
       "\\begin{tabular}{r|lllll}\n",
       " state & abb & region & population & total\\\\\n",
       "\\hline\n",
       "\t Alabama    & AL         & South      &  4779736   &  135      \\\\\n",
       "\t Alaska     & AK         & West       &   710231   &   19      \\\\\n",
       "\t Arizona    & AZ         & West       &  6392017   &  232      \\\\\n",
       "\t Arkansas   & AR         & South      &  2915918   &   93      \\\\\n",
       "\t California & CA         & West       & 37253956   & 1257      \\\\\n",
       "\t Colorado   & CO         & West       &  5029196   &   65      \\\\\n",
       "\\end{tabular}\n"
      ],
      "text/markdown": [
       "\n",
       "state | abb | region | population | total | \n",
       "|---|---|---|---|---|---|\n",
       "| Alabama    | AL         | South      |  4779736   |  135       | \n",
       "| Alaska     | AK         | West       |   710231   |   19       | \n",
       "| Arizona    | AZ         | West       |  6392017   |  232       | \n",
       "| Arkansas   | AR         | South      |  2915918   |   93       | \n",
       "| California | CA         | West       | 37253956   | 1257       | \n",
       "| Colorado   | CO         | West       |  5029196   |   65       | \n",
       "\n",
       "\n"
      ],
      "text/plain": [
       "  state      abb region population total\n",
       "1 Alabama    AL  South   4779736    135 \n",
       "2 Alaska     AK  West     710231     19 \n",
       "3 Arizona    AZ  West    6392017    232 \n",
       "4 Arkansas   AR  South   2915918     93 \n",
       "5 California CA  West   37253956   1257 \n",
       "6 Colorado   CO  West    5029196     65 "
      ]
     },
     "metadata": {},
     "output_type": "display_data"
    }
   ],
   "source": [
    "# cabecera\n",
    "head(murders)"
   ]
  },
  {
   "cell_type": "code",
   "execution_count": 11,
   "metadata": {},
   "outputs": [
    {
     "data": {
      "text/html": [
       "<ol class=list-inline>\n",
       "\t<li>South</li>\n",
       "\t<li>West</li>\n",
       "\t<li>West</li>\n",
       "\t<li>South</li>\n",
       "\t<li>West</li>\n",
       "\t<li>West</li>\n",
       "\t<li>Northeast</li>\n",
       "\t<li>South</li>\n",
       "\t<li>South</li>\n",
       "\t<li>South</li>\n",
       "\t<li>South</li>\n",
       "\t<li>West</li>\n",
       "\t<li>West</li>\n",
       "\t<li>North Central</li>\n",
       "\t<li>North Central</li>\n",
       "\t<li>North Central</li>\n",
       "\t<li>North Central</li>\n",
       "\t<li>South</li>\n",
       "\t<li>South</li>\n",
       "\t<li>Northeast</li>\n",
       "\t<li>South</li>\n",
       "\t<li>Northeast</li>\n",
       "\t<li>North Central</li>\n",
       "\t<li>North Central</li>\n",
       "\t<li>South</li>\n",
       "\t<li>North Central</li>\n",
       "\t<li>West</li>\n",
       "\t<li>North Central</li>\n",
       "\t<li>West</li>\n",
       "\t<li>Northeast</li>\n",
       "\t<li>Northeast</li>\n",
       "\t<li>West</li>\n",
       "\t<li>Northeast</li>\n",
       "\t<li>South</li>\n",
       "\t<li>North Central</li>\n",
       "\t<li>North Central</li>\n",
       "\t<li>South</li>\n",
       "\t<li>West</li>\n",
       "\t<li>Northeast</li>\n",
       "\t<li>Northeast</li>\n",
       "\t<li>South</li>\n",
       "\t<li>North Central</li>\n",
       "\t<li>South</li>\n",
       "\t<li>South</li>\n",
       "\t<li>West</li>\n",
       "\t<li>Northeast</li>\n",
       "\t<li>South</li>\n",
       "\t<li>West</li>\n",
       "\t<li>South</li>\n",
       "\t<li>North Central</li>\n",
       "\t<li>West</li>\n",
       "</ol>\n",
       "\n",
       "<details>\n",
       "\t<summary style=display:list-item;cursor:pointer>\n",
       "\t\t<strong>Levels</strong>:\n",
       "\t</summary>\n",
       "\t<ol class=list-inline>\n",
       "\t\t<li>'Northeast'</li>\n",
       "\t\t<li>'South'</li>\n",
       "\t\t<li>'North Central'</li>\n",
       "\t\t<li>'West'</li>\n",
       "\t</ol>\n",
       "</details>"
      ],
      "text/latex": [
       "\\begin{enumerate*}\n",
       "\\item South\n",
       "\\item West\n",
       "\\item West\n",
       "\\item South\n",
       "\\item West\n",
       "\\item West\n",
       "\\item Northeast\n",
       "\\item South\n",
       "\\item South\n",
       "\\item South\n",
       "\\item South\n",
       "\\item West\n",
       "\\item West\n",
       "\\item North Central\n",
       "\\item North Central\n",
       "\\item North Central\n",
       "\\item North Central\n",
       "\\item South\n",
       "\\item South\n",
       "\\item Northeast\n",
       "\\item South\n",
       "\\item Northeast\n",
       "\\item North Central\n",
       "\\item North Central\n",
       "\\item South\n",
       "\\item North Central\n",
       "\\item West\n",
       "\\item North Central\n",
       "\\item West\n",
       "\\item Northeast\n",
       "\\item Northeast\n",
       "\\item West\n",
       "\\item Northeast\n",
       "\\item South\n",
       "\\item North Central\n",
       "\\item North Central\n",
       "\\item South\n",
       "\\item West\n",
       "\\item Northeast\n",
       "\\item Northeast\n",
       "\\item South\n",
       "\\item North Central\n",
       "\\item South\n",
       "\\item South\n",
       "\\item West\n",
       "\\item Northeast\n",
       "\\item South\n",
       "\\item West\n",
       "\\item South\n",
       "\\item North Central\n",
       "\\item West\n",
       "\\end{enumerate*}\n",
       "\n",
       "\\emph{Levels}: \\begin{enumerate*}\n",
       "\\item 'Northeast'\n",
       "\\item 'South'\n",
       "\\item 'North Central'\n",
       "\\item 'West'\n",
       "\\end{enumerate*}\n"
      ],
      "text/markdown": [
       "1. South\n",
       "2. West\n",
       "3. West\n",
       "4. South\n",
       "5. West\n",
       "6. West\n",
       "7. Northeast\n",
       "8. South\n",
       "9. South\n",
       "10. South\n",
       "11. South\n",
       "12. West\n",
       "13. West\n",
       "14. North Central\n",
       "15. North Central\n",
       "16. North Central\n",
       "17. North Central\n",
       "18. South\n",
       "19. South\n",
       "20. Northeast\n",
       "21. South\n",
       "22. Northeast\n",
       "23. North Central\n",
       "24. North Central\n",
       "25. South\n",
       "26. North Central\n",
       "27. West\n",
       "28. North Central\n",
       "29. West\n",
       "30. Northeast\n",
       "31. Northeast\n",
       "32. West\n",
       "33. Northeast\n",
       "34. South\n",
       "35. North Central\n",
       "36. North Central\n",
       "37. South\n",
       "38. West\n",
       "39. Northeast\n",
       "40. Northeast\n",
       "41. South\n",
       "42. North Central\n",
       "43. South\n",
       "44. South\n",
       "45. West\n",
       "46. Northeast\n",
       "47. South\n",
       "48. West\n",
       "49. South\n",
       "50. North Central\n",
       "51. West\n",
       "\n",
       "\n",
       "\n",
       "**Levels**: 1. 'Northeast'\n",
       "2. 'South'\n",
       "3. 'North Central'\n",
       "4. 'West'\n",
       "\n",
       "\n"
      ],
      "text/plain": [
       " [1] South         West          West          South         West         \n",
       " [6] West          Northeast     South         South         South        \n",
       "[11] South         West          West          North Central North Central\n",
       "[16] North Central North Central South         South         Northeast    \n",
       "[21] South         Northeast     North Central North Central South        \n",
       "[26] North Central West          North Central West          Northeast    \n",
       "[31] Northeast     West          Northeast     South         North Central\n",
       "[36] North Central South         West          Northeast     Northeast    \n",
       "[41] South         North Central South         South         West         \n",
       "[46] Northeast     South         West          South         North Central\n",
       "[51] West         \n",
       "Levels: Northeast South North Central West"
      ]
     },
     "metadata": {},
     "output_type": "display_data"
    }
   ],
   "source": [
    "# Viendo columnas usando el $ denominado \"accesor\"\n",
    "murders$region"
   ]
  },
  {
   "cell_type": "code",
   "execution_count": 29,
   "metadata": {},
   "outputs": [],
   "source": [
    "# otra forma que extraer generando un nuevo dataframe es con corchetes simples\n",
    "#murders[\"region\"]"
   ]
  },
  {
   "cell_type": "code",
   "execution_count": 18,
   "metadata": {},
   "outputs": [
    {
     "data": {
      "text/html": [
       "<ol class=list-inline>\n",
       "\t<li>South</li>\n",
       "\t<li>West</li>\n",
       "\t<li>West</li>\n",
       "\t<li>South</li>\n",
       "\t<li>West</li>\n",
       "\t<li>West</li>\n",
       "\t<li>Northeast</li>\n",
       "\t<li>South</li>\n",
       "\t<li>South</li>\n",
       "\t<li>South</li>\n",
       "\t<li>South</li>\n",
       "\t<li>West</li>\n",
       "\t<li>West</li>\n",
       "\t<li>North Central</li>\n",
       "\t<li>North Central</li>\n",
       "\t<li>North Central</li>\n",
       "\t<li>North Central</li>\n",
       "\t<li>South</li>\n",
       "\t<li>South</li>\n",
       "\t<li>Northeast</li>\n",
       "\t<li>South</li>\n",
       "\t<li>Northeast</li>\n",
       "\t<li>North Central</li>\n",
       "\t<li>North Central</li>\n",
       "\t<li>South</li>\n",
       "\t<li>North Central</li>\n",
       "\t<li>West</li>\n",
       "\t<li>North Central</li>\n",
       "\t<li>West</li>\n",
       "\t<li>Northeast</li>\n",
       "\t<li>Northeast</li>\n",
       "\t<li>West</li>\n",
       "\t<li>Northeast</li>\n",
       "\t<li>South</li>\n",
       "\t<li>North Central</li>\n",
       "\t<li>North Central</li>\n",
       "\t<li>South</li>\n",
       "\t<li>West</li>\n",
       "\t<li>Northeast</li>\n",
       "\t<li>Northeast</li>\n",
       "\t<li>South</li>\n",
       "\t<li>North Central</li>\n",
       "\t<li>South</li>\n",
       "\t<li>South</li>\n",
       "\t<li>West</li>\n",
       "\t<li>Northeast</li>\n",
       "\t<li>South</li>\n",
       "\t<li>West</li>\n",
       "\t<li>South</li>\n",
       "\t<li>North Central</li>\n",
       "\t<li>West</li>\n",
       "</ol>\n",
       "\n",
       "<details>\n",
       "\t<summary style=display:list-item;cursor:pointer>\n",
       "\t\t<strong>Levels</strong>:\n",
       "\t</summary>\n",
       "\t<ol class=list-inline>\n",
       "\t\t<li>'Northeast'</li>\n",
       "\t\t<li>'South'</li>\n",
       "\t\t<li>'North Central'</li>\n",
       "\t\t<li>'West'</li>\n",
       "\t</ol>\n",
       "</details>"
      ],
      "text/latex": [
       "\\begin{enumerate*}\n",
       "\\item South\n",
       "\\item West\n",
       "\\item West\n",
       "\\item South\n",
       "\\item West\n",
       "\\item West\n",
       "\\item Northeast\n",
       "\\item South\n",
       "\\item South\n",
       "\\item South\n",
       "\\item South\n",
       "\\item West\n",
       "\\item West\n",
       "\\item North Central\n",
       "\\item North Central\n",
       "\\item North Central\n",
       "\\item North Central\n",
       "\\item South\n",
       "\\item South\n",
       "\\item Northeast\n",
       "\\item South\n",
       "\\item Northeast\n",
       "\\item North Central\n",
       "\\item North Central\n",
       "\\item South\n",
       "\\item North Central\n",
       "\\item West\n",
       "\\item North Central\n",
       "\\item West\n",
       "\\item Northeast\n",
       "\\item Northeast\n",
       "\\item West\n",
       "\\item Northeast\n",
       "\\item South\n",
       "\\item North Central\n",
       "\\item North Central\n",
       "\\item South\n",
       "\\item West\n",
       "\\item Northeast\n",
       "\\item Northeast\n",
       "\\item South\n",
       "\\item North Central\n",
       "\\item South\n",
       "\\item South\n",
       "\\item West\n",
       "\\item Northeast\n",
       "\\item South\n",
       "\\item West\n",
       "\\item South\n",
       "\\item North Central\n",
       "\\item West\n",
       "\\end{enumerate*}\n",
       "\n",
       "\\emph{Levels}: \\begin{enumerate*}\n",
       "\\item 'Northeast'\n",
       "\\item 'South'\n",
       "\\item 'North Central'\n",
       "\\item 'West'\n",
       "\\end{enumerate*}\n"
      ],
      "text/markdown": [
       "1. South\n",
       "2. West\n",
       "3. West\n",
       "4. South\n",
       "5. West\n",
       "6. West\n",
       "7. Northeast\n",
       "8. South\n",
       "9. South\n",
       "10. South\n",
       "11. South\n",
       "12. West\n",
       "13. West\n",
       "14. North Central\n",
       "15. North Central\n",
       "16. North Central\n",
       "17. North Central\n",
       "18. South\n",
       "19. South\n",
       "20. Northeast\n",
       "21. South\n",
       "22. Northeast\n",
       "23. North Central\n",
       "24. North Central\n",
       "25. South\n",
       "26. North Central\n",
       "27. West\n",
       "28. North Central\n",
       "29. West\n",
       "30. Northeast\n",
       "31. Northeast\n",
       "32. West\n",
       "33. Northeast\n",
       "34. South\n",
       "35. North Central\n",
       "36. North Central\n",
       "37. South\n",
       "38. West\n",
       "39. Northeast\n",
       "40. Northeast\n",
       "41. South\n",
       "42. North Central\n",
       "43. South\n",
       "44. South\n",
       "45. West\n",
       "46. Northeast\n",
       "47. South\n",
       "48. West\n",
       "49. South\n",
       "50. North Central\n",
       "51. West\n",
       "\n",
       "\n",
       "\n",
       "**Levels**: 1. 'Northeast'\n",
       "2. 'South'\n",
       "3. 'North Central'\n",
       "4. 'West'\n",
       "\n",
       "\n"
      ],
      "text/plain": [
       " [1] South         West          West          South         West         \n",
       " [6] West          Northeast     South         South         South        \n",
       "[11] South         West          West          North Central North Central\n",
       "[16] North Central North Central South         South         Northeast    \n",
       "[21] South         Northeast     North Central North Central South        \n",
       "[26] North Central West          North Central West          Northeast    \n",
       "[31] Northeast     West          Northeast     South         North Central\n",
       "[36] North Central South         West          Northeast     Northeast    \n",
       "[41] South         North Central South         South         West         \n",
       "[46] Northeast     South         West          South         North Central\n",
       "[51] West         \n",
       "Levels: Northeast South North Central West"
      ]
     },
     "metadata": {},
     "output_type": "display_data"
    }
   ],
   "source": [
    "# con doble corchetes no genera nuevo objeto sino que es la misma tabla\n",
    "murders[[\"region\"]]"
   ]
  },
  {
   "cell_type": "code",
   "execution_count": 28,
   "metadata": {},
   "outputs": [
    {
     "data": {
      "text/html": [
       "'factor'"
      ],
      "text/latex": [
       "'factor'"
      ],
      "text/markdown": [
       "'factor'"
      ],
      "text/plain": [
       "[1] \"factor\""
      ]
     },
     "metadata": {},
     "output_type": "display_data"
    },
    {
     "data": {
      "text/html": [
       "'numeric'"
      ],
      "text/latex": [
       "'numeric'"
      ],
      "text/markdown": [
       "'numeric'"
      ],
      "text/plain": [
       "[1] \"numeric\""
      ]
     },
     "metadata": {},
     "output_type": "display_data"
    },
    {
     "data": {
      "text/html": [
       "'character'"
      ],
      "text/latex": [
       "'character'"
      ],
      "text/markdown": [
       "'character'"
      ],
      "text/plain": [
       "[1] \"character\""
      ]
     },
     "metadata": {},
     "output_type": "display_data"
    }
   ],
   "source": [
    "# Ojo, hay tipo de datos llamado Factores, para datos en categorías\n",
    "class(murders[[\"region\"]])\n",
    "class(murders[[\"population\"]])\n",
    "class(murders[[\"abb\"]])"
   ]
  },
  {
   "cell_type": "code",
   "execution_count": 23,
   "metadata": {},
   "outputs": [
    {
     "data": {
      "text/html": [
       "<ol class=list-inline>\n",
       "\t<li>'Northeast'</li>\n",
       "\t<li>'South'</li>\n",
       "\t<li>'North Central'</li>\n",
       "\t<li>'West'</li>\n",
       "</ol>\n"
      ],
      "text/latex": [
       "\\begin{enumerate*}\n",
       "\\item 'Northeast'\n",
       "\\item 'South'\n",
       "\\item 'North Central'\n",
       "\\item 'West'\n",
       "\\end{enumerate*}\n"
      ],
      "text/markdown": [
       "1. 'Northeast'\n",
       "2. 'South'\n",
       "3. 'North Central'\n",
       "4. 'West'\n",
       "\n",
       "\n"
      ],
      "text/plain": [
       "[1] \"Northeast\"     \"South\"         \"North Central\" \"West\"         "
      ]
     },
     "metadata": {},
     "output_type": "display_data"
    }
   ],
   "source": [
    "# puedo saber esos Factores cuales son\n",
    "levels(murders[[\"region\"]]) # es lo mismo que levels(murders$region)"
   ]
  },
  {
   "cell_type": "code",
   "execution_count": 25,
   "metadata": {},
   "outputs": [
    {
     "data": {
      "text/html": [
       "4"
      ],
      "text/latex": [
       "4"
      ],
      "text/markdown": [
       "4"
      ],
      "text/plain": [
       "[1] 4"
      ]
     },
     "metadata": {},
     "output_type": "display_data"
    }
   ],
   "source": [
    "# Y los cuento\n",
    "length(levels(murders[[\"region\"]]))"
   ]
  },
  {
   "cell_type": "markdown",
   "metadata": {},
   "source": [
    "## Vectores\n",
    "- Son homogéneos\n",
    "- permiten usar clave=valor \n",
    "- inician desde índice 1"
   ]
  },
  {
   "cell_type": "code",
   "execution_count": 46,
   "metadata": {},
   "outputs": [],
   "source": [
    "nums <- c(34, 356.3, 12.1, 12)"
   ]
  },
  {
   "cell_type": "code",
   "execution_count": 47,
   "metadata": {},
   "outputs": [],
   "source": [
    "ciudades <- c(\"Santa Fe\", \"Tostado\", \"Sastre\")\n",
    "codigos <- c(342,3491,3406)"
   ]
  },
  {
   "cell_type": "code",
   "execution_count": 54,
   "metadata": {},
   "outputs": [],
   "source": [
    "# las claves con espacios se encierran entre comillas, sino no hace falta\n",
    "tel_codes <- c(\"santa fe\" = 342, \"tostado\"=3491, \"sastre\" = 3406)"
   ]
  },
  {
   "cell_type": "code",
   "execution_count": 55,
   "metadata": {},
   "outputs": [],
   "source": [
    "# podemos asignarles claves a un vector numérico\n",
    "names(codigos) <- ciudades"
   ]
  },
  {
   "cell_type": "code",
   "execution_count": 53,
   "metadata": {},
   "outputs": [
    {
     "data": {
      "text/html": [
       "<dl class=dl-horizontal>\n",
       "\t<dt>Santa Fe</dt>\n",
       "\t\t<dd>342</dd>\n",
       "\t<dt>Tostado</dt>\n",
       "\t\t<dd>3491</dd>\n",
       "\t<dt>Sastre</dt>\n",
       "\t\t<dd>3406</dd>\n",
       "</dl>\n"
      ],
      "text/latex": [
       "\\begin{description*}\n",
       "\\item[Santa Fe] 342\n",
       "\\item[Tostado] 3491\n",
       "\\item[Sastre] 3406\n",
       "\\end{description*}\n"
      ],
      "text/markdown": [
       "Santa Fe\n",
       ":   342Tostado\n",
       ":   3491Sastre\n",
       ":   3406\n",
       "\n"
      ],
      "text/plain": [
       "Santa Fe  Tostado   Sastre \n",
       "     342     3491     3406 "
      ]
     },
     "metadata": {},
     "output_type": "display_data"
    }
   ],
   "source": [
    "codigos"
   ]
  },
  {
   "cell_type": "code",
   "execution_count": 56,
   "metadata": {},
   "outputs": [
    {
     "data": {
      "text/html": [
       "<strong>Santa Fe:</strong> 342"
      ],
      "text/latex": [
       "\\textbf{Santa Fe:} 342"
      ],
      "text/markdown": [
       "**Santa Fe:** 342"
      ],
      "text/plain": [
       "Santa Fe \n",
       "     342 "
      ]
     },
     "metadata": {},
     "output_type": "display_data"
    }
   ],
   "source": [
    "# Podemos acceder por el nombre de su clave\n",
    "codigos[\"Santa Fe\"]"
   ]
  },
  {
   "cell_type": "markdown",
   "metadata": {},
   "source": [
    "### Secuencias"
   ]
  },
  {
   "cell_type": "code",
   "execution_count": 72,
   "metadata": {},
   "outputs": [],
   "source": [
    "# seq(ini,fin,paso)\n",
    "x <- seq(1,10,0.2)"
   ]
  },
  {
   "cell_type": "code",
   "execution_count": 73,
   "metadata": {},
   "outputs": [
    {
     "data": {
      "text/html": [
       "<ol class=list-inline>\n",
       "\t<li>1</li>\n",
       "\t<li>1.2</li>\n",
       "\t<li>1.4</li>\n",
       "\t<li>1.6</li>\n",
       "\t<li>1.8</li>\n",
       "\t<li>2</li>\n",
       "\t<li>2.2</li>\n",
       "\t<li>2.4</li>\n",
       "\t<li>2.6</li>\n",
       "\t<li>2.8</li>\n",
       "\t<li>3</li>\n",
       "\t<li>3.2</li>\n",
       "\t<li>3.4</li>\n",
       "\t<li>3.6</li>\n",
       "\t<li>3.8</li>\n",
       "\t<li>4</li>\n",
       "\t<li>4.2</li>\n",
       "\t<li>4.4</li>\n",
       "\t<li>4.6</li>\n",
       "\t<li>4.8</li>\n",
       "\t<li>5</li>\n",
       "\t<li>5.2</li>\n",
       "\t<li>5.4</li>\n",
       "\t<li>5.6</li>\n",
       "\t<li>5.8</li>\n",
       "\t<li>6</li>\n",
       "\t<li>6.2</li>\n",
       "\t<li>6.4</li>\n",
       "\t<li>6.6</li>\n",
       "\t<li>6.8</li>\n",
       "\t<li>7</li>\n",
       "\t<li>7.2</li>\n",
       "\t<li>7.4</li>\n",
       "\t<li>7.6</li>\n",
       "\t<li>7.8</li>\n",
       "\t<li>8</li>\n",
       "\t<li>8.2</li>\n",
       "\t<li>8.4</li>\n",
       "\t<li>8.6</li>\n",
       "\t<li>8.8</li>\n",
       "\t<li>9</li>\n",
       "\t<li>9.2</li>\n",
       "\t<li>9.4</li>\n",
       "\t<li>9.6</li>\n",
       "\t<li>9.8</li>\n",
       "\t<li>10</li>\n",
       "</ol>\n"
      ],
      "text/latex": [
       "\\begin{enumerate*}\n",
       "\\item 1\n",
       "\\item 1.2\n",
       "\\item 1.4\n",
       "\\item 1.6\n",
       "\\item 1.8\n",
       "\\item 2\n",
       "\\item 2.2\n",
       "\\item 2.4\n",
       "\\item 2.6\n",
       "\\item 2.8\n",
       "\\item 3\n",
       "\\item 3.2\n",
       "\\item 3.4\n",
       "\\item 3.6\n",
       "\\item 3.8\n",
       "\\item 4\n",
       "\\item 4.2\n",
       "\\item 4.4\n",
       "\\item 4.6\n",
       "\\item 4.8\n",
       "\\item 5\n",
       "\\item 5.2\n",
       "\\item 5.4\n",
       "\\item 5.6\n",
       "\\item 5.8\n",
       "\\item 6\n",
       "\\item 6.2\n",
       "\\item 6.4\n",
       "\\item 6.6\n",
       "\\item 6.8\n",
       "\\item 7\n",
       "\\item 7.2\n",
       "\\item 7.4\n",
       "\\item 7.6\n",
       "\\item 7.8\n",
       "\\item 8\n",
       "\\item 8.2\n",
       "\\item 8.4\n",
       "\\item 8.6\n",
       "\\item 8.8\n",
       "\\item 9\n",
       "\\item 9.2\n",
       "\\item 9.4\n",
       "\\item 9.6\n",
       "\\item 9.8\n",
       "\\item 10\n",
       "\\end{enumerate*}\n"
      ],
      "text/markdown": [
       "1. 1\n",
       "2. 1.2\n",
       "3. 1.4\n",
       "4. 1.6\n",
       "5. 1.8\n",
       "6. 2\n",
       "7. 2.2\n",
       "8. 2.4\n",
       "9. 2.6\n",
       "10. 2.8\n",
       "11. 3\n",
       "12. 3.2\n",
       "13. 3.4\n",
       "14. 3.6\n",
       "15. 3.8\n",
       "16. 4\n",
       "17. 4.2\n",
       "18. 4.4\n",
       "19. 4.6\n",
       "20. 4.8\n",
       "21. 5\n",
       "22. 5.2\n",
       "23. 5.4\n",
       "24. 5.6\n",
       "25. 5.8\n",
       "26. 6\n",
       "27. 6.2\n",
       "28. 6.4\n",
       "29. 6.6\n",
       "30. 6.8\n",
       "31. 7\n",
       "32. 7.2\n",
       "33. 7.4\n",
       "34. 7.6\n",
       "35. 7.8\n",
       "36. 8\n",
       "37. 8.2\n",
       "38. 8.4\n",
       "39. 8.6\n",
       "40. 8.8\n",
       "41. 9\n",
       "42. 9.2\n",
       "43. 9.4\n",
       "44. 9.6\n",
       "45. 9.8\n",
       "46. 10\n",
       "\n",
       "\n"
      ],
      "text/plain": [
       " [1]  1.0  1.2  1.4  1.6  1.8  2.0  2.2  2.4  2.6  2.8  3.0  3.2  3.4  3.6  3.8\n",
       "[16]  4.0  4.2  4.4  4.6  4.8  5.0  5.2  5.4  5.6  5.8  6.0  6.2  6.4  6.6  6.8\n",
       "[31]  7.0  7.2  7.4  7.6  7.8  8.0  8.2  8.4  8.6  8.8  9.0  9.2  9.4  9.6  9.8\n",
       "[46] 10.0"
      ]
     },
     "metadata": {},
     "output_type": "display_data"
    }
   ],
   "source": [
    "x"
   ]
  },
  {
   "cell_type": "code",
   "execution_count": 68,
   "metadata": {},
   "outputs": [],
   "source": [
    "## Solamente para secuencias de paso entero ini:fin\n",
    "x2 <- 10:1"
   ]
  },
  {
   "cell_type": "code",
   "execution_count": 69,
   "metadata": {},
   "outputs": [
    {
     "data": {
      "text/html": [
       "<ol class=list-inline>\n",
       "\t<li>10</li>\n",
       "\t<li>9</li>\n",
       "\t<li>8</li>\n",
       "\t<li>7</li>\n",
       "\t<li>6</li>\n",
       "\t<li>5</li>\n",
       "\t<li>4</li>\n",
       "\t<li>3</li>\n",
       "\t<li>2</li>\n",
       "\t<li>1</li>\n",
       "</ol>\n"
      ],
      "text/latex": [
       "\\begin{enumerate*}\n",
       "\\item 10\n",
       "\\item 9\n",
       "\\item 8\n",
       "\\item 7\n",
       "\\item 6\n",
       "\\item 5\n",
       "\\item 4\n",
       "\\item 3\n",
       "\\item 2\n",
       "\\item 1\n",
       "\\end{enumerate*}\n"
      ],
      "text/markdown": [
       "1. 10\n",
       "2. 9\n",
       "3. 8\n",
       "4. 7\n",
       "5. 6\n",
       "6. 5\n",
       "7. 4\n",
       "8. 3\n",
       "9. 2\n",
       "10. 1\n",
       "\n",
       "\n"
      ],
      "text/plain": [
       " [1] 10  9  8  7  6  5  4  3  2  1"
      ]
     },
     "metadata": {},
     "output_type": "display_data"
    }
   ],
   "source": [
    "x2"
   ]
  },
  {
   "cell_type": "markdown",
   "metadata": {},
   "source": [
    "### Slices"
   ]
  },
  {
   "cell_type": "code",
   "execution_count": 75,
   "metadata": {},
   "outputs": [
    {
     "data": {
      "text/html": [
       "<dl class=dl-horizontal>\n",
       "\t<dt>Santa Fe</dt>\n",
       "\t\t<dd>342</dd>\n",
       "\t<dt>Tostado</dt>\n",
       "\t\t<dd>3491</dd>\n",
       "\t<dt>Sastre</dt>\n",
       "\t\t<dd>3406</dd>\n",
       "</dl>\n"
      ],
      "text/latex": [
       "\\begin{description*}\n",
       "\\item[Santa Fe] 342\n",
       "\\item[Tostado] 3491\n",
       "\\item[Sastre] 3406\n",
       "\\end{description*}\n"
      ],
      "text/markdown": [
       "Santa Fe\n",
       ":   342Tostado\n",
       ":   3491Sastre\n",
       ":   3406\n",
       "\n"
      ],
      "text/plain": [
       "Santa Fe  Tostado   Sastre \n",
       "     342     3491     3406 "
      ]
     },
     "metadata": {},
     "output_type": "display_data"
    }
   ],
   "source": [
    "codigos[1:3]"
   ]
  },
  {
   "cell_type": "code",
   "execution_count": 76,
   "metadata": {},
   "outputs": [
    {
     "data": {
      "text/html": [
       "<dl class=dl-horizontal>\n",
       "\t<dt>Santa Fe</dt>\n",
       "\t\t<dd>342</dd>\n",
       "\t<dt>Sastre</dt>\n",
       "\t\t<dd>3406</dd>\n",
       "</dl>\n"
      ],
      "text/latex": [
       "\\begin{description*}\n",
       "\\item[Santa Fe] 342\n",
       "\\item[Sastre] 3406\n",
       "\\end{description*}\n"
      ],
      "text/markdown": [
       "Santa Fe\n",
       ":   342Sastre\n",
       ":   3406\n",
       "\n"
      ],
      "text/plain": [
       "Santa Fe   Sastre \n",
       "     342     3406 "
      ]
     },
     "metadata": {},
     "output_type": "display_data"
    }
   ],
   "source": [
    "codigos[c(1,3)]"
   ]
  },
  {
   "cell_type": "code",
   "execution_count": null,
   "metadata": {},
   "outputs": [],
   "source": []
  },
  {
   "cell_type": "code",
   "execution_count": null,
   "metadata": {},
   "outputs": [],
   "source": []
  },
  {
   "cell_type": "code",
   "execution_count": null,
   "metadata": {},
   "outputs": [],
   "source": []
  }
 ],
 "metadata": {
  "kernelspec": {
   "display_name": "R",
   "language": "R",
   "name": "ir"
  },
  "language_info": {
   "codemirror_mode": "r",
   "file_extension": ".r",
   "mimetype": "text/x-r-source",
   "name": "R",
   "pygments_lexer": "r",
   "version": "3.5.1"
  },
  "toc": {
   "nav_menu": {},
   "number_sections": true,
   "sideBar": true,
   "skip_h1_title": false,
   "title_cell": "Tabla de Contenidos",
   "title_sidebar": "Contenido",
   "toc_cell": false,
   "toc_position": {},
   "toc_section_display": true,
   "toc_window_display": false
  }
 },
 "nbformat": 4,
 "nbformat_minor": 2
}
