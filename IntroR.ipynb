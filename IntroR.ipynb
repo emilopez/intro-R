{
 "cells": [
  {
   "cell_type": "markdown",
   "metadata": {},
   "source": [
    "# Intro a R\n",
    "## DataFrames"
   ]
  },
  {
   "cell_type": "code",
   "execution_count": 14,
   "metadata": {},
   "outputs": [
    {
     "data": {
      "text/html": [
       "'data.frame'"
      ],
      "text/latex": [
       "'data.frame'"
      ],
      "text/markdown": [
       "'data.frame'"
      ],
      "text/plain": [
       "[1] \"data.frame\""
      ]
     },
     "metadata": {},
     "output_type": "display_data"
    }
   ],
   "source": [
    "library(dslabs)\n",
    "# cargo en murders el dataframe homonimo\n",
    "data(\"murders\")\n",
    "\n",
    "# tipo \n",
    "class(murders)"
   ]
  },
  {
   "cell_type": "code",
   "execution_count": 7,
   "metadata": {},
   "outputs": [
    {
     "data": {
      "text/html": [
       "<ol class=list-inline>\n",
       "\t<li>'state'</li>\n",
       "\t<li>'abb'</li>\n",
       "\t<li>'region'</li>\n",
       "\t<li>'population'</li>\n",
       "\t<li>'total'</li>\n",
       "</ol>\n"
      ],
      "text/latex": [
       "\\begin{enumerate*}\n",
       "\\item 'state'\n",
       "\\item 'abb'\n",
       "\\item 'region'\n",
       "\\item 'population'\n",
       "\\item 'total'\n",
       "\\end{enumerate*}\n"
      ],
      "text/markdown": [
       "1. 'state'\n",
       "2. 'abb'\n",
       "3. 'region'\n",
       "4. 'population'\n",
       "5. 'total'\n",
       "\n",
       "\n"
      ],
      "text/plain": [
       "[1] \"state\"      \"abb\"        \"region\"     \"population\" \"total\"     "
      ]
     },
     "metadata": {},
     "output_type": "display_data"
    }
   ],
   "source": [
    "# columnas\n",
    "names(murders)"
   ]
  },
  {
   "cell_type": "code",
   "execution_count": 26,
   "metadata": {},
   "outputs": [
    {
     "name": "stdout",
     "output_type": "stream",
     "text": [
      "'data.frame':\t51 obs. of  5 variables:\n",
      " $ state     : chr  \"Alabama\" \"Alaska\" \"Arizona\" \"Arkansas\" ...\n",
      " $ abb       : chr  \"AL\" \"AK\" \"AZ\" \"AR\" ...\n",
      " $ region    : Factor w/ 4 levels \"Northeast\",\"South\",..: 2 4 4 2 4 4 1 2 2 2 ...\n",
      " $ population: num  4779736 710231 6392017 2915918 37253956 ...\n",
      " $ total     : num  135 19 232 93 1257 ...\n"
     ]
    }
   ],
   "source": [
    "# veamos su estructura\n",
    "str(murders)"
   ]
  },
  {
   "cell_type": "code",
   "execution_count": 8,
   "metadata": {},
   "outputs": [
    {
     "data": {
      "text/html": [
       "<table>\n",
       "<thead><tr><th scope=col>state</th><th scope=col>abb</th><th scope=col>region</th><th scope=col>population</th><th scope=col>total</th></tr></thead>\n",
       "<tbody>\n",
       "\t<tr><td>Alabama   </td><td>AL        </td><td>South     </td><td> 4779736  </td><td> 135      </td></tr>\n",
       "\t<tr><td>Alaska    </td><td>AK        </td><td>West      </td><td>  710231  </td><td>  19      </td></tr>\n",
       "\t<tr><td>Arizona   </td><td>AZ        </td><td>West      </td><td> 6392017  </td><td> 232      </td></tr>\n",
       "\t<tr><td>Arkansas  </td><td>AR        </td><td>South     </td><td> 2915918  </td><td>  93      </td></tr>\n",
       "\t<tr><td>California</td><td>CA        </td><td>West      </td><td>37253956  </td><td>1257      </td></tr>\n",
       "\t<tr><td>Colorado  </td><td>CO        </td><td>West      </td><td> 5029196  </td><td>  65      </td></tr>\n",
       "</tbody>\n",
       "</table>\n"
      ],
      "text/latex": [
       "\\begin{tabular}{r|lllll}\n",
       " state & abb & region & population & total\\\\\n",
       "\\hline\n",
       "\t Alabama    & AL         & South      &  4779736   &  135      \\\\\n",
       "\t Alaska     & AK         & West       &   710231   &   19      \\\\\n",
       "\t Arizona    & AZ         & West       &  6392017   &  232      \\\\\n",
       "\t Arkansas   & AR         & South      &  2915918   &   93      \\\\\n",
       "\t California & CA         & West       & 37253956   & 1257      \\\\\n",
       "\t Colorado   & CO         & West       &  5029196   &   65      \\\\\n",
       "\\end{tabular}\n"
      ],
      "text/markdown": [
       "\n",
       "state | abb | region | population | total | \n",
       "|---|---|---|---|---|---|\n",
       "| Alabama    | AL         | South      |  4779736   |  135       | \n",
       "| Alaska     | AK         | West       |   710231   |   19       | \n",
       "| Arizona    | AZ         | West       |  6392017   |  232       | \n",
       "| Arkansas   | AR         | South      |  2915918   |   93       | \n",
       "| California | CA         | West       | 37253956   | 1257       | \n",
       "| Colorado   | CO         | West       |  5029196   |   65       | \n",
       "\n",
       "\n"
      ],
      "text/plain": [
       "  state      abb region population total\n",
       "1 Alabama    AL  South   4779736    135 \n",
       "2 Alaska     AK  West     710231     19 \n",
       "3 Arizona    AZ  West    6392017    232 \n",
       "4 Arkansas   AR  South   2915918     93 \n",
       "5 California CA  West   37253956   1257 \n",
       "6 Colorado   CO  West    5029196     65 "
      ]
     },
     "metadata": {},
     "output_type": "display_data"
    }
   ],
   "source": [
    "# cabecera\n",
    "head(murders)"
   ]
  },
  {
   "cell_type": "code",
   "execution_count": 11,
   "metadata": {},
   "outputs": [
    {
     "data": {
      "text/html": [
       "<ol class=list-inline>\n",
       "\t<li>South</li>\n",
       "\t<li>West</li>\n",
       "\t<li>West</li>\n",
       "\t<li>South</li>\n",
       "\t<li>West</li>\n",
       "\t<li>West</li>\n",
       "\t<li>Northeast</li>\n",
       "\t<li>South</li>\n",
       "\t<li>South</li>\n",
       "\t<li>South</li>\n",
       "\t<li>South</li>\n",
       "\t<li>West</li>\n",
       "\t<li>West</li>\n",
       "\t<li>North Central</li>\n",
       "\t<li>North Central</li>\n",
       "\t<li>North Central</li>\n",
       "\t<li>North Central</li>\n",
       "\t<li>South</li>\n",
       "\t<li>South</li>\n",
       "\t<li>Northeast</li>\n",
       "\t<li>South</li>\n",
       "\t<li>Northeast</li>\n",
       "\t<li>North Central</li>\n",
       "\t<li>North Central</li>\n",
       "\t<li>South</li>\n",
       "\t<li>North Central</li>\n",
       "\t<li>West</li>\n",
       "\t<li>North Central</li>\n",
       "\t<li>West</li>\n",
       "\t<li>Northeast</li>\n",
       "\t<li>Northeast</li>\n",
       "\t<li>West</li>\n",
       "\t<li>Northeast</li>\n",
       "\t<li>South</li>\n",
       "\t<li>North Central</li>\n",
       "\t<li>North Central</li>\n",
       "\t<li>South</li>\n",
       "\t<li>West</li>\n",
       "\t<li>Northeast</li>\n",
       "\t<li>Northeast</li>\n",
       "\t<li>South</li>\n",
       "\t<li>North Central</li>\n",
       "\t<li>South</li>\n",
       "\t<li>South</li>\n",
       "\t<li>West</li>\n",
       "\t<li>Northeast</li>\n",
       "\t<li>South</li>\n",
       "\t<li>West</li>\n",
       "\t<li>South</li>\n",
       "\t<li>North Central</li>\n",
       "\t<li>West</li>\n",
       "</ol>\n",
       "\n",
       "<details>\n",
       "\t<summary style=display:list-item;cursor:pointer>\n",
       "\t\t<strong>Levels</strong>:\n",
       "\t</summary>\n",
       "\t<ol class=list-inline>\n",
       "\t\t<li>'Northeast'</li>\n",
       "\t\t<li>'South'</li>\n",
       "\t\t<li>'North Central'</li>\n",
       "\t\t<li>'West'</li>\n",
       "\t</ol>\n",
       "</details>"
      ],
      "text/latex": [
       "\\begin{enumerate*}\n",
       "\\item South\n",
       "\\item West\n",
       "\\item West\n",
       "\\item South\n",
       "\\item West\n",
       "\\item West\n",
       "\\item Northeast\n",
       "\\item South\n",
       "\\item South\n",
       "\\item South\n",
       "\\item South\n",
       "\\item West\n",
       "\\item West\n",
       "\\item North Central\n",
       "\\item North Central\n",
       "\\item North Central\n",
       "\\item North Central\n",
       "\\item South\n",
       "\\item South\n",
       "\\item Northeast\n",
       "\\item South\n",
       "\\item Northeast\n",
       "\\item North Central\n",
       "\\item North Central\n",
       "\\item South\n",
       "\\item North Central\n",
       "\\item West\n",
       "\\item North Central\n",
       "\\item West\n",
       "\\item Northeast\n",
       "\\item Northeast\n",
       "\\item West\n",
       "\\item Northeast\n",
       "\\item South\n",
       "\\item North Central\n",
       "\\item North Central\n",
       "\\item South\n",
       "\\item West\n",
       "\\item Northeast\n",
       "\\item Northeast\n",
       "\\item South\n",
       "\\item North Central\n",
       "\\item South\n",
       "\\item South\n",
       "\\item West\n",
       "\\item Northeast\n",
       "\\item South\n",
       "\\item West\n",
       "\\item South\n",
       "\\item North Central\n",
       "\\item West\n",
       "\\end{enumerate*}\n",
       "\n",
       "\\emph{Levels}: \\begin{enumerate*}\n",
       "\\item 'Northeast'\n",
       "\\item 'South'\n",
       "\\item 'North Central'\n",
       "\\item 'West'\n",
       "\\end{enumerate*}\n"
      ],
      "text/markdown": [
       "1. South\n",
       "2. West\n",
       "3. West\n",
       "4. South\n",
       "5. West\n",
       "6. West\n",
       "7. Northeast\n",
       "8. South\n",
       "9. South\n",
       "10. South\n",
       "11. South\n",
       "12. West\n",
       "13. West\n",
       "14. North Central\n",
       "15. North Central\n",
       "16. North Central\n",
       "17. North Central\n",
       "18. South\n",
       "19. South\n",
       "20. Northeast\n",
       "21. South\n",
       "22. Northeast\n",
       "23. North Central\n",
       "24. North Central\n",
       "25. South\n",
       "26. North Central\n",
       "27. West\n",
       "28. North Central\n",
       "29. West\n",
       "30. Northeast\n",
       "31. Northeast\n",
       "32. West\n",
       "33. Northeast\n",
       "34. South\n",
       "35. North Central\n",
       "36. North Central\n",
       "37. South\n",
       "38. West\n",
       "39. Northeast\n",
       "40. Northeast\n",
       "41. South\n",
       "42. North Central\n",
       "43. South\n",
       "44. South\n",
       "45. West\n",
       "46. Northeast\n",
       "47. South\n",
       "48. West\n",
       "49. South\n",
       "50. North Central\n",
       "51. West\n",
       "\n",
       "\n",
       "\n",
       "**Levels**: 1. 'Northeast'\n",
       "2. 'South'\n",
       "3. 'North Central'\n",
       "4. 'West'\n",
       "\n",
       "\n"
      ],
      "text/plain": [
       " [1] South         West          West          South         West         \n",
       " [6] West          Northeast     South         South         South        \n",
       "[11] South         West          West          North Central North Central\n",
       "[16] North Central North Central South         South         Northeast    \n",
       "[21] South         Northeast     North Central North Central South        \n",
       "[26] North Central West          North Central West          Northeast    \n",
       "[31] Northeast     West          Northeast     South         North Central\n",
       "[36] North Central South         West          Northeast     Northeast    \n",
       "[41] South         North Central South         South         West         \n",
       "[46] Northeast     South         West          South         North Central\n",
       "[51] West         \n",
       "Levels: Northeast South North Central West"
      ]
     },
     "metadata": {},
     "output_type": "display_data"
    }
   ],
   "source": [
    "# Viendo columnas usando el $ denominado \"accesor\"\n",
    "murders$region"
   ]
  },
  {
   "cell_type": "code",
   "execution_count": 29,
   "metadata": {},
   "outputs": [],
   "source": [
    "# otra forma que extraer generando un nuevo dataframe es con corchetes simples\n",
    "#murders[\"region\"]"
   ]
  },
  {
   "cell_type": "code",
   "execution_count": 18,
   "metadata": {},
   "outputs": [
    {
     "data": {
      "text/html": [
       "<ol class=list-inline>\n",
       "\t<li>South</li>\n",
       "\t<li>West</li>\n",
       "\t<li>West</li>\n",
       "\t<li>South</li>\n",
       "\t<li>West</li>\n",
       "\t<li>West</li>\n",
       "\t<li>Northeast</li>\n",
       "\t<li>South</li>\n",
       "\t<li>South</li>\n",
       "\t<li>South</li>\n",
       "\t<li>South</li>\n",
       "\t<li>West</li>\n",
       "\t<li>West</li>\n",
       "\t<li>North Central</li>\n",
       "\t<li>North Central</li>\n",
       "\t<li>North Central</li>\n",
       "\t<li>North Central</li>\n",
       "\t<li>South</li>\n",
       "\t<li>South</li>\n",
       "\t<li>Northeast</li>\n",
       "\t<li>South</li>\n",
       "\t<li>Northeast</li>\n",
       "\t<li>North Central</li>\n",
       "\t<li>North Central</li>\n",
       "\t<li>South</li>\n",
       "\t<li>North Central</li>\n",
       "\t<li>West</li>\n",
       "\t<li>North Central</li>\n",
       "\t<li>West</li>\n",
       "\t<li>Northeast</li>\n",
       "\t<li>Northeast</li>\n",
       "\t<li>West</li>\n",
       "\t<li>Northeast</li>\n",
       "\t<li>South</li>\n",
       "\t<li>North Central</li>\n",
       "\t<li>North Central</li>\n",
       "\t<li>South</li>\n",
       "\t<li>West</li>\n",
       "\t<li>Northeast</li>\n",
       "\t<li>Northeast</li>\n",
       "\t<li>South</li>\n",
       "\t<li>North Central</li>\n",
       "\t<li>South</li>\n",
       "\t<li>South</li>\n",
       "\t<li>West</li>\n",
       "\t<li>Northeast</li>\n",
       "\t<li>South</li>\n",
       "\t<li>West</li>\n",
       "\t<li>South</li>\n",
       "\t<li>North Central</li>\n",
       "\t<li>West</li>\n",
       "</ol>\n",
       "\n",
       "<details>\n",
       "\t<summary style=display:list-item;cursor:pointer>\n",
       "\t\t<strong>Levels</strong>:\n",
       "\t</summary>\n",
       "\t<ol class=list-inline>\n",
       "\t\t<li>'Northeast'</li>\n",
       "\t\t<li>'South'</li>\n",
       "\t\t<li>'North Central'</li>\n",
       "\t\t<li>'West'</li>\n",
       "\t</ol>\n",
       "</details>"
      ],
      "text/latex": [
       "\\begin{enumerate*}\n",
       "\\item South\n",
       "\\item West\n",
       "\\item West\n",
       "\\item South\n",
       "\\item West\n",
       "\\item West\n",
       "\\item Northeast\n",
       "\\item South\n",
       "\\item South\n",
       "\\item South\n",
       "\\item South\n",
       "\\item West\n",
       "\\item West\n",
       "\\item North Central\n",
       "\\item North Central\n",
       "\\item North Central\n",
       "\\item North Central\n",
       "\\item South\n",
       "\\item South\n",
       "\\item Northeast\n",
       "\\item South\n",
       "\\item Northeast\n",
       "\\item North Central\n",
       "\\item North Central\n",
       "\\item South\n",
       "\\item North Central\n",
       "\\item West\n",
       "\\item North Central\n",
       "\\item West\n",
       "\\item Northeast\n",
       "\\item Northeast\n",
       "\\item West\n",
       "\\item Northeast\n",
       "\\item South\n",
       "\\item North Central\n",
       "\\item North Central\n",
       "\\item South\n",
       "\\item West\n",
       "\\item Northeast\n",
       "\\item Northeast\n",
       "\\item South\n",
       "\\item North Central\n",
       "\\item South\n",
       "\\item South\n",
       "\\item West\n",
       "\\item Northeast\n",
       "\\item South\n",
       "\\item West\n",
       "\\item South\n",
       "\\item North Central\n",
       "\\item West\n",
       "\\end{enumerate*}\n",
       "\n",
       "\\emph{Levels}: \\begin{enumerate*}\n",
       "\\item 'Northeast'\n",
       "\\item 'South'\n",
       "\\item 'North Central'\n",
       "\\item 'West'\n",
       "\\end{enumerate*}\n"
      ],
      "text/markdown": [
       "1. South\n",
       "2. West\n",
       "3. West\n",
       "4. South\n",
       "5. West\n",
       "6. West\n",
       "7. Northeast\n",
       "8. South\n",
       "9. South\n",
       "10. South\n",
       "11. South\n",
       "12. West\n",
       "13. West\n",
       "14. North Central\n",
       "15. North Central\n",
       "16. North Central\n",
       "17. North Central\n",
       "18. South\n",
       "19. South\n",
       "20. Northeast\n",
       "21. South\n",
       "22. Northeast\n",
       "23. North Central\n",
       "24. North Central\n",
       "25. South\n",
       "26. North Central\n",
       "27. West\n",
       "28. North Central\n",
       "29. West\n",
       "30. Northeast\n",
       "31. Northeast\n",
       "32. West\n",
       "33. Northeast\n",
       "34. South\n",
       "35. North Central\n",
       "36. North Central\n",
       "37. South\n",
       "38. West\n",
       "39. Northeast\n",
       "40. Northeast\n",
       "41. South\n",
       "42. North Central\n",
       "43. South\n",
       "44. South\n",
       "45. West\n",
       "46. Northeast\n",
       "47. South\n",
       "48. West\n",
       "49. South\n",
       "50. North Central\n",
       "51. West\n",
       "\n",
       "\n",
       "\n",
       "**Levels**: 1. 'Northeast'\n",
       "2. 'South'\n",
       "3. 'North Central'\n",
       "4. 'West'\n",
       "\n",
       "\n"
      ],
      "text/plain": [
       " [1] South         West          West          South         West         \n",
       " [6] West          Northeast     South         South         South        \n",
       "[11] South         West          West          North Central North Central\n",
       "[16] North Central North Central South         South         Northeast    \n",
       "[21] South         Northeast     North Central North Central South        \n",
       "[26] North Central West          North Central West          Northeast    \n",
       "[31] Northeast     West          Northeast     South         North Central\n",
       "[36] North Central South         West          Northeast     Northeast    \n",
       "[41] South         North Central South         South         West         \n",
       "[46] Northeast     South         West          South         North Central\n",
       "[51] West         \n",
       "Levels: Northeast South North Central West"
      ]
     },
     "metadata": {},
     "output_type": "display_data"
    }
   ],
   "source": [
    "# con doble corchetes no genera nuevo objeto sino que es la misma tabla\n",
    "murders[[\"region\"]]"
   ]
  },
  {
   "cell_type": "code",
   "execution_count": 28,
   "metadata": {},
   "outputs": [
    {
     "data": {
      "text/html": [
       "'factor'"
      ],
      "text/latex": [
       "'factor'"
      ],
      "text/markdown": [
       "'factor'"
      ],
      "text/plain": [
       "[1] \"factor\""
      ]
     },
     "metadata": {},
     "output_type": "display_data"
    },
    {
     "data": {
      "text/html": [
       "'numeric'"
      ],
      "text/latex": [
       "'numeric'"
      ],
      "text/markdown": [
       "'numeric'"
      ],
      "text/plain": [
       "[1] \"numeric\""
      ]
     },
     "metadata": {},
     "output_type": "display_data"
    },
    {
     "data": {
      "text/html": [
       "'character'"
      ],
      "text/latex": [
       "'character'"
      ],
      "text/markdown": [
       "'character'"
      ],
      "text/plain": [
       "[1] \"character\""
      ]
     },
     "metadata": {},
     "output_type": "display_data"
    }
   ],
   "source": [
    "# Ojo, hay tipo de datos llamado Factores, para datos en categorías\n",
    "class(murders[[\"region\"]])\n",
    "class(murders[[\"population\"]])\n",
    "class(murders[[\"abb\"]])"
   ]
  },
  {
   "cell_type": "code",
   "execution_count": 23,
   "metadata": {},
   "outputs": [
    {
     "data": {
      "text/html": [
       "<ol class=list-inline>\n",
       "\t<li>'Northeast'</li>\n",
       "\t<li>'South'</li>\n",
       "\t<li>'North Central'</li>\n",
       "\t<li>'West'</li>\n",
       "</ol>\n"
      ],
      "text/latex": [
       "\\begin{enumerate*}\n",
       "\\item 'Northeast'\n",
       "\\item 'South'\n",
       "\\item 'North Central'\n",
       "\\item 'West'\n",
       "\\end{enumerate*}\n"
      ],
      "text/markdown": [
       "1. 'Northeast'\n",
       "2. 'South'\n",
       "3. 'North Central'\n",
       "4. 'West'\n",
       "\n",
       "\n"
      ],
      "text/plain": [
       "[1] \"Northeast\"     \"South\"         \"North Central\" \"West\"         "
      ]
     },
     "metadata": {},
     "output_type": "display_data"
    }
   ],
   "source": [
    "# puedo saber esos Factores cuales son\n",
    "levels(murders[[\"region\"]]) # es lo mismo que levels(murders$region)"
   ]
  },
  {
   "cell_type": "code",
   "execution_count": 25,
   "metadata": {},
   "outputs": [
    {
     "data": {
      "text/html": [
       "4"
      ],
      "text/latex": [
       "4"
      ],
      "text/markdown": [
       "4"
      ],
      "text/plain": [
       "[1] 4"
      ]
     },
     "metadata": {},
     "output_type": "display_data"
    }
   ],
   "source": [
    "# Y los cuento\n",
    "length(levels(murders[[\"region\"]]))"
   ]
  },
  {
   "cell_type": "markdown",
   "metadata": {},
   "source": [
    "## DataFrames a pata"
   ]
  },
  {
   "cell_type": "code",
   "execution_count": 34,
   "metadata": {},
   "outputs": [],
   "source": [
    "# Store temperatures in an object \n",
    "temp <- c(35, 88, 42, 84, 81, 30)\n",
    "\n",
    "# Store city names in an object \n",
    "city <- c(\"Beijing\", \"Lagos\", \"Paris\", \"Rio de Janeiro\", \"San Juan\", \"Toronto\")\n",
    "\n",
    "# Create data frame with city names and temperature \n",
    "city_temps <- data.frame(name = city, temperature = temp)"
   ]
  },
  {
   "cell_type": "markdown",
   "metadata": {},
   "source": [
    "## Vectores\n",
    "- Son homogéneos\n",
    "- permiten usar clave=valor \n",
    "- inician desde índice 1"
   ]
  },
  {
   "cell_type": "code",
   "execution_count": 46,
   "metadata": {},
   "outputs": [],
   "source": [
    "nums <- c(34, 356.3, 12.1, 12)"
   ]
  },
  {
   "cell_type": "code",
   "execution_count": 47,
   "metadata": {},
   "outputs": [],
   "source": [
    "ciudades <- c(\"Santa Fe\", \"Tostado\", \"Sastre\")\n",
    "codigos <- c(342,3491,3406)"
   ]
  },
  {
   "cell_type": "code",
   "execution_count": 54,
   "metadata": {},
   "outputs": [],
   "source": [
    "# las claves con espacios se encierran entre comillas, sino no hace falta\n",
    "tel_codes <- c(\"santa fe\" = 342, \"tostado\"=3491, \"sastre\" = 3406)"
   ]
  },
  {
   "cell_type": "code",
   "execution_count": 55,
   "metadata": {},
   "outputs": [],
   "source": [
    "# podemos asignarles claves a un vector numérico\n",
    "names(codigos) <- ciudades"
   ]
  },
  {
   "cell_type": "code",
   "execution_count": 53,
   "metadata": {},
   "outputs": [
    {
     "data": {
      "text/html": [
       "<dl class=dl-horizontal>\n",
       "\t<dt>Santa Fe</dt>\n",
       "\t\t<dd>342</dd>\n",
       "\t<dt>Tostado</dt>\n",
       "\t\t<dd>3491</dd>\n",
       "\t<dt>Sastre</dt>\n",
       "\t\t<dd>3406</dd>\n",
       "</dl>\n"
      ],
      "text/latex": [
       "\\begin{description*}\n",
       "\\item[Santa Fe] 342\n",
       "\\item[Tostado] 3491\n",
       "\\item[Sastre] 3406\n",
       "\\end{description*}\n"
      ],
      "text/markdown": [
       "Santa Fe\n",
       ":   342Tostado\n",
       ":   3491Sastre\n",
       ":   3406\n",
       "\n"
      ],
      "text/plain": [
       "Santa Fe  Tostado   Sastre \n",
       "     342     3491     3406 "
      ]
     },
     "metadata": {},
     "output_type": "display_data"
    }
   ],
   "source": [
    "codigos"
   ]
  },
  {
   "cell_type": "code",
   "execution_count": 56,
   "metadata": {},
   "outputs": [
    {
     "data": {
      "text/html": [
       "<strong>Santa Fe:</strong> 342"
      ],
      "text/latex": [
       "\\textbf{Santa Fe:} 342"
      ],
      "text/markdown": [
       "**Santa Fe:** 342"
      ],
      "text/plain": [
       "Santa Fe \n",
       "     342 "
      ]
     },
     "metadata": {},
     "output_type": "display_data"
    }
   ],
   "source": [
    "# Podemos acceder por el nombre de su clave\n",
    "codigos[\"Santa Fe\"]"
   ]
  },
  {
   "cell_type": "markdown",
   "metadata": {},
   "source": [
    "### Secuencias"
   ]
  },
  {
   "cell_type": "code",
   "execution_count": 72,
   "metadata": {},
   "outputs": [],
   "source": [
    "# seq(ini,fin,paso)\n",
    "x <- seq(1,10,0.2)"
   ]
  },
  {
   "cell_type": "code",
   "execution_count": 73,
   "metadata": {},
   "outputs": [
    {
     "data": {
      "text/html": [
       "<ol class=list-inline>\n",
       "\t<li>1</li>\n",
       "\t<li>1.2</li>\n",
       "\t<li>1.4</li>\n",
       "\t<li>1.6</li>\n",
       "\t<li>1.8</li>\n",
       "\t<li>2</li>\n",
       "\t<li>2.2</li>\n",
       "\t<li>2.4</li>\n",
       "\t<li>2.6</li>\n",
       "\t<li>2.8</li>\n",
       "\t<li>3</li>\n",
       "\t<li>3.2</li>\n",
       "\t<li>3.4</li>\n",
       "\t<li>3.6</li>\n",
       "\t<li>3.8</li>\n",
       "\t<li>4</li>\n",
       "\t<li>4.2</li>\n",
       "\t<li>4.4</li>\n",
       "\t<li>4.6</li>\n",
       "\t<li>4.8</li>\n",
       "\t<li>5</li>\n",
       "\t<li>5.2</li>\n",
       "\t<li>5.4</li>\n",
       "\t<li>5.6</li>\n",
       "\t<li>5.8</li>\n",
       "\t<li>6</li>\n",
       "\t<li>6.2</li>\n",
       "\t<li>6.4</li>\n",
       "\t<li>6.6</li>\n",
       "\t<li>6.8</li>\n",
       "\t<li>7</li>\n",
       "\t<li>7.2</li>\n",
       "\t<li>7.4</li>\n",
       "\t<li>7.6</li>\n",
       "\t<li>7.8</li>\n",
       "\t<li>8</li>\n",
       "\t<li>8.2</li>\n",
       "\t<li>8.4</li>\n",
       "\t<li>8.6</li>\n",
       "\t<li>8.8</li>\n",
       "\t<li>9</li>\n",
       "\t<li>9.2</li>\n",
       "\t<li>9.4</li>\n",
       "\t<li>9.6</li>\n",
       "\t<li>9.8</li>\n",
       "\t<li>10</li>\n",
       "</ol>\n"
      ],
      "text/latex": [
       "\\begin{enumerate*}\n",
       "\\item 1\n",
       "\\item 1.2\n",
       "\\item 1.4\n",
       "\\item 1.6\n",
       "\\item 1.8\n",
       "\\item 2\n",
       "\\item 2.2\n",
       "\\item 2.4\n",
       "\\item 2.6\n",
       "\\item 2.8\n",
       "\\item 3\n",
       "\\item 3.2\n",
       "\\item 3.4\n",
       "\\item 3.6\n",
       "\\item 3.8\n",
       "\\item 4\n",
       "\\item 4.2\n",
       "\\item 4.4\n",
       "\\item 4.6\n",
       "\\item 4.8\n",
       "\\item 5\n",
       "\\item 5.2\n",
       "\\item 5.4\n",
       "\\item 5.6\n",
       "\\item 5.8\n",
       "\\item 6\n",
       "\\item 6.2\n",
       "\\item 6.4\n",
       "\\item 6.6\n",
       "\\item 6.8\n",
       "\\item 7\n",
       "\\item 7.2\n",
       "\\item 7.4\n",
       "\\item 7.6\n",
       "\\item 7.8\n",
       "\\item 8\n",
       "\\item 8.2\n",
       "\\item 8.4\n",
       "\\item 8.6\n",
       "\\item 8.8\n",
       "\\item 9\n",
       "\\item 9.2\n",
       "\\item 9.4\n",
       "\\item 9.6\n",
       "\\item 9.8\n",
       "\\item 10\n",
       "\\end{enumerate*}\n"
      ],
      "text/markdown": [
       "1. 1\n",
       "2. 1.2\n",
       "3. 1.4\n",
       "4. 1.6\n",
       "5. 1.8\n",
       "6. 2\n",
       "7. 2.2\n",
       "8. 2.4\n",
       "9. 2.6\n",
       "10. 2.8\n",
       "11. 3\n",
       "12. 3.2\n",
       "13. 3.4\n",
       "14. 3.6\n",
       "15. 3.8\n",
       "16. 4\n",
       "17. 4.2\n",
       "18. 4.4\n",
       "19. 4.6\n",
       "20. 4.8\n",
       "21. 5\n",
       "22. 5.2\n",
       "23. 5.4\n",
       "24. 5.6\n",
       "25. 5.8\n",
       "26. 6\n",
       "27. 6.2\n",
       "28. 6.4\n",
       "29. 6.6\n",
       "30. 6.8\n",
       "31. 7\n",
       "32. 7.2\n",
       "33. 7.4\n",
       "34. 7.6\n",
       "35. 7.8\n",
       "36. 8\n",
       "37. 8.2\n",
       "38. 8.4\n",
       "39. 8.6\n",
       "40. 8.8\n",
       "41. 9\n",
       "42. 9.2\n",
       "43. 9.4\n",
       "44. 9.6\n",
       "45. 9.8\n",
       "46. 10\n",
       "\n",
       "\n"
      ],
      "text/plain": [
       " [1]  1.0  1.2  1.4  1.6  1.8  2.0  2.2  2.4  2.6  2.8  3.0  3.2  3.4  3.6  3.8\n",
       "[16]  4.0  4.2  4.4  4.6  4.8  5.0  5.2  5.4  5.6  5.8  6.0  6.2  6.4  6.6  6.8\n",
       "[31]  7.0  7.2  7.4  7.6  7.8  8.0  8.2  8.4  8.6  8.8  9.0  9.2  9.4  9.6  9.8\n",
       "[46] 10.0"
      ]
     },
     "metadata": {},
     "output_type": "display_data"
    }
   ],
   "source": [
    "x"
   ]
  },
  {
   "cell_type": "code",
   "execution_count": 68,
   "metadata": {},
   "outputs": [],
   "source": [
    "## Solamente para secuencias de paso entero ini:fin\n",
    "x2 <- 10:1"
   ]
  },
  {
   "cell_type": "code",
   "execution_count": 69,
   "metadata": {},
   "outputs": [
    {
     "data": {
      "text/html": [
       "<ol class=list-inline>\n",
       "\t<li>10</li>\n",
       "\t<li>9</li>\n",
       "\t<li>8</li>\n",
       "\t<li>7</li>\n",
       "\t<li>6</li>\n",
       "\t<li>5</li>\n",
       "\t<li>4</li>\n",
       "\t<li>3</li>\n",
       "\t<li>2</li>\n",
       "\t<li>1</li>\n",
       "</ol>\n"
      ],
      "text/latex": [
       "\\begin{enumerate*}\n",
       "\\item 10\n",
       "\\item 9\n",
       "\\item 8\n",
       "\\item 7\n",
       "\\item 6\n",
       "\\item 5\n",
       "\\item 4\n",
       "\\item 3\n",
       "\\item 2\n",
       "\\item 1\n",
       "\\end{enumerate*}\n"
      ],
      "text/markdown": [
       "1. 10\n",
       "2. 9\n",
       "3. 8\n",
       "4. 7\n",
       "5. 6\n",
       "6. 5\n",
       "7. 4\n",
       "8. 3\n",
       "9. 2\n",
       "10. 1\n",
       "\n",
       "\n"
      ],
      "text/plain": [
       " [1] 10  9  8  7  6  5  4  3  2  1"
      ]
     },
     "metadata": {},
     "output_type": "display_data"
    }
   ],
   "source": [
    "x2"
   ]
  },
  {
   "cell_type": "code",
   "execution_count": 12,
   "metadata": {},
   "outputs": [
    {
     "data": {
      "text/html": [
       "'numeric'"
      ],
      "text/latex": [
       "'numeric'"
      ],
      "text/markdown": [
       "'numeric'"
      ],
      "text/plain": [
       "[1] \"numeric\""
      ]
     },
     "metadata": {},
     "output_type": "display_data"
    }
   ],
   "source": [
    "# secuencia desde ini hasta fin, de una determinada cantidad de elementos\n",
    "a <- seq(0, 1, length.out = 5)\n"
   ]
  },
  {
   "cell_type": "markdown",
   "metadata": {},
   "source": [
    "### Slices"
   ]
  },
  {
   "cell_type": "code",
   "execution_count": 75,
   "metadata": {},
   "outputs": [
    {
     "data": {
      "text/html": [
       "<dl class=dl-horizontal>\n",
       "\t<dt>Santa Fe</dt>\n",
       "\t\t<dd>342</dd>\n",
       "\t<dt>Tostado</dt>\n",
       "\t\t<dd>3491</dd>\n",
       "\t<dt>Sastre</dt>\n",
       "\t\t<dd>3406</dd>\n",
       "</dl>\n"
      ],
      "text/latex": [
       "\\begin{description*}\n",
       "\\item[Santa Fe] 342\n",
       "\\item[Tostado] 3491\n",
       "\\item[Sastre] 3406\n",
       "\\end{description*}\n"
      ],
      "text/markdown": [
       "Santa Fe\n",
       ":   342Tostado\n",
       ":   3491Sastre\n",
       ":   3406\n",
       "\n"
      ],
      "text/plain": [
       "Santa Fe  Tostado   Sastre \n",
       "     342     3491     3406 "
      ]
     },
     "metadata": {},
     "output_type": "display_data"
    }
   ],
   "source": [
    "codigos[1:3]"
   ]
  },
  {
   "cell_type": "code",
   "execution_count": 76,
   "metadata": {},
   "outputs": [
    {
     "data": {
      "text/html": [
       "<dl class=dl-horizontal>\n",
       "\t<dt>Santa Fe</dt>\n",
       "\t\t<dd>342</dd>\n",
       "\t<dt>Sastre</dt>\n",
       "\t\t<dd>3406</dd>\n",
       "</dl>\n"
      ],
      "text/latex": [
       "\\begin{description*}\n",
       "\\item[Santa Fe] 342\n",
       "\\item[Sastre] 3406\n",
       "\\end{description*}\n"
      ],
      "text/markdown": [
       "Santa Fe\n",
       ":   342Sastre\n",
       ":   3406\n",
       "\n"
      ],
      "text/plain": [
       "Santa Fe   Sastre \n",
       "     342     3406 "
      ]
     },
     "metadata": {},
     "output_type": "display_data"
    }
   ],
   "source": [
    "codigos[c(1,3)]"
   ]
  },
  {
   "cell_type": "markdown",
   "metadata": {},
   "source": [
    "### Coerción \n",
    "Ojo con R, que a diferencia de otros lenguajes intenta hacer la mejor alternativa para eviar un error, por ejemplo, convertir datos para no dar un error. Por ejemplo:"
   ]
  },
  {
   "cell_type": "code",
   "execution_count": 1,
   "metadata": {},
   "outputs": [],
   "source": [
    "v <- c(1,2,3,\"Cinco\")"
   ]
  },
  {
   "cell_type": "markdown",
   "metadata": {},
   "source": [
    "convirtió todos los valores ingresados como valores numéricos a caracteres:"
   ]
  },
  {
   "cell_type": "code",
   "execution_count": 2,
   "metadata": {},
   "outputs": [
    {
     "data": {
      "text/html": [
       "<ol class=list-inline>\n",
       "\t<li>'1'</li>\n",
       "\t<li>'2'</li>\n",
       "\t<li>'3'</li>\n",
       "\t<li>'Cinco'</li>\n",
       "</ol>\n"
      ],
      "text/latex": [
       "\\begin{enumerate*}\n",
       "\\item '1'\n",
       "\\item '2'\n",
       "\\item '3'\n",
       "\\item 'Cinco'\n",
       "\\end{enumerate*}\n"
      ],
      "text/markdown": [
       "1. '1'\n",
       "2. '2'\n",
       "3. '3'\n",
       "4. 'Cinco'\n",
       "\n",
       "\n"
      ],
      "text/plain": [
       "[1] \"1\"     \"2\"     \"3\"     \"Cinco\""
      ]
     },
     "metadata": {},
     "output_type": "display_data"
    }
   ],
   "source": [
    "v"
   ]
  },
  {
   "cell_type": "markdown",
   "metadata": {},
   "source": [
    "Podemos también forzar esta coerción, convirtiendolo manualmente con el uso de por ejemplo **as.character()** o **as.numeric()**:"
   ]
  },
  {
   "cell_type": "code",
   "execution_count": 6,
   "metadata": {},
   "outputs": [
    {
     "data": {
      "text/html": [
       "<ol class=list-inline>\n",
       "\t<li>'1'</li>\n",
       "\t<li>'2'</li>\n",
       "\t<li>'3'</li>\n",
       "\t<li>'4'</li>\n",
       "\t<li>'5'</li>\n",
       "</ol>\n"
      ],
      "text/latex": [
       "\\begin{enumerate*}\n",
       "\\item '1'\n",
       "\\item '2'\n",
       "\\item '3'\n",
       "\\item '4'\n",
       "\\item '5'\n",
       "\\end{enumerate*}\n"
      ],
      "text/markdown": [
       "1. '1'\n",
       "2. '2'\n",
       "3. '3'\n",
       "4. '4'\n",
       "5. '5'\n",
       "\n",
       "\n"
      ],
      "text/plain": [
       "[1] \"1\" \"2\" \"3\" \"4\" \"5\""
      ]
     },
     "metadata": {},
     "output_type": "display_data"
    },
    {
     "data": {
      "text/html": [
       "<ol class=list-inline>\n",
       "\t<li>1</li>\n",
       "\t<li>2</li>\n",
       "\t<li>3</li>\n",
       "\t<li>4</li>\n",
       "\t<li>5</li>\n",
       "</ol>\n"
      ],
      "text/latex": [
       "\\begin{enumerate*}\n",
       "\\item 1\n",
       "\\item 2\n",
       "\\item 3\n",
       "\\item 4\n",
       "\\item 5\n",
       "\\end{enumerate*}\n"
      ],
      "text/markdown": [
       "1. 1\n",
       "2. 2\n",
       "3. 3\n",
       "4. 4\n",
       "5. 5\n",
       "\n",
       "\n"
      ],
      "text/plain": [
       "[1] 1 2 3 4 5"
      ]
     },
     "metadata": {},
     "output_type": "display_data"
    },
    {
     "data": {
      "text/html": [
       "<ol class=list-inline>\n",
       "\t<li>1</li>\n",
       "\t<li>2</li>\n",
       "\t<li>3</li>\n",
       "\t<li>4</li>\n",
       "\t<li>5</li>\n",
       "</ol>\n"
      ],
      "text/latex": [
       "\\begin{enumerate*}\n",
       "\\item 1\n",
       "\\item 2\n",
       "\\item 3\n",
       "\\item 4\n",
       "\\item 5\n",
       "\\end{enumerate*}\n"
      ],
      "text/markdown": [
       "1. 1\n",
       "2. 2\n",
       "3. 3\n",
       "4. 4\n",
       "5. 5\n",
       "\n",
       "\n"
      ],
      "text/plain": [
       "[1] 1 2 3 4 5"
      ]
     },
     "metadata": {},
     "output_type": "display_data"
    }
   ],
   "source": [
    "p <- 1:5\n",
    "q <- as.character(p)\n",
    "r <- as.numeric(q)\n",
    "q\n",
    "r"
   ]
  },
  {
   "cell_type": "markdown",
   "metadata": {},
   "source": [
    "### Not Available data\n",
    "Si queremos convertir algo imposible, entonces aparece el tipo de dato Not Available,  NA."
   ]
  },
  {
   "cell_type": "code",
   "execution_count": 9,
   "metadata": {},
   "outputs": [
    {
     "ename": "ERROR",
     "evalue": "Error in as.numeric(c): cannot coerce type 'builtin' to vector of type 'double'\n",
     "output_type": "error",
     "traceback": [
      "Error in as.numeric(c): cannot coerce type 'builtin' to vector of type 'double'\nTraceback:\n"
     ]
    }
   ],
   "source": [
    "y <- c('1', '2')\n",
    "as.numeric(c)"
   ]
  },
  {
   "cell_type": "code",
   "execution_count": 41,
   "metadata": {},
   "outputs": [
    {
     "name": "stdout",
     "output_type": "stream",
     "text": [
      " int [1:1000] 2 1 3 2 1 3 1 4 3 2 ...\n"
     ]
    },
    {
     "data": {
      "text/html": [
       "145"
      ],
      "text/latex": [
       "145"
      ],
      "text/markdown": [
       "145"
      ],
      "text/plain": [
       "[1] 145"
      ]
     },
     "metadata": {},
     "output_type": "display_data"
    }
   ],
   "source": [
    "# Cargamos otro dataset con varios NAs\n",
    "data(na_example)\n",
    "# veo la estructura\n",
    "str(na_example)\n",
    "# devuelve indices con TRUE o FALSE según halle NAs\n",
    "ind <- is.na(na_example)\n",
    "# puedo sumarlos para saber cuantos NAs hay\n",
    "sum(ind)"
   ]
  },
  {
   "cell_type": "code",
   "execution_count": 42,
   "metadata": {},
   "outputs": [
    {
     "data": {
      "text/html": [
       "&lt;NA&gt;"
      ],
      "text/latex": [
       "<NA>"
      ],
      "text/markdown": [
       "&lt;NA&gt;"
      ],
      "text/plain": [
       "[1] NA"
      ]
     },
     "metadata": {},
     "output_type": "display_data"
    },
    {
     "data": {
      "text/html": [
       "2.30175438596491"
      ],
      "text/latex": [
       "2.30175438596491"
      ],
      "text/markdown": [
       "2.30175438596491"
      ],
      "text/plain": [
       "[1] 2.301754"
      ]
     },
     "metadata": {},
     "output_type": "display_data"
    }
   ],
   "source": [
    "# no se puede calcular el promedio con valores NA\n",
    "mean(na_example)\n",
    "\n",
    "# Compute the average, for entries of na_example that are not NA \n",
    "mean(na_example[!ind])"
   ]
  },
  {
   "cell_type": "markdown",
   "metadata": {},
   "source": [
    "## Ordenamiento\n",
    "\n",
    "### sort"
   ]
  },
  {
   "cell_type": "code",
   "execution_count": 16,
   "metadata": {},
   "outputs": [
    {
     "data": {
      "text/html": [
       "<ol class=list-inline>\n",
       "\t<li>2</li>\n",
       "\t<li>4</li>\n",
       "\t<li>5</li>\n",
       "\t<li>5</li>\n",
       "\t<li>7</li>\n",
       "\t<li>8</li>\n",
       "\t<li>11</li>\n",
       "\t<li>12</li>\n",
       "\t<li>12</li>\n",
       "\t<li>16</li>\n",
       "\t<li>19</li>\n",
       "\t<li>21</li>\n",
       "\t<li>22</li>\n",
       "\t<li>27</li>\n",
       "\t<li>32</li>\n",
       "\t<li>36</li>\n",
       "\t<li>38</li>\n",
       "\t<li>53</li>\n",
       "\t<li>63</li>\n",
       "\t<li>65</li>\n",
       "\t<li>67</li>\n",
       "\t<li>84</li>\n",
       "\t<li>93</li>\n",
       "\t<li>93</li>\n",
       "\t<li>97</li>\n",
       "\t<li>97</li>\n",
       "\t<li>99</li>\n",
       "\t<li>111</li>\n",
       "\t<li>116</li>\n",
       "\t<li>118</li>\n",
       "\t<li>120</li>\n",
       "\t<li>135</li>\n",
       "\t<li>142</li>\n",
       "\t<li>207</li>\n",
       "\t<li>219</li>\n",
       "\t<li>232</li>\n",
       "\t<li>246</li>\n",
       "\t<li>250</li>\n",
       "\t<li>286</li>\n",
       "\t<li>293</li>\n",
       "\t<li>310</li>\n",
       "\t<li>321</li>\n",
       "\t<li>351</li>\n",
       "\t<li>364</li>\n",
       "\t<li>376</li>\n",
       "\t<li>413</li>\n",
       "\t<li>457</li>\n",
       "\t<li>517</li>\n",
       "\t<li>669</li>\n",
       "\t<li>805</li>\n",
       "\t<li>1257</li>\n",
       "</ol>\n"
      ],
      "text/latex": [
       "\\begin{enumerate*}\n",
       "\\item 2\n",
       "\\item 4\n",
       "\\item 5\n",
       "\\item 5\n",
       "\\item 7\n",
       "\\item 8\n",
       "\\item 11\n",
       "\\item 12\n",
       "\\item 12\n",
       "\\item 16\n",
       "\\item 19\n",
       "\\item 21\n",
       "\\item 22\n",
       "\\item 27\n",
       "\\item 32\n",
       "\\item 36\n",
       "\\item 38\n",
       "\\item 53\n",
       "\\item 63\n",
       "\\item 65\n",
       "\\item 67\n",
       "\\item 84\n",
       "\\item 93\n",
       "\\item 93\n",
       "\\item 97\n",
       "\\item 97\n",
       "\\item 99\n",
       "\\item 111\n",
       "\\item 116\n",
       "\\item 118\n",
       "\\item 120\n",
       "\\item 135\n",
       "\\item 142\n",
       "\\item 207\n",
       "\\item 219\n",
       "\\item 232\n",
       "\\item 246\n",
       "\\item 250\n",
       "\\item 286\n",
       "\\item 293\n",
       "\\item 310\n",
       "\\item 321\n",
       "\\item 351\n",
       "\\item 364\n",
       "\\item 376\n",
       "\\item 413\n",
       "\\item 457\n",
       "\\item 517\n",
       "\\item 669\n",
       "\\item 805\n",
       "\\item 1257\n",
       "\\end{enumerate*}\n"
      ],
      "text/markdown": [
       "1. 2\n",
       "2. 4\n",
       "3. 5\n",
       "4. 5\n",
       "5. 7\n",
       "6. 8\n",
       "7. 11\n",
       "8. 12\n",
       "9. 12\n",
       "10. 16\n",
       "11. 19\n",
       "12. 21\n",
       "13. 22\n",
       "14. 27\n",
       "15. 32\n",
       "16. 36\n",
       "17. 38\n",
       "18. 53\n",
       "19. 63\n",
       "20. 65\n",
       "21. 67\n",
       "22. 84\n",
       "23. 93\n",
       "24. 93\n",
       "25. 97\n",
       "26. 97\n",
       "27. 99\n",
       "28. 111\n",
       "29. 116\n",
       "30. 118\n",
       "31. 120\n",
       "32. 135\n",
       "33. 142\n",
       "34. 207\n",
       "35. 219\n",
       "36. 232\n",
       "37. 246\n",
       "38. 250\n",
       "39. 286\n",
       "40. 293\n",
       "41. 310\n",
       "42. 321\n",
       "43. 351\n",
       "44. 364\n",
       "45. 376\n",
       "46. 413\n",
       "47. 457\n",
       "48. 517\n",
       "49. 669\n",
       "50. 805\n",
       "51. 1257\n",
       "\n",
       "\n"
      ],
      "text/plain": [
       " [1]    2    4    5    5    7    8   11   12   12   16   19   21   22   27   32\n",
       "[16]   36   38   53   63   65   67   84   93   93   97   97   99  111  116  118\n",
       "[31]  120  135  142  207  219  232  246  250  286  293  310  321  351  364  376\n",
       "[46]  413  457  517  669  805 1257"
      ]
     },
     "metadata": {},
     "output_type": "display_data"
    }
   ],
   "source": [
    "sort(murders$total)"
   ]
  },
  {
   "cell_type": "markdown",
   "metadata": {},
   "source": [
    "### order y rank\n",
    "\n",
    "**order** devuelve un vector con los índices de los valores ordenados. Es útil para ordenar una tabla por alguna columna en especial.\n",
    "\n",
    "**rank** devuelve la posición que tiene cada elemento del vector original en el ordenado, qué posición de *ranking* ocupa. Por ejemplo, el ``rank`` de un vector que tiene ``c(10, 100, 1)`` devolvería ``c(2,3,1)``"
   ]
  },
  {
   "cell_type": "code",
   "execution_count": 18,
   "metadata": {},
   "outputs": [
    {
     "data": {
      "text/html": [
       "<ol class=list-inline>\n",
       "\t<li>2</li>\n",
       "\t<li>3</li>\n",
       "\t<li>1</li>\n",
       "</ol>\n"
      ],
      "text/latex": [
       "\\begin{enumerate*}\n",
       "\\item 2\n",
       "\\item 3\n",
       "\\item 1\n",
       "\\end{enumerate*}\n"
      ],
      "text/markdown": [
       "1. 2\n",
       "2. 3\n",
       "3. 1\n",
       "\n",
       "\n"
      ],
      "text/plain": [
       "[1] 2 3 1"
      ]
     },
     "metadata": {},
     "output_type": "display_data"
    }
   ],
   "source": [
    "x <- c(12, 10, 11)\n",
    "indices <- order(x)\n",
    "indices"
   ]
  },
  {
   "cell_type": "code",
   "execution_count": 22,
   "metadata": {},
   "outputs": [
    {
     "data": {
      "text/html": [
       "<ol class=list-inline>\n",
       "\t<li>10</li>\n",
       "\t<li>11</li>\n",
       "\t<li>12</li>\n",
       "</ol>\n"
      ],
      "text/latex": [
       "\\begin{enumerate*}\n",
       "\\item 10\n",
       "\\item 11\n",
       "\\item 12\n",
       "\\end{enumerate*}\n"
      ],
      "text/markdown": [
       "1. 10\n",
       "2. 11\n",
       "3. 12\n",
       "\n",
       "\n"
      ],
      "text/plain": [
       "[1] 10 11 12"
      ]
     },
     "metadata": {},
     "output_type": "display_data"
    }
   ],
   "source": [
    "x[indices]"
   ]
  },
  {
   "cell_type": "markdown",
   "metadata": {},
   "source": [
    "Por ejemplo que queremos **ordenar el dataframe por el total de homicidios** y luego mostrar cada columna según este mismo orden:"
   ]
  },
  {
   "cell_type": "code",
   "execution_count": 24,
   "metadata": {},
   "outputs": [
    {
     "data": {
      "text/html": [
       "<ol class=list-inline>\n",
       "\t<li>2</li>\n",
       "\t<li>4</li>\n",
       "\t<li>5</li>\n",
       "\t<li>5</li>\n",
       "\t<li>7</li>\n",
       "\t<li>8</li>\n",
       "\t<li>11</li>\n",
       "\t<li>12</li>\n",
       "\t<li>12</li>\n",
       "\t<li>16</li>\n",
       "\t<li>19</li>\n",
       "\t<li>21</li>\n",
       "\t<li>22</li>\n",
       "\t<li>27</li>\n",
       "\t<li>32</li>\n",
       "\t<li>36</li>\n",
       "\t<li>38</li>\n",
       "\t<li>53</li>\n",
       "\t<li>63</li>\n",
       "\t<li>65</li>\n",
       "\t<li>67</li>\n",
       "\t<li>84</li>\n",
       "\t<li>93</li>\n",
       "\t<li>93</li>\n",
       "\t<li>97</li>\n",
       "\t<li>97</li>\n",
       "\t<li>99</li>\n",
       "\t<li>111</li>\n",
       "\t<li>116</li>\n",
       "\t<li>118</li>\n",
       "\t<li>120</li>\n",
       "\t<li>135</li>\n",
       "\t<li>142</li>\n",
       "\t<li>207</li>\n",
       "\t<li>219</li>\n",
       "\t<li>232</li>\n",
       "\t<li>246</li>\n",
       "\t<li>250</li>\n",
       "\t<li>286</li>\n",
       "\t<li>293</li>\n",
       "\t<li>310</li>\n",
       "\t<li>321</li>\n",
       "\t<li>351</li>\n",
       "\t<li>364</li>\n",
       "\t<li>376</li>\n",
       "\t<li>413</li>\n",
       "\t<li>457</li>\n",
       "\t<li>517</li>\n",
       "\t<li>669</li>\n",
       "\t<li>805</li>\n",
       "\t<li>1257</li>\n",
       "</ol>\n"
      ],
      "text/latex": [
       "\\begin{enumerate*}\n",
       "\\item 2\n",
       "\\item 4\n",
       "\\item 5\n",
       "\\item 5\n",
       "\\item 7\n",
       "\\item 8\n",
       "\\item 11\n",
       "\\item 12\n",
       "\\item 12\n",
       "\\item 16\n",
       "\\item 19\n",
       "\\item 21\n",
       "\\item 22\n",
       "\\item 27\n",
       "\\item 32\n",
       "\\item 36\n",
       "\\item 38\n",
       "\\item 53\n",
       "\\item 63\n",
       "\\item 65\n",
       "\\item 67\n",
       "\\item 84\n",
       "\\item 93\n",
       "\\item 93\n",
       "\\item 97\n",
       "\\item 97\n",
       "\\item 99\n",
       "\\item 111\n",
       "\\item 116\n",
       "\\item 118\n",
       "\\item 120\n",
       "\\item 135\n",
       "\\item 142\n",
       "\\item 207\n",
       "\\item 219\n",
       "\\item 232\n",
       "\\item 246\n",
       "\\item 250\n",
       "\\item 286\n",
       "\\item 293\n",
       "\\item 310\n",
       "\\item 321\n",
       "\\item 351\n",
       "\\item 364\n",
       "\\item 376\n",
       "\\item 413\n",
       "\\item 457\n",
       "\\item 517\n",
       "\\item 669\n",
       "\\item 805\n",
       "\\item 1257\n",
       "\\end{enumerate*}\n"
      ],
      "text/markdown": [
       "1. 2\n",
       "2. 4\n",
       "3. 5\n",
       "4. 5\n",
       "5. 7\n",
       "6. 8\n",
       "7. 11\n",
       "8. 12\n",
       "9. 12\n",
       "10. 16\n",
       "11. 19\n",
       "12. 21\n",
       "13. 22\n",
       "14. 27\n",
       "15. 32\n",
       "16. 36\n",
       "17. 38\n",
       "18. 53\n",
       "19. 63\n",
       "20. 65\n",
       "21. 67\n",
       "22. 84\n",
       "23. 93\n",
       "24. 93\n",
       "25. 97\n",
       "26. 97\n",
       "27. 99\n",
       "28. 111\n",
       "29. 116\n",
       "30. 118\n",
       "31. 120\n",
       "32. 135\n",
       "33. 142\n",
       "34. 207\n",
       "35. 219\n",
       "36. 232\n",
       "37. 246\n",
       "38. 250\n",
       "39. 286\n",
       "40. 293\n",
       "41. 310\n",
       "42. 321\n",
       "43. 351\n",
       "44. 364\n",
       "45. 376\n",
       "46. 413\n",
       "47. 457\n",
       "48. 517\n",
       "49. 669\n",
       "50. 805\n",
       "51. 1257\n",
       "\n",
       "\n"
      ],
      "text/plain": [
       " [1]    2    4    5    5    7    8   11   12   12   16   19   21   22   27   32\n",
       "[16]   36   38   53   63   65   67   84   93   93   97   97   99  111  116  118\n",
       "[31]  120  135  142  207  219  232  246  250  286  293  310  321  351  364  376\n",
       "[46]  413  457  517  669  805 1257"
      ]
     },
     "metadata": {},
     "output_type": "display_data"
    }
   ],
   "source": [
    "indices <- order(murders$total)\n",
    "murders$total[indices]"
   ]
  },
  {
   "cell_type": "code",
   "execution_count": 25,
   "metadata": {},
   "outputs": [
    {
     "data": {
      "text/html": [
       "<ol class=list-inline>\n",
       "\t<li>'Vermont'</li>\n",
       "\t<li>'North Dakota'</li>\n",
       "\t<li>'New Hampshire'</li>\n",
       "\t<li>'Wyoming'</li>\n",
       "\t<li>'Hawaii'</li>\n",
       "\t<li>'South Dakota'</li>\n",
       "\t<li>'Maine'</li>\n",
       "\t<li>'Idaho'</li>\n",
       "\t<li>'Montana'</li>\n",
       "\t<li>'Rhode Island'</li>\n",
       "\t<li>'Alaska'</li>\n",
       "\t<li>'Iowa'</li>\n",
       "\t<li>'Utah'</li>\n",
       "\t<li>'West Virginia'</li>\n",
       "\t<li>'Nebraska'</li>\n",
       "\t<li>'Oregon'</li>\n",
       "\t<li>'Delaware'</li>\n",
       "\t<li>'Minnesota'</li>\n",
       "\t<li>'Kansas'</li>\n",
       "\t<li>'Colorado'</li>\n",
       "\t<li>'New Mexico'</li>\n",
       "\t<li>'Nevada'</li>\n",
       "\t<li>'Arkansas'</li>\n",
       "\t<li>'Washington'</li>\n",
       "\t<li>'Connecticut'</li>\n",
       "\t<li>'Wisconsin'</li>\n",
       "\t<li>'District of Columbia'</li>\n",
       "\t<li>'Oklahoma'</li>\n",
       "\t<li>'Kentucky'</li>\n",
       "\t<li>'Massachusetts'</li>\n",
       "\t<li>'Mississippi'</li>\n",
       "\t<li>'Alabama'</li>\n",
       "\t<li>'Indiana'</li>\n",
       "\t<li>'South Carolina'</li>\n",
       "\t<li>'Tennessee'</li>\n",
       "\t<li>'Arizona'</li>\n",
       "\t<li>'New Jersey'</li>\n",
       "\t<li>'Virginia'</li>\n",
       "\t<li>'North Carolina'</li>\n",
       "\t<li>'Maryland'</li>\n",
       "\t<li>'Ohio'</li>\n",
       "\t<li>'Missouri'</li>\n",
       "\t<li>'Louisiana'</li>\n",
       "\t<li>'Illinois'</li>\n",
       "\t<li>'Georgia'</li>\n",
       "\t<li>'Michigan'</li>\n",
       "\t<li>'Pennsylvania'</li>\n",
       "\t<li>'New York'</li>\n",
       "\t<li>'Florida'</li>\n",
       "\t<li>'Texas'</li>\n",
       "\t<li>'California'</li>\n",
       "</ol>\n"
      ],
      "text/latex": [
       "\\begin{enumerate*}\n",
       "\\item 'Vermont'\n",
       "\\item 'North Dakota'\n",
       "\\item 'New Hampshire'\n",
       "\\item 'Wyoming'\n",
       "\\item 'Hawaii'\n",
       "\\item 'South Dakota'\n",
       "\\item 'Maine'\n",
       "\\item 'Idaho'\n",
       "\\item 'Montana'\n",
       "\\item 'Rhode Island'\n",
       "\\item 'Alaska'\n",
       "\\item 'Iowa'\n",
       "\\item 'Utah'\n",
       "\\item 'West Virginia'\n",
       "\\item 'Nebraska'\n",
       "\\item 'Oregon'\n",
       "\\item 'Delaware'\n",
       "\\item 'Minnesota'\n",
       "\\item 'Kansas'\n",
       "\\item 'Colorado'\n",
       "\\item 'New Mexico'\n",
       "\\item 'Nevada'\n",
       "\\item 'Arkansas'\n",
       "\\item 'Washington'\n",
       "\\item 'Connecticut'\n",
       "\\item 'Wisconsin'\n",
       "\\item 'District of Columbia'\n",
       "\\item 'Oklahoma'\n",
       "\\item 'Kentucky'\n",
       "\\item 'Massachusetts'\n",
       "\\item 'Mississippi'\n",
       "\\item 'Alabama'\n",
       "\\item 'Indiana'\n",
       "\\item 'South Carolina'\n",
       "\\item 'Tennessee'\n",
       "\\item 'Arizona'\n",
       "\\item 'New Jersey'\n",
       "\\item 'Virginia'\n",
       "\\item 'North Carolina'\n",
       "\\item 'Maryland'\n",
       "\\item 'Ohio'\n",
       "\\item 'Missouri'\n",
       "\\item 'Louisiana'\n",
       "\\item 'Illinois'\n",
       "\\item 'Georgia'\n",
       "\\item 'Michigan'\n",
       "\\item 'Pennsylvania'\n",
       "\\item 'New York'\n",
       "\\item 'Florida'\n",
       "\\item 'Texas'\n",
       "\\item 'California'\n",
       "\\end{enumerate*}\n"
      ],
      "text/markdown": [
       "1. 'Vermont'\n",
       "2. 'North Dakota'\n",
       "3. 'New Hampshire'\n",
       "4. 'Wyoming'\n",
       "5. 'Hawaii'\n",
       "6. 'South Dakota'\n",
       "7. 'Maine'\n",
       "8. 'Idaho'\n",
       "9. 'Montana'\n",
       "10. 'Rhode Island'\n",
       "11. 'Alaska'\n",
       "12. 'Iowa'\n",
       "13. 'Utah'\n",
       "14. 'West Virginia'\n",
       "15. 'Nebraska'\n",
       "16. 'Oregon'\n",
       "17. 'Delaware'\n",
       "18. 'Minnesota'\n",
       "19. 'Kansas'\n",
       "20. 'Colorado'\n",
       "21. 'New Mexico'\n",
       "22. 'Nevada'\n",
       "23. 'Arkansas'\n",
       "24. 'Washington'\n",
       "25. 'Connecticut'\n",
       "26. 'Wisconsin'\n",
       "27. 'District of Columbia'\n",
       "28. 'Oklahoma'\n",
       "29. 'Kentucky'\n",
       "30. 'Massachusetts'\n",
       "31. 'Mississippi'\n",
       "32. 'Alabama'\n",
       "33. 'Indiana'\n",
       "34. 'South Carolina'\n",
       "35. 'Tennessee'\n",
       "36. 'Arizona'\n",
       "37. 'New Jersey'\n",
       "38. 'Virginia'\n",
       "39. 'North Carolina'\n",
       "40. 'Maryland'\n",
       "41. 'Ohio'\n",
       "42. 'Missouri'\n",
       "43. 'Louisiana'\n",
       "44. 'Illinois'\n",
       "45. 'Georgia'\n",
       "46. 'Michigan'\n",
       "47. 'Pennsylvania'\n",
       "48. 'New York'\n",
       "49. 'Florida'\n",
       "50. 'Texas'\n",
       "51. 'California'\n",
       "\n",
       "\n"
      ],
      "text/plain": [
       " [1] \"Vermont\"              \"North Dakota\"         \"New Hampshire\"       \n",
       " [4] \"Wyoming\"              \"Hawaii\"               \"South Dakota\"        \n",
       " [7] \"Maine\"                \"Idaho\"                \"Montana\"             \n",
       "[10] \"Rhode Island\"         \"Alaska\"               \"Iowa\"                \n",
       "[13] \"Utah\"                 \"West Virginia\"        \"Nebraska\"            \n",
       "[16] \"Oregon\"               \"Delaware\"             \"Minnesota\"           \n",
       "[19] \"Kansas\"               \"Colorado\"             \"New Mexico\"          \n",
       "[22] \"Nevada\"               \"Arkansas\"             \"Washington\"          \n",
       "[25] \"Connecticut\"          \"Wisconsin\"            \"District of Columbia\"\n",
       "[28] \"Oklahoma\"             \"Kentucky\"             \"Massachusetts\"       \n",
       "[31] \"Mississippi\"          \"Alabama\"              \"Indiana\"             \n",
       "[34] \"South Carolina\"       \"Tennessee\"            \"Arizona\"             \n",
       "[37] \"New Jersey\"           \"Virginia\"             \"North Carolina\"      \n",
       "[40] \"Maryland\"             \"Ohio\"                 \"Missouri\"            \n",
       "[43] \"Louisiana\"            \"Illinois\"             \"Georgia\"             \n",
       "[46] \"Michigan\"             \"Pennsylvania\"         \"New York\"            \n",
       "[49] \"Florida\"              \"Texas\"                \"California\"          "
      ]
     },
     "metadata": {},
     "output_type": "display_data"
    }
   ],
   "source": [
    "# ahora vemos los estados\n",
    "murders$state[indices]"
   ]
  },
  {
   "cell_type": "code",
   "execution_count": 37,
   "metadata": {},
   "outputs": [
    {
     "data": {
      "text/html": [
       "<ol class=list-inline>\n",
       "\t<li>2</li>\n",
       "\t<li>3</li>\n",
       "\t<li>1</li>\n",
       "</ol>\n"
      ],
      "text/latex": [
       "\\begin{enumerate*}\n",
       "\\item 2\n",
       "\\item 3\n",
       "\\item 1\n",
       "\\end{enumerate*}\n"
      ],
      "text/markdown": [
       "1. 2\n",
       "2. 3\n",
       "3. 1\n",
       "\n",
       "\n"
      ],
      "text/plain": [
       "[1] 2 3 1"
      ]
     },
     "metadata": {},
     "output_type": "display_data"
    }
   ],
   "source": [
    "# ejemplo de rank\n",
    "x <- c(10, 100, 1)\n",
    "rank(x)"
   ]
  },
  {
   "cell_type": "markdown",
   "metadata": {},
   "source": [
    "Por ejemplo, quiero armar un dataframe que tenga 2 columnas, los nombres de los estados y el ranking de población:"
   ]
  },
  {
   "cell_type": "code",
   "execution_count": 36,
   "metadata": {},
   "outputs": [
    {
     "data": {
      "text/html": [
       "<table>\n",
       "<thead><tr><th scope=col>state_name</th><th scope=col>rank_population</th></tr></thead>\n",
       "<tbody>\n",
       "\t<tr><td>Alabama   </td><td>29        </td></tr>\n",
       "\t<tr><td>Alaska    </td><td> 5        </td></tr>\n",
       "\t<tr><td>Arizona   </td><td>36        </td></tr>\n",
       "\t<tr><td>Arkansas  </td><td>20        </td></tr>\n",
       "\t<tr><td>California</td><td>51        </td></tr>\n",
       "\t<tr><td>Colorado  </td><td>30        </td></tr>\n",
       "</tbody>\n",
       "</table>\n"
      ],
      "text/latex": [
       "\\begin{tabular}{r|ll}\n",
       " state\\_name & rank\\_population\\\\\n",
       "\\hline\n",
       "\t Alabama    & 29        \\\\\n",
       "\t Alaska     &  5        \\\\\n",
       "\t Arizona    & 36        \\\\\n",
       "\t Arkansas   & 20        \\\\\n",
       "\t California & 51        \\\\\n",
       "\t Colorado   & 30        \\\\\n",
       "\\end{tabular}\n"
      ],
      "text/markdown": [
       "\n",
       "state_name | rank_population | \n",
       "|---|---|---|---|---|---|\n",
       "| Alabama    | 29         | \n",
       "| Alaska     |  5         | \n",
       "| Arizona    | 36         | \n",
       "| Arkansas   | 20         | \n",
       "| California | 51         | \n",
       "| Colorado   | 30         | \n",
       "\n",
       "\n"
      ],
      "text/plain": [
       "  state_name rank_population\n",
       "1 Alabama    29             \n",
       "2 Alaska      5             \n",
       "3 Arizona    36             \n",
       "4 Arkansas   20             \n",
       "5 California 51             \n",
       "6 Colorado   30             "
      ]
     },
     "metadata": {},
     "output_type": "display_data"
    }
   ],
   "source": [
    "# Define a variable states to be the state names \n",
    "states <- murders$state\n",
    "\n",
    "# Define a variable ranks to determine the population size ranks \n",
    "ranks <- rank(murders$population)\n",
    "\n",
    "# Armo el dataframe\n",
    "my_df <- data.frame(state_name = states, rank_population = ranks)  \n",
    "head(my_df)"
   ]
  },
  {
   "cell_type": "markdown",
   "metadata": {},
   "source": [
    "Si quisiera mostrar los estados y el ranking de cada estado según su población"
   ]
  },
  {
   "cell_type": "code",
   "execution_count": null,
   "metadata": {},
   "outputs": [],
   "source": [
    "# Define a variable states to be the state names from the murders data frame\n",
    "states <- murders$state\n",
    "\n",
    "# Define a variable ranks to determine the population size ranks \n",
    "ranks <- rank(murders$population)\n",
    "\n",
    "# Define a variable ind to store the indexes needed to order the population values\n",
    "ind <- order(murders$population)\n",
    "\n",
    "# Create a data frame my_df with the state name and its rank and ordered from least populous to most \n",
    "my_df = data.frame(state_name = states[ind], population_rank = ranks[ind])"
   ]
  },
  {
   "cell_type": "markdown",
   "metadata": {},
   "source": [
    "### Máximos o mínimos\n",
    "``max() / min()`` devuelve el valor máximo/mínimo de un vector o columna, por ej"
   ]
  },
  {
   "cell_type": "code",
   "execution_count": 26,
   "metadata": {},
   "outputs": [
    {
     "data": {
      "text/html": [
       "1257"
      ],
      "text/latex": [
       "1257"
      ],
      "text/markdown": [
       "1257"
      ],
      "text/plain": [
       "[1] 1257"
      ]
     },
     "metadata": {},
     "output_type": "display_data"
    }
   ],
   "source": [
    "max(murders$total)"
   ]
  },
  {
   "cell_type": "markdown",
   "metadata": {},
   "source": [
    "Para saber en qué índice está ese máximo/mínimo, ``which.max()/wich.min()``"
   ]
  },
  {
   "cell_type": "code",
   "execution_count": 28,
   "metadata": {},
   "outputs": [
    {
     "data": {
      "text/html": [
       "5"
      ],
      "text/latex": [
       "5"
      ],
      "text/markdown": [
       "5"
      ],
      "text/plain": [
       "[1] 5"
      ]
     },
     "metadata": {},
     "output_type": "display_data"
    },
    {
     "data": {
      "text/html": [
       "'California'"
      ],
      "text/latex": [
       "'California'"
      ],
      "text/markdown": [
       "'California'"
      ],
      "text/plain": [
       "[1] \"California\""
      ]
     },
     "metadata": {},
     "output_type": "display_data"
    }
   ],
   "source": [
    "i_max <- which.max(murders$total)\n",
    "i_max\n",
    "murders$state[i_max]"
   ]
  },
  {
   "cell_type": "code",
   "execution_count": 44,
   "metadata": {},
   "outputs": [
    {
     "data": {
      "text/html": [
       "'California'"
      ],
      "text/latex": [
       "'California'"
      ],
      "text/markdown": [
       "'California'"
      ],
      "text/plain": [
       "[1] \"California\""
      ]
     },
     "metadata": {},
     "output_type": "display_data"
    }
   ],
   "source": [
    "# Estado de mayor población en una sola línea\n",
    "murders$state[which.max(murders$population)]"
   ]
  },
  {
   "cell_type": "markdown",
   "metadata": {},
   "source": [
    "## Aritmética de vectores"
   ]
  },
  {
   "cell_type": "code",
   "execution_count": 48,
   "metadata": {},
   "outputs": [
    {
     "data": {
      "text/html": [
       "<ol class=list-inline>\n",
       "\t<li>2.82442377570644</li>\n",
       "\t<li>2.67518596062408</li>\n",
       "\t<li>3.62952726815339</li>\n",
       "\t<li>3.18939009944724</li>\n",
       "\t<li>3.37413830627813</li>\n",
       "\t<li>1.29245310781286</li>\n",
       "\t<li>2.71397222850975</li>\n",
       "\t<li>4.23193686841126</li>\n",
       "\t<li>16.4527531771264</li>\n",
       "\t<li>3.39806883024604</li>\n",
       "\t<li>3.79032258064516</li>\n",
       "\t<li>0.514591991037278</li>\n",
       "\t<li>0.76551019340615</li>\n",
       "\t<li>2.83696079818983</li>\n",
       "\t<li>2.19007304664763</li>\n",
       "\t<li>0.689348418027446</li>\n",
       "\t<li>2.20811056535341</li>\n",
       "\t<li>2.67320095304223</li>\n",
       "\t<li>7.7425810191619</li>\n",
       "\t<li>0.828088147724903</li>\n",
       "\t<li>5.07486552472378</li>\n",
       "\t<li>1.80217907886962</li>\n",
       "\t<li>4.17862245083795</li>\n",
       "\t<li>0.999259981994466</li>\n",
       "\t<li>4.04408456585236</li>\n",
       "\t<li>5.35989168009562</li>\n",
       "\t<li>1.21283788905565</li>\n",
       "\t<li>1.75213719672285</li>\n",
       "\t<li>3.11047634353138</li>\n",
       "\t<li>0.379803565595874</li>\n",
       "\t<li>2.79803191439751</li>\n",
       "\t<li>3.25372393560735</li>\n",
       "\t<li>2.66795994778023</li>\n",
       "\t<li>2.9993236839707</li>\n",
       "\t<li>0.594715064578622</li>\n",
       "\t<li>2.68712254596366</li>\n",
       "\t<li>2.95893399471284</li>\n",
       "\t<li>0.939684276524024</li>\n",
       "\t<li>3.59775125588679</li>\n",
       "\t<li>1.52009325772136</li>\n",
       "\t<li>4.47532345562425</li>\n",
       "\t<li>0.982583703849272</li>\n",
       "\t<li>3.45093565265624</li>\n",
       "\t<li>3.20136027189849</li>\n",
       "\t<li>0.795981019470781</li>\n",
       "\t<li>0.319621057274495</li>\n",
       "\t<li>3.12460005119345</li>\n",
       "\t<li>1.38299422711442</li>\n",
       "\t<li>1.45710131819099</li>\n",
       "\t<li>1.70564865114843</li>\n",
       "\t<li>0.887113085627704</li>\n",
       "</ol>\n"
      ],
      "text/latex": [
       "\\begin{enumerate*}\n",
       "\\item 2.82442377570644\n",
       "\\item 2.67518596062408\n",
       "\\item 3.62952726815339\n",
       "\\item 3.18939009944724\n",
       "\\item 3.37413830627813\n",
       "\\item 1.29245310781286\n",
       "\\item 2.71397222850975\n",
       "\\item 4.23193686841126\n",
       "\\item 16.4527531771264\n",
       "\\item 3.39806883024604\n",
       "\\item 3.79032258064516\n",
       "\\item 0.514591991037278\n",
       "\\item 0.76551019340615\n",
       "\\item 2.83696079818983\n",
       "\\item 2.19007304664763\n",
       "\\item 0.689348418027446\n",
       "\\item 2.20811056535341\n",
       "\\item 2.67320095304223\n",
       "\\item 7.7425810191619\n",
       "\\item 0.828088147724903\n",
       "\\item 5.07486552472378\n",
       "\\item 1.80217907886962\n",
       "\\item 4.17862245083795\n",
       "\\item 0.999259981994466\n",
       "\\item 4.04408456585236\n",
       "\\item 5.35989168009562\n",
       "\\item 1.21283788905565\n",
       "\\item 1.75213719672285\n",
       "\\item 3.11047634353138\n",
       "\\item 0.379803565595874\n",
       "\\item 2.79803191439751\n",
       "\\item 3.25372393560735\n",
       "\\item 2.66795994778023\n",
       "\\item 2.9993236839707\n",
       "\\item 0.594715064578622\n",
       "\\item 2.68712254596366\n",
       "\\item 2.95893399471284\n",
       "\\item 0.939684276524024\n",
       "\\item 3.59775125588679\n",
       "\\item 1.52009325772136\n",
       "\\item 4.47532345562425\n",
       "\\item 0.982583703849272\n",
       "\\item 3.45093565265624\n",
       "\\item 3.20136027189849\n",
       "\\item 0.795981019470781\n",
       "\\item 0.319621057274495\n",
       "\\item 3.12460005119345\n",
       "\\item 1.38299422711442\n",
       "\\item 1.45710131819099\n",
       "\\item 1.70564865114843\n",
       "\\item 0.887113085627704\n",
       "\\end{enumerate*}\n"
      ],
      "text/markdown": [
       "1. 2.82442377570644\n",
       "2. 2.67518596062408\n",
       "3. 3.62952726815339\n",
       "4. 3.18939009944724\n",
       "5. 3.37413830627813\n",
       "6. 1.29245310781286\n",
       "7. 2.71397222850975\n",
       "8. 4.23193686841126\n",
       "9. 16.4527531771264\n",
       "10. 3.39806883024604\n",
       "11. 3.79032258064516\n",
       "12. 0.514591991037278\n",
       "13. 0.76551019340615\n",
       "14. 2.83696079818983\n",
       "15. 2.19007304664763\n",
       "16. 0.689348418027446\n",
       "17. 2.20811056535341\n",
       "18. 2.67320095304223\n",
       "19. 7.7425810191619\n",
       "20. 0.828088147724903\n",
       "21. 5.07486552472378\n",
       "22. 1.80217907886962\n",
       "23. 4.17862245083795\n",
       "24. 0.999259981994466\n",
       "25. 4.04408456585236\n",
       "26. 5.35989168009562\n",
       "27. 1.21283788905565\n",
       "28. 1.75213719672285\n",
       "29. 3.11047634353138\n",
       "30. 0.379803565595874\n",
       "31. 2.79803191439751\n",
       "32. 3.25372393560735\n",
       "33. 2.66795994778023\n",
       "34. 2.9993236839707\n",
       "35. 0.594715064578622\n",
       "36. 2.68712254596366\n",
       "37. 2.95893399471284\n",
       "38. 0.939684276524024\n",
       "39. 3.59775125588679\n",
       "40. 1.52009325772136\n",
       "41. 4.47532345562425\n",
       "42. 0.982583703849272\n",
       "43. 3.45093565265624\n",
       "44. 3.20136027189849\n",
       "45. 0.795981019470781\n",
       "46. 0.319621057274495\n",
       "47. 3.12460005119345\n",
       "48. 1.38299422711442\n",
       "49. 1.45710131819099\n",
       "50. 1.70564865114843\n",
       "51. 0.887113085627704\n",
       "\n",
       "\n"
      ],
      "text/plain": [
       " [1]  2.8244238  2.6751860  3.6295273  3.1893901  3.3741383  1.2924531\n",
       " [7]  2.7139722  4.2319369 16.4527532  3.3980688  3.7903226  0.5145920\n",
       "[13]  0.7655102  2.8369608  2.1900730  0.6893484  2.2081106  2.6732010\n",
       "[19]  7.7425810  0.8280881  5.0748655  1.8021791  4.1786225  0.9992600\n",
       "[25]  4.0440846  5.3598917  1.2128379  1.7521372  3.1104763  0.3798036\n",
       "[31]  2.7980319  3.2537239  2.6679599  2.9993237  0.5947151  2.6871225\n",
       "[37]  2.9589340  0.9396843  3.5977513  1.5200933  4.4753235  0.9825837\n",
       "[43]  3.4509357  3.2013603  0.7959810  0.3196211  3.1246001  1.3829942\n",
       "[49]  1.4571013  1.7056487  0.8871131"
      ]
     },
     "metadata": {},
     "output_type": "display_data"
    }
   ],
   "source": [
    "# Tasa de asesinatos cada 100 mil habitantes\n",
    "murder_rate <- murders$total/murders$population * 100000\n",
    "murder_rate"
   ]
  },
  {
   "cell_type": "code",
   "execution_count": 50,
   "metadata": {},
   "outputs": [
    {
     "data": {
      "text/html": [
       "<ol class=list-inline>\n",
       "\t<li>'Vermont'</li>\n",
       "\t<li>'New Hampshire'</li>\n",
       "\t<li>'Hawaii'</li>\n",
       "\t<li>'North Dakota'</li>\n",
       "\t<li>'Iowa'</li>\n",
       "\t<li>'Idaho'</li>\n",
       "\t<li>'Utah'</li>\n",
       "\t<li>'Maine'</li>\n",
       "\t<li>'Wyoming'</li>\n",
       "\t<li>'Oregon'</li>\n",
       "\t<li>'South Dakota'</li>\n",
       "\t<li>'Minnesota'</li>\n",
       "\t<li>'Montana'</li>\n",
       "\t<li>'Colorado'</li>\n",
       "\t<li>'Washington'</li>\n",
       "\t<li>'West Virginia'</li>\n",
       "\t<li>'Rhode Island'</li>\n",
       "\t<li>'Wisconsin'</li>\n",
       "\t<li>'Nebraska'</li>\n",
       "\t<li>'Massachusetts'</li>\n",
       "\t<li>'Indiana'</li>\n",
       "\t<li>'Kansas'</li>\n",
       "\t<li>'New York'</li>\n",
       "\t<li>'Kentucky'</li>\n",
       "\t<li>'Alaska'</li>\n",
       "\t<li>'Ohio'</li>\n",
       "\t<li>'Connecticut'</li>\n",
       "\t<li>'New Jersey'</li>\n",
       "\t<li>'Alabama'</li>\n",
       "\t<li>'Illinois'</li>\n",
       "\t<li>'Oklahoma'</li>\n",
       "\t<li>'North Carolina'</li>\n",
       "\t<li>'Nevada'</li>\n",
       "\t<li>'Virginia'</li>\n",
       "\t<li>'Arkansas'</li>\n",
       "\t<li>'Texas'</li>\n",
       "\t<li>'New Mexico'</li>\n",
       "\t<li>'California'</li>\n",
       "\t<li>'Florida'</li>\n",
       "\t<li>'Tennessee'</li>\n",
       "\t<li>'Pennsylvania'</li>\n",
       "\t<li>'Arizona'</li>\n",
       "\t<li>'Georgia'</li>\n",
       "\t<li>'Mississippi'</li>\n",
       "\t<li>'Michigan'</li>\n",
       "\t<li>'Delaware'</li>\n",
       "\t<li>'South Carolina'</li>\n",
       "\t<li>'Maryland'</li>\n",
       "\t<li>'Missouri'</li>\n",
       "\t<li>'Louisiana'</li>\n",
       "\t<li>'District of Columbia'</li>\n",
       "</ol>\n"
      ],
      "text/latex": [
       "\\begin{enumerate*}\n",
       "\\item 'Vermont'\n",
       "\\item 'New Hampshire'\n",
       "\\item 'Hawaii'\n",
       "\\item 'North Dakota'\n",
       "\\item 'Iowa'\n",
       "\\item 'Idaho'\n",
       "\\item 'Utah'\n",
       "\\item 'Maine'\n",
       "\\item 'Wyoming'\n",
       "\\item 'Oregon'\n",
       "\\item 'South Dakota'\n",
       "\\item 'Minnesota'\n",
       "\\item 'Montana'\n",
       "\\item 'Colorado'\n",
       "\\item 'Washington'\n",
       "\\item 'West Virginia'\n",
       "\\item 'Rhode Island'\n",
       "\\item 'Wisconsin'\n",
       "\\item 'Nebraska'\n",
       "\\item 'Massachusetts'\n",
       "\\item 'Indiana'\n",
       "\\item 'Kansas'\n",
       "\\item 'New York'\n",
       "\\item 'Kentucky'\n",
       "\\item 'Alaska'\n",
       "\\item 'Ohio'\n",
       "\\item 'Connecticut'\n",
       "\\item 'New Jersey'\n",
       "\\item 'Alabama'\n",
       "\\item 'Illinois'\n",
       "\\item 'Oklahoma'\n",
       "\\item 'North Carolina'\n",
       "\\item 'Nevada'\n",
       "\\item 'Virginia'\n",
       "\\item 'Arkansas'\n",
       "\\item 'Texas'\n",
       "\\item 'New Mexico'\n",
       "\\item 'California'\n",
       "\\item 'Florida'\n",
       "\\item 'Tennessee'\n",
       "\\item 'Pennsylvania'\n",
       "\\item 'Arizona'\n",
       "\\item 'Georgia'\n",
       "\\item 'Mississippi'\n",
       "\\item 'Michigan'\n",
       "\\item 'Delaware'\n",
       "\\item 'South Carolina'\n",
       "\\item 'Maryland'\n",
       "\\item 'Missouri'\n",
       "\\item 'Louisiana'\n",
       "\\item 'District of Columbia'\n",
       "\\end{enumerate*}\n"
      ],
      "text/markdown": [
       "1. 'Vermont'\n",
       "2. 'New Hampshire'\n",
       "3. 'Hawaii'\n",
       "4. 'North Dakota'\n",
       "5. 'Iowa'\n",
       "6. 'Idaho'\n",
       "7. 'Utah'\n",
       "8. 'Maine'\n",
       "9. 'Wyoming'\n",
       "10. 'Oregon'\n",
       "11. 'South Dakota'\n",
       "12. 'Minnesota'\n",
       "13. 'Montana'\n",
       "14. 'Colorado'\n",
       "15. 'Washington'\n",
       "16. 'West Virginia'\n",
       "17. 'Rhode Island'\n",
       "18. 'Wisconsin'\n",
       "19. 'Nebraska'\n",
       "20. 'Massachusetts'\n",
       "21. 'Indiana'\n",
       "22. 'Kansas'\n",
       "23. 'New York'\n",
       "24. 'Kentucky'\n",
       "25. 'Alaska'\n",
       "26. 'Ohio'\n",
       "27. 'Connecticut'\n",
       "28. 'New Jersey'\n",
       "29. 'Alabama'\n",
       "30. 'Illinois'\n",
       "31. 'Oklahoma'\n",
       "32. 'North Carolina'\n",
       "33. 'Nevada'\n",
       "34. 'Virginia'\n",
       "35. 'Arkansas'\n",
       "36. 'Texas'\n",
       "37. 'New Mexico'\n",
       "38. 'California'\n",
       "39. 'Florida'\n",
       "40. 'Tennessee'\n",
       "41. 'Pennsylvania'\n",
       "42. 'Arizona'\n",
       "43. 'Georgia'\n",
       "44. 'Mississippi'\n",
       "45. 'Michigan'\n",
       "46. 'Delaware'\n",
       "47. 'South Carolina'\n",
       "48. 'Maryland'\n",
       "49. 'Missouri'\n",
       "50. 'Louisiana'\n",
       "51. 'District of Columbia'\n",
       "\n",
       "\n"
      ],
      "text/plain": [
       " [1] \"Vermont\"              \"New Hampshire\"        \"Hawaii\"              \n",
       " [4] \"North Dakota\"         \"Iowa\"                 \"Idaho\"               \n",
       " [7] \"Utah\"                 \"Maine\"                \"Wyoming\"             \n",
       "[10] \"Oregon\"               \"South Dakota\"         \"Minnesota\"           \n",
       "[13] \"Montana\"              \"Colorado\"             \"Washington\"          \n",
       "[16] \"West Virginia\"        \"Rhode Island\"         \"Wisconsin\"           \n",
       "[19] \"Nebraska\"             \"Massachusetts\"        \"Indiana\"             \n",
       "[22] \"Kansas\"               \"New York\"             \"Kentucky\"            \n",
       "[25] \"Alaska\"               \"Ohio\"                 \"Connecticut\"         \n",
       "[28] \"New Jersey\"           \"Alabama\"              \"Illinois\"            \n",
       "[31] \"Oklahoma\"             \"North Carolina\"       \"Nevada\"              \n",
       "[34] \"Virginia\"             \"Arkansas\"             \"Texas\"               \n",
       "[37] \"New Mexico\"           \"California\"           \"Florida\"             \n",
       "[40] \"Tennessee\"            \"Pennsylvania\"         \"Arizona\"             \n",
       "[43] \"Georgia\"              \"Mississippi\"          \"Michigan\"            \n",
       "[46] \"Delaware\"             \"South Carolina\"       \"Maryland\"            \n",
       "[49] \"Missouri\"             \"Louisiana\"            \"District of Columbia\""
      ]
     },
     "metadata": {},
     "output_type": "display_data"
    }
   ],
   "source": [
    "# Listado de tasa de asesinatos por estado en formato ascendente\n",
    "murders$state[order(murder_rate)]"
   ]
  },
  {
   "cell_type": "code",
   "execution_count": 51,
   "metadata": {},
   "outputs": [
    {
     "data": {
      "text/html": [
       "<ol class=list-inline>\n",
       "\t<li>'District of Columbia'</li>\n",
       "\t<li>'Louisiana'</li>\n",
       "\t<li>'Missouri'</li>\n",
       "\t<li>'Maryland'</li>\n",
       "\t<li>'South Carolina'</li>\n",
       "\t<li>'Delaware'</li>\n",
       "\t<li>'Michigan'</li>\n",
       "\t<li>'Mississippi'</li>\n",
       "\t<li>'Georgia'</li>\n",
       "\t<li>'Arizona'</li>\n",
       "\t<li>'Pennsylvania'</li>\n",
       "\t<li>'Tennessee'</li>\n",
       "\t<li>'Florida'</li>\n",
       "\t<li>'California'</li>\n",
       "\t<li>'New Mexico'</li>\n",
       "\t<li>'Texas'</li>\n",
       "\t<li>'Arkansas'</li>\n",
       "\t<li>'Virginia'</li>\n",
       "\t<li>'Nevada'</li>\n",
       "\t<li>'North Carolina'</li>\n",
       "\t<li>'Oklahoma'</li>\n",
       "\t<li>'Illinois'</li>\n",
       "\t<li>'Alabama'</li>\n",
       "\t<li>'New Jersey'</li>\n",
       "\t<li>'Connecticut'</li>\n",
       "\t<li>'Ohio'</li>\n",
       "\t<li>'Alaska'</li>\n",
       "\t<li>'Kentucky'</li>\n",
       "\t<li>'New York'</li>\n",
       "\t<li>'Kansas'</li>\n",
       "\t<li>'Indiana'</li>\n",
       "\t<li>'Massachusetts'</li>\n",
       "\t<li>'Nebraska'</li>\n",
       "\t<li>'Wisconsin'</li>\n",
       "\t<li>'Rhode Island'</li>\n",
       "\t<li>'West Virginia'</li>\n",
       "\t<li>'Washington'</li>\n",
       "\t<li>'Colorado'</li>\n",
       "\t<li>'Montana'</li>\n",
       "\t<li>'Minnesota'</li>\n",
       "\t<li>'South Dakota'</li>\n",
       "\t<li>'Oregon'</li>\n",
       "\t<li>'Wyoming'</li>\n",
       "\t<li>'Maine'</li>\n",
       "\t<li>'Utah'</li>\n",
       "\t<li>'Idaho'</li>\n",
       "\t<li>'Iowa'</li>\n",
       "\t<li>'North Dakota'</li>\n",
       "\t<li>'Hawaii'</li>\n",
       "\t<li>'New Hampshire'</li>\n",
       "\t<li>'Vermont'</li>\n",
       "</ol>\n"
      ],
      "text/latex": [
       "\\begin{enumerate*}\n",
       "\\item 'District of Columbia'\n",
       "\\item 'Louisiana'\n",
       "\\item 'Missouri'\n",
       "\\item 'Maryland'\n",
       "\\item 'South Carolina'\n",
       "\\item 'Delaware'\n",
       "\\item 'Michigan'\n",
       "\\item 'Mississippi'\n",
       "\\item 'Georgia'\n",
       "\\item 'Arizona'\n",
       "\\item 'Pennsylvania'\n",
       "\\item 'Tennessee'\n",
       "\\item 'Florida'\n",
       "\\item 'California'\n",
       "\\item 'New Mexico'\n",
       "\\item 'Texas'\n",
       "\\item 'Arkansas'\n",
       "\\item 'Virginia'\n",
       "\\item 'Nevada'\n",
       "\\item 'North Carolina'\n",
       "\\item 'Oklahoma'\n",
       "\\item 'Illinois'\n",
       "\\item 'Alabama'\n",
       "\\item 'New Jersey'\n",
       "\\item 'Connecticut'\n",
       "\\item 'Ohio'\n",
       "\\item 'Alaska'\n",
       "\\item 'Kentucky'\n",
       "\\item 'New York'\n",
       "\\item 'Kansas'\n",
       "\\item 'Indiana'\n",
       "\\item 'Massachusetts'\n",
       "\\item 'Nebraska'\n",
       "\\item 'Wisconsin'\n",
       "\\item 'Rhode Island'\n",
       "\\item 'West Virginia'\n",
       "\\item 'Washington'\n",
       "\\item 'Colorado'\n",
       "\\item 'Montana'\n",
       "\\item 'Minnesota'\n",
       "\\item 'South Dakota'\n",
       "\\item 'Oregon'\n",
       "\\item 'Wyoming'\n",
       "\\item 'Maine'\n",
       "\\item 'Utah'\n",
       "\\item 'Idaho'\n",
       "\\item 'Iowa'\n",
       "\\item 'North Dakota'\n",
       "\\item 'Hawaii'\n",
       "\\item 'New Hampshire'\n",
       "\\item 'Vermont'\n",
       "\\end{enumerate*}\n"
      ],
      "text/markdown": [
       "1. 'District of Columbia'\n",
       "2. 'Louisiana'\n",
       "3. 'Missouri'\n",
       "4. 'Maryland'\n",
       "5. 'South Carolina'\n",
       "6. 'Delaware'\n",
       "7. 'Michigan'\n",
       "8. 'Mississippi'\n",
       "9. 'Georgia'\n",
       "10. 'Arizona'\n",
       "11. 'Pennsylvania'\n",
       "12. 'Tennessee'\n",
       "13. 'Florida'\n",
       "14. 'California'\n",
       "15. 'New Mexico'\n",
       "16. 'Texas'\n",
       "17. 'Arkansas'\n",
       "18. 'Virginia'\n",
       "19. 'Nevada'\n",
       "20. 'North Carolina'\n",
       "21. 'Oklahoma'\n",
       "22. 'Illinois'\n",
       "23. 'Alabama'\n",
       "24. 'New Jersey'\n",
       "25. 'Connecticut'\n",
       "26. 'Ohio'\n",
       "27. 'Alaska'\n",
       "28. 'Kentucky'\n",
       "29. 'New York'\n",
       "30. 'Kansas'\n",
       "31. 'Indiana'\n",
       "32. 'Massachusetts'\n",
       "33. 'Nebraska'\n",
       "34. 'Wisconsin'\n",
       "35. 'Rhode Island'\n",
       "36. 'West Virginia'\n",
       "37. 'Washington'\n",
       "38. 'Colorado'\n",
       "39. 'Montana'\n",
       "40. 'Minnesota'\n",
       "41. 'South Dakota'\n",
       "42. 'Oregon'\n",
       "43. 'Wyoming'\n",
       "44. 'Maine'\n",
       "45. 'Utah'\n",
       "46. 'Idaho'\n",
       "47. 'Iowa'\n",
       "48. 'North Dakota'\n",
       "49. 'Hawaii'\n",
       "50. 'New Hampshire'\n",
       "51. 'Vermont'\n",
       "\n",
       "\n"
      ],
      "text/plain": [
       " [1] \"District of Columbia\" \"Louisiana\"            \"Missouri\"            \n",
       " [4] \"Maryland\"             \"South Carolina\"       \"Delaware\"            \n",
       " [7] \"Michigan\"             \"Mississippi\"          \"Georgia\"             \n",
       "[10] \"Arizona\"              \"Pennsylvania\"         \"Tennessee\"           \n",
       "[13] \"Florida\"              \"California\"           \"New Mexico\"          \n",
       "[16] \"Texas\"                \"Arkansas\"             \"Virginia\"            \n",
       "[19] \"Nevada\"               \"North Carolina\"       \"Oklahoma\"            \n",
       "[22] \"Illinois\"             \"Alabama\"              \"New Jersey\"          \n",
       "[25] \"Connecticut\"          \"Ohio\"                 \"Alaska\"              \n",
       "[28] \"Kentucky\"             \"New York\"             \"Kansas\"              \n",
       "[31] \"Indiana\"              \"Massachusetts\"        \"Nebraska\"            \n",
       "[34] \"Wisconsin\"            \"Rhode Island\"         \"West Virginia\"       \n",
       "[37] \"Washington\"           \"Colorado\"             \"Montana\"             \n",
       "[40] \"Minnesota\"            \"South Dakota\"         \"Oregon\"              \n",
       "[43] \"Wyoming\"              \"Maine\"                \"Utah\"                \n",
       "[46] \"Idaho\"                \"Iowa\"                 \"North Dakota\"        \n",
       "[49] \"Hawaii\"               \"New Hampshire\"        \"Vermont\"             "
      ]
     },
     "metadata": {},
     "output_type": "display_data"
    }
   ],
   "source": [
    "# Listado de tasa de asesinatos por estado en formato DESCENDENTE\n",
    "murders$state[order(murder_rate, decreasing=TRUE)]"
   ]
  },
  {
   "cell_type": "markdown",
   "metadata": {},
   "source": [
    "**Ejemplo de la igualdad de euler: ** $\\pi^2/6 = 1 + 1/2^2 + 1/3^2 +...$"
   ]
  },
  {
   "cell_type": "code",
   "execution_count": 56,
   "metadata": {},
   "outputs": [
    {
     "data": {
      "text/html": [
       "3.14063805620599"
      ],
      "text/latex": [
       "3.14063805620599"
      ],
      "text/markdown": [
       "3.14063805620599"
      ],
      "text/plain": [
       "[1] 3.140638"
      ]
     },
     "metadata": {},
     "output_type": "display_data"
    }
   ],
   "source": [
    "x <- 1:1000\n",
    "pi_aprox <- sqrt(6*sum(1/(x^2)))\n",
    "pi_aprox"
   ]
  },
  {
   "cell_type": "code",
   "execution_count": null,
   "metadata": {},
   "outputs": [],
   "source": []
  }
 ],
 "metadata": {
  "kernelspec": {
   "display_name": "R",
   "language": "R",
   "name": "ir"
  },
  "language_info": {
   "codemirror_mode": "r",
   "file_extension": ".r",
   "mimetype": "text/x-r-source",
   "name": "R",
   "pygments_lexer": "r",
   "version": "3.5.1"
  },
  "toc": {
   "nav_menu": {},
   "number_sections": true,
   "sideBar": true,
   "skip_h1_title": false,
   "title_cell": "Tabla de Contenidos",
   "title_sidebar": "Contenido",
   "toc_cell": false,
   "toc_position": {},
   "toc_section_display": true,
   "toc_window_display": false
  }
 },
 "nbformat": 4,
 "nbformat_minor": 2
}
