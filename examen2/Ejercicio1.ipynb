{
 "cells": [
  {
   "cell_type": "markdown",
   "metadata": {},
   "source": [
    "# Ejercicio 1\n",
    "\n",
    "**a) Complete la siguiente tabla ANOVA ingresando los valores de los grados de libertad y los cuadrados medios esperados (teóricos).**\n",
    "\n",
    "Se completaron los E(MS) utilizando el modelo con restricciones (como los arroja R)\n",
    "\n",
    "\n",
    "|  Fuente de   variabilidad | Df                               | MS    | E(MS)                                            |\n",
    "|---------------------------|----------------------------------|-------|--------------------------------------------------|\n",
    "| T                         | (t-1) = (4-1) = 3                   | 3.79  | $\\sigma^2 + r\\sigma^2_{T*R(A)}+acr\\theta_T^2$    |\n",
    "| A                         | (a-1) = (3-1) = 2                   | 13.27 | $\\sigma^2 + rt\\sigma^2_{R(A)} + tcr\\theta_{A}^2$ |\n",
    "| T*A                       | (t-1)(a-1) = (4-1)(3-1) = 6          | 2.78  | $\\sigma^2 + r\\sigma^2_{TR(A)}+cr\\theta_{TA}^2$   |\n",
    "| R(A)                      | a(c-1) = 3(10-1) = 27                | 2.58  | $\\sigma^2 + rt\\sigma^2_{R(A)}$                    |\n",
    "| T*R(A)                    | (t-1)a(c-1) = (4-1)3(10-1) = 81  | 1.06  | $\\sigma^2 + r\\sigma^2_{TR(A)}$                   |\n",
    "| Error                     | t*a*c*(r-1) = 4*3*10*(2-1) = 120 | 0.91  | $\\sigma^2$                                       |\n",
    "\n",
    "\n",
    "Donde, \n",
    "\n",
    "- t es la cantidad de niveles del factor T (tipos de quesos cheddar)\n",
    "- a es la cantidad de niveles del factor A (grupos de edad)\n",
    "- c es la cantidad de niveles del factor R (profesionales)\n",
    "- r es la cantidad de réplicas"
   ]
  },
  {
   "cell_type": "markdown",
   "metadata": {},
   "source": [
    "**b) Se ajustó el siguiente modelo para los datos donde $Y_{ijkm}$ es la calificación de amargor de la m-ésima porción de queso tipo i del k-ésimo evaluador en el grupo de edad j:**\n",
    "\n",
    "$$Y_{ijkm} = \\mu + \\alpha_i + \\beta_j + (\\alpha \\beta)_{ij} + C_{k(j)} + D_{ik(j)} + \\epsilon_{ijkm}$$\n",
    "\n",
    "**Establezca todas las condiciones que se deben asumir sobre los términos del modelo para poder llevar a cabo los procedimientos de análisis de varianza.**"
   ]
  },
  {
   "cell_type": "markdown",
   "metadata": {},
   "source": [
    "El modelo previo es de efectos mixtos, de términos fijos y aleatorios, donde para los efectos aleatorios es de interés estudiar la varianza de dichos efectos mientras que para los fijos el interés probar la hipótesis directamente sobre tales efectos (medias). \n",
    "\n",
    "Las suposiciones sobre el error aleatorio es que sigue una distribución normal con media cero y varianza constante, $N(0, \\sigma^2)$, y son independientes entre sí. A continuación se detalla cada término del modelo:\n",
    "\n",
    "- $\\alpha_i$, efecto fijo, *i* niveles para el factor tipos de queso (T)\n",
    "- $\\beta_j$, efecto fijo, *j* niveles para el factor grupos de edad (A)\n",
    "- $(\\alpha \\beta)_{ij}$, efecto fijo interacción entre T y A\n",
    "- $C_{k(j)}$, efecto aleatorio, *k* niveles de profesionales (R) anidados a los grupos de edad\n",
    "- $D_{ik(j)}$, efecto aleatorio interacción entre los tipos de queso y los profesionales anidados a los grupos de edad"
   ]
  },
  {
   "cell_type": "markdown",
   "metadata": {},
   "source": [
    "Para los términos $C_{k(j)}$,  $D_{ik(j)}$ y $\\epsilon_{ijkm}$ son variables aleatorias independientes normales, con media cero y varianzas $\\sigma_{C}^2$, $\\sigma_{\\alpha C}^2$ y $\\sigma^2$, por lo tanto, en la varianza total del modelo los factores $\\alpha$ y $\\beta$ no aportan dado que son fijos, pero sí se mantiene el componente de interacción $D$ por ser $C$ aleatorio. Se puede escribir del siguiente modo:\n",
    "\n",
    "$$var(Y_{ijkm}) = \\sigma_{C}^2 + \\sigma_{\\alpha C}^2 + \\sigma^2$$"
   ]
  },
  {
   "cell_type": "markdown",
   "metadata": {},
   "source": [
    "**c)** \n",
    "\n",
    "- H0: $\\beta_j = 0$, para $j = 1 \\cdots a$\n",
    "- H1: $\\beta_j \\ne 0$\n",
    "\n",
    "$$ F = { {MSA} \\over {MSR(A)} } = { {13.27} \\over {2.58} } = {5.1434}$$\n",
    "\n",
    "Como $pvalor = 1 - pf(5.1434, 2, 27) = 0.0128 \\lt 0.05$, por lo tanto rechazamos H0 y concluímos que el efecto de la edad del evaluador es significativa."
   ]
  },
  {
   "cell_type": "code",
   "execution_count": null,
   "metadata": {},
   "outputs": [],
   "source": []
  },
  {
   "cell_type": "code",
   "execution_count": null,
   "metadata": {},
   "outputs": [],
   "source": []
  }
 ],
 "metadata": {
  "kernelspec": {
   "display_name": "R",
   "language": "R",
   "name": "ir"
  },
  "language_info": {
   "codemirror_mode": "r",
   "file_extension": ".r",
   "mimetype": "text/x-r-source",
   "name": "R",
   "pygments_lexer": "r",
   "version": "3.5.1"
  },
  "toc": {
   "nav_menu": {},
   "number_sections": true,
   "sideBar": true,
   "skip_h1_title": false,
   "title_cell": "Tabla de Contenidos",
   "title_sidebar": "Contenido",
   "toc_cell": false,
   "toc_position": {},
   "toc_section_display": true,
   "toc_window_display": false
  }
 },
 "nbformat": 4,
 "nbformat_minor": 2
}
