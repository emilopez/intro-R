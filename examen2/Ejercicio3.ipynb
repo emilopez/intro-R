{
 "cells": [
  {
   "cell_type": "markdown",
   "metadata": {},
   "source": [
    "# Ejercicio 3"
   ]
  },
  {
   "cell_type": "markdown",
   "metadata": {},
   "source": [
    "**a)** Opción elegida:\n",
    "\n",
    "- No se puede calcular con la información provista. \n",
    "\n",
    "Para calcular el número de réplicas por tratamiento sin tener en cuenta los bloques es necesario conocer *D* , utilizado en el cálculo del parámetro de no centralidad $\\lambda$ de la distribución F, en este caso podríamos ir variando incrementalmente para graficar la potencia, o sea que podriamos salvar este inconveniente, sin embargo, también es necesario contar con el MSE del experimento sin bloques, y en este caso no es posible suponerlo. Por este motivo es que concluímos que no se puede calcular la cantidad de réplicas mínimas para igualar la precisión del experimento original."
   ]
  },
  {
   "cell_type": "markdown",
   "metadata": {},
   "source": [
    "**b)** Opción elegida:\n",
    "\n",
    "- 5) 0.00205\n",
    "\n",
    "Como las comparaciones son con contrastes ortogonales recalculamos la probabilidad de error de tipo I individual haciendo $\\alpha_{PC} = (1 - \\alpha_F)^{1/N_c}$, donde $N_c$ es la cantidad de contrastes. El cálculo nos arroja:"
   ]
  },
  {
   "cell_type": "code",
   "execution_count": 5,
   "metadata": {},
   "outputs": [
    {
     "data": {
      "text/html": [
       "0.0020496284126208"
      ],
      "text/latex": [
       "0.0020496284126208"
      ],
      "text/markdown": [
       "0.0020496284126208"
      ],
      "text/plain": [
       "[1] 0.002049628"
      ]
     },
     "metadata": {},
     "output_type": "display_data"
    }
   ],
   "source": [
    "alphaF = 0.05\n",
    "Nc = 25\n",
    "(alpha_pc = 1 - (1- alphaF)^(1/Nc))"
   ]
  },
  {
   "cell_type": "markdown",
   "metadata": {},
   "source": [
    "**c)** Opción elegida:\n",
    "\n",
    "- 5) Todas las anteriores.\n",
    "\n",
    "Cuando el tamaño de observaciones es diferente, el estadístico $F = {{MS_{TRT}} \\over {MSE}}$ no tiene siempre una distribución F exacta como sí lo es en el caso de que el tamaño de muestras sean iguales. Para el caso de diferente n deben modificarse la suma de cuadrados $MS$ y por ende se complejiza el cálculo de la $E(MS)$. Respecto a la potencia, esta se maximiza cuando las muestras tienen el mismo tamaño."
   ]
  },
  {
   "cell_type": "markdown",
   "metadata": {},
   "source": [
    "**d)** Opción elegida:\n",
    "\n",
    "- 4) Tukey HSD deberı́a usarse cuando los tratamientos tienen efectos fijos.\n",
    "\n",
    "Tukey es un método para comparar medias de tratamientos y, según el enunciado el único factor que existe es aleatorio, por lo que no sería razonable utilizarlo. "
   ]
  },
  {
   "cell_type": "markdown",
   "metadata": {},
   "source": [
    "**e)** Opción elegida\n",
    "\n",
    "- 1) $L = -3\\mu_{11} -1\\mu_{21} + 1\\mu_{31} + 3\\mu_{41} -3\\mu_{12} -1\\mu_{22} + 1\\mu_{32} + 3\\mu_{42}$\n",
    "\n",
    "Los coeficientes para un contraste ortogonal con un polinomio de tendencia lineal con 4 niveles en la variable cuantitativa son (-3, -1, 1, 3), lo que se corresponde para el caso del enunciado donde desea ver la tendencia para dos niveles del factor F2. "
   ]
  },
  {
   "cell_type": "markdown",
   "metadata": {},
   "source": [
    "**f)** Opción elegida:\n",
    "\n",
    "- (0.8,1.0)\n",
    "\n",
    "Haciendo el cálculo de la potencia obtenemos un valor de 0.967. A continuación el método de cálculo"
   ]
  },
  {
   "cell_type": "code",
   "execution_count": 12,
   "metadata": {},
   "outputs": [
    {
     "data": {
      "text/html": [
       "0.967181638979737"
      ],
      "text/latex": [
       "0.967181638979737"
      ],
      "text/markdown": [
       "0.967181638979737"
      ],
      "text/plain": [
       "[1] 0.9671816"
      ]
     },
     "metadata": {},
     "output_type": "display_data"
    }
   ],
   "source": [
    "D = 19 # diferencia de medias\n",
    "b = 3  # 3 niveles del factor B\n",
    "a = 2  # 2 niveles del factor A\n",
    "r = 10\n",
    "n = a*b*r\n",
    "sigma2 = 100\n",
    "lambda = r*D^2/(2*sigma2)\n",
    "alpha = 0.05\n",
    "Q = qf(1-alpha, (a-1)*(b-1), n-a*b)\n",
    "(potencia = 1-pf(Q, (a-1)*(b-1), n-a*b, lambda))"
   ]
  },
  {
   "cell_type": "code",
   "execution_count": null,
   "metadata": {},
   "outputs": [],
   "source": []
  }
 ],
 "metadata": {
  "kernelspec": {
   "display_name": "R",
   "language": "R",
   "name": "ir"
  },
  "language_info": {
   "codemirror_mode": "r",
   "file_extension": ".r",
   "mimetype": "text/x-r-source",
   "name": "R",
   "pygments_lexer": "r",
   "version": "3.5.1"
  },
  "toc": {
   "nav_menu": {},
   "number_sections": true,
   "sideBar": true,
   "skip_h1_title": false,
   "title_cell": "Tabla de Contenidos",
   "title_sidebar": "Contenido",
   "toc_cell": false,
   "toc_position": {},
   "toc_section_display": true,
   "toc_window_display": false
  }
 },
 "nbformat": 4,
 "nbformat_minor": 2
}
