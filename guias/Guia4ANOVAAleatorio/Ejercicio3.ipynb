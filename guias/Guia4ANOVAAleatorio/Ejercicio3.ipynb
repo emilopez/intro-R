{
 "cells": [
  {
   "cell_type": "code",
   "execution_count": 2,
   "metadata": {},
   "outputs": [
    {
     "data": {
      "text/html": [
       "<table>\n",
       "<thead><tr><th scope=col>botella</th><th scope=col>concentraciones</th></tr></thead>\n",
       "<tbody>\n",
       "\t<tr><td>1     </td><td>1.4357</td></tr>\n",
       "\t<tr><td>2     </td><td>1.4244</td></tr>\n",
       "\t<tr><td>3     </td><td>1.4153</td></tr>\n",
       "\t<tr><td>4     </td><td>1.4331</td></tr>\n",
       "\t<tr><td>5     </td><td>1.4252</td></tr>\n",
       "\t<tr><td>6     </td><td>1.4179</td></tr>\n",
       "</tbody>\n",
       "</table>\n"
      ],
      "text/latex": [
       "\\begin{tabular}{r|ll}\n",
       " botella & concentraciones\\\\\n",
       "\\hline\n",
       "\t 1      & 1.4357\\\\\n",
       "\t 2      & 1.4244\\\\\n",
       "\t 3      & 1.4153\\\\\n",
       "\t 4      & 1.4331\\\\\n",
       "\t 5      & 1.4252\\\\\n",
       "\t 6      & 1.4179\\\\\n",
       "\\end{tabular}\n"
      ],
      "text/markdown": [
       "\n",
       "botella | concentraciones | \n",
       "|---|---|---|---|---|---|\n",
       "| 1      | 1.4357 | \n",
       "| 2      | 1.4244 | \n",
       "| 3      | 1.4153 | \n",
       "| 4      | 1.4331 | \n",
       "| 5      | 1.4252 | \n",
       "| 6      | 1.4179 | \n",
       "\n",
       "\n"
      ],
      "text/plain": [
       "  botella concentraciones\n",
       "1 1       1.4357         \n",
       "2 2       1.4244         \n",
       "3 3       1.4153         \n",
       "4 4       1.4331         \n",
       "5 5       1.4252         \n",
       "6 6       1.4179         "
      ]
     },
     "metadata": {},
     "output_type": "display_data"
    }
   ],
   "source": [
    "datos = read.csv(\"/home/emiliano/EstadisticaAplicada/Estadistica.Aplicada.2018/03_efectos_aleatorios_y_mixtos/datos/concentraciones.csv\", sep=\",\")\n",
    "head(datos)\n",
    "attach(datos)"
   ]
  },
  {
   "cell_type": "markdown",
   "metadata": {},
   "source": [
    "## Preguntas al profesor\n",
    "\n",
    "- cómo validamos los supuestos del modelo si no tenemos la tabla anova para obtener residuos y hacer los tests de shapiro y levene y la mar en coche\n",
    "\n",
    "- Usábamos el REML = TRUE cuando queremos ver los IC, ¿cuándo lo usamos en ``FALSE``?"
   ]
  },
  {
   "cell_type": "markdown",
   "metadata": {},
   "source": [
    "**d) - e)** Construya un intervalo de confianza para la varianza de los errores aleatorios. Construya un intervalo de confianza para la varianza de la concentración de alcohol de todas las botellas de este gran lote.\n",
    "\n",
    "Ambos resultados nos lo arroja observando el confint del modelo lmer. Donde \n",
    "\n",
    "- ``.sig01`` la varianza asociada al termino aleatorio, la botella, la variabilidad asociada a las distitnas botellas del lote\n",
    "- ``.sigma`` es la variabilidad del error aleatorio\n",
    "\n",
    "La variabilidad asociada a la medicion en si es mas chica que ``sig01``, eso es lo que uno quisiera."
   ]
  },
  {
   "cell_type": "code",
   "execution_count": 15,
   "metadata": {},
   "outputs": [
    {
     "name": "stderr",
     "output_type": "stream",
     "text": [
      "Computing profile confidence intervals ...\n"
     ]
    },
    {
     "data": {
      "text/html": [
       "<table>\n",
       "<thead><tr><th></th><th scope=col>2.5 %</th><th scope=col>97.5 %</th></tr></thead>\n",
       "<tbody>\n",
       "\t<tr><th scope=row>.sig01</th><td>0.003815153</td><td>0.01261598 </td></tr>\n",
       "\t<tr><th scope=row>.sigma</th><td>0.001309612</td><td>0.00253661 </td></tr>\n",
       "\t<tr><th scope=row>(Intercept)</th><td>1.419272947</td><td>1.43121872 </td></tr>\n",
       "</tbody>\n",
       "</table>\n"
      ],
      "text/latex": [
       "\\begin{tabular}{r|ll}\n",
       "  & 2.5 \\% & 97.5 \\%\\\\\n",
       "\\hline\n",
       "\t.sig01 & 0.003815153 & 0.01261598 \\\\\n",
       "\t.sigma & 0.001309612 & 0.00253661 \\\\\n",
       "\t(Intercept) & 1.419272947 & 1.43121872 \\\\\n",
       "\\end{tabular}\n"
      ],
      "text/markdown": [
       "\n",
       "| <!--/--> | 2.5 % | 97.5 % | \n",
       "|---|---|---|\n",
       "| .sig01 | 0.003815153 | 0.01261598  | \n",
       "| .sigma | 0.001309612 | 0.00253661  | \n",
       "| (Intercept) | 1.419272947 | 1.43121872  | \n",
       "\n",
       "\n"
      ],
      "text/plain": [
       "            2.5 %       97.5 %    \n",
       ".sig01      0.003815153 0.01261598\n",
       ".sigma      0.001309612 0.00253661\n",
       "(Intercept) 1.419272947 1.43121872"
      ]
     },
     "metadata": {},
     "output_type": "display_data"
    }
   ],
   "source": [
    "# ejercicio 3> calibrar alcoholimeros digitales.... \n",
    "# datos = concentraciones.csv\n",
    "\n",
    "# la botella es el factor aleatorio porque dice que la elegiste al azar de un gran lote, no queres comparar lo de una \n",
    "# botella contra la otra sino que estas queriendo ver aletoriedad\n",
    "\n",
    "# d) con el paquete lmer te lo da facil a los IC\n",
    "library(lme4)\n",
    "fbotella = as.factor(botella)\n",
    "\n",
    "# si quiero ver IC debo poner REAML = TRUE\n",
    "m  = lmer(concentraciones~1 + (1|fbotella), REML = TRUE)\n",
    "confint(m)\n",
    "\n",
    "#f) como uno podria testear que la varianza de la concentracion de alcohol en las distintas botellas\n",
    "# es a lo sumo 5 veces que la varianza de los # errores> ni idea, que es lo que uno haria\n",
    "\n",
    "# tenemos 2 fuentes de variabilidad: "
   ]
  },
  {
   "cell_type": "markdown",
   "metadata": {},
   "source": [
    "**f)** Testee la hipótesis de que la varianza de la concentración de alcohol es a lo sumo 5 veces la varianza de los errores contra la alterniva de que no lo es. Utilice nivel de significancia ``α = 0.05``"
   ]
  },
  {
   "cell_type": "markdown",
   "metadata": {},
   "source": [
    "$$y_{ij} = \\mu + A_i + \\epsilon_{ij}$$\n",
    "\n",
    "$$\\epsilon_i = N(0, \\sigma_\\epsilon^2)$$\n",
    "$$A_i = N(0, \\sigma_A^2)$$\n",
    "\n",
    "Tenemos que ver la relacion \n",
    "\n",
    "$$\\tau = {{\\sigma_A^2} \\over {\\sigma_\\epsilon^2}}$$\n",
    "\n",
    "Tenemos un test:\n",
    "\n",
    "- H0: $\\tau<=5$\n",
    "- H1: $\\tau>5$\n",
    "\n",
    "¿Queremos testear la relación entre las variabilidaddes del instrumento y de las diferentes botellas?\n",
    "\n",
    "**¿De que manera otra manera podemos hacer un test?**\n",
    "\n",
    "- Haciendo un IC para $\\tau$ y me fijo si contiene a 5: ver las ``Notasdeclase.pdf`` dentro de la carpeta de BIBLIOGRAFIA"
   ]
  },
  {
   "cell_type": "markdown",
   "metadata": {},
   "source": [
    "Dijo que podemos hacer el IC y ver si estaba el 5 adentro, pero la F que aparece en la fórmula de la pag. 36. es la que saco de la tabla ANOVA"
   ]
  }
 ],
 "metadata": {
  "kernelspec": {
   "display_name": "R",
   "language": "R",
   "name": "ir"
  },
  "language_info": {
   "codemirror_mode": "r",
   "file_extension": ".r",
   "mimetype": "text/x-r-source",
   "name": "R",
   "pygments_lexer": "r",
   "version": "3.5.1"
  },
  "toc": {
   "nav_menu": {},
   "number_sections": true,
   "sideBar": true,
   "skip_h1_title": false,
   "title_cell": "Tabla de Contenidos",
   "title_sidebar": "Contenido",
   "toc_cell": false,
   "toc_position": {},
   "toc_section_display": true,
   "toc_window_display": false
  }
 },
 "nbformat": 4,
 "nbformat_minor": 2
}
