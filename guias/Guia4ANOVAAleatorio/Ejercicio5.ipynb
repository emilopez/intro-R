{
 "cells": [
  {
   "cell_type": "code",
   "execution_count": 8,
   "metadata": {},
   "outputs": [
    {
     "data": {
      "text/html": [
       "<table>\n",
       "<thead><tr><th scope=col>corrida</th><th scope=col>paciente</th><th scope=col>colesterol</th></tr></thead>\n",
       "<tbody>\n",
       "\t<tr><td>1    </td><td>1    </td><td>167.3</td></tr>\n",
       "\t<tr><td>1    </td><td>1    </td><td>166.7</td></tr>\n",
       "\t<tr><td>2    </td><td>1    </td><td>179.6</td></tr>\n",
       "\t<tr><td>2    </td><td>1    </td><td>175.3</td></tr>\n",
       "\t<tr><td>3    </td><td>1    </td><td>169.4</td></tr>\n",
       "\t<tr><td>3    </td><td>1    </td><td>165.9</td></tr>\n",
       "</tbody>\n",
       "</table>\n"
      ],
      "text/latex": [
       "\\begin{tabular}{r|lll}\n",
       " corrida & paciente & colesterol\\\\\n",
       "\\hline\n",
       "\t 1     & 1     & 167.3\\\\\n",
       "\t 1     & 1     & 166.7\\\\\n",
       "\t 2     & 1     & 179.6\\\\\n",
       "\t 2     & 1     & 175.3\\\\\n",
       "\t 3     & 1     & 169.4\\\\\n",
       "\t 3     & 1     & 165.9\\\\\n",
       "\\end{tabular}\n"
      ],
      "text/markdown": [
       "\n",
       "corrida | paciente | colesterol | \n",
       "|---|---|---|---|---|---|\n",
       "| 1     | 1     | 167.3 | \n",
       "| 1     | 1     | 166.7 | \n",
       "| 2     | 1     | 179.6 | \n",
       "| 2     | 1     | 175.3 | \n",
       "| 3     | 1     | 169.4 | \n",
       "| 3     | 1     | 165.9 | \n",
       "\n",
       "\n"
      ],
      "text/plain": [
       "  corrida paciente colesterol\n",
       "1 1       1        167.3     \n",
       "2 1       1        166.7     \n",
       "3 2       1        179.6     \n",
       "4 2       1        175.3     \n",
       "5 3       1        169.4     \n",
       "6 3       1        165.9     "
      ]
     },
     "metadata": {},
     "output_type": "display_data"
    },
    {
     "name": "stdout",
     "output_type": "stream",
     "text": [
      "'data.frame':\t40 obs. of  3 variables:\n",
      " $ corrida   : int  1 1 2 2 3 3 4 4 1 1 ...\n",
      " $ paciente  : int  1 1 1 1 1 1 1 1 2 2 ...\n",
      " $ colesterol: num  167 167 180 175 169 ...\n"
     ]
    }
   ],
   "source": [
    "datos = read.csv(\"/home/emiliano/EstadisticaAplicada/Estadistica.Aplicada.2018/03_efectos_aleatorios_y_mixtos/datos/Colesterol.csv\", sep = \",\")\n",
    "head(datos)\n",
    "str(datos)\n",
    "attach(datos)\n",
    "corridaf = as.factor(corrida)\n",
    "pacientef = as.factor(paciente)"
   ]
  },
  {
   "cell_type": "markdown",
   "metadata": {},
   "source": [
    "**a)** Escriba un modelo lineal para el experimento, suponiendo que los pacientes y las corridas son efectos aleatorios (por qué?), explique los términos y realice el análisis de varianza.\n",
    "\n",
    "$$y_{ijk} = \\mu + paciente_i + corrida_j +(paciente:corrida)_{ij} + \\epsilon_{ijk}$$\n",
    "\n",
    "donde paciente y corrida son efectos aleatorios. \n",
    "\n",
    "- *Paciente:* es aleatorio porque fueron seleccionados al azar y no interesa saber la diferencia entre las medias de un paciente específico a otro, sino que lo importante es analizar la varianza de la distribución del efecto de los pacientes. \n",
    "- *Corrida:* es un efecto aleatorio porque ... **ESTUDIAR!!!**"
   ]
  },
  {
   "cell_type": "code",
   "execution_count": 11,
   "metadata": {},
   "outputs": [
    {
     "data": {
      "text/plain": [
       "Linear mixed model fit by REML ['lmerMod']\n",
       "Formula: \n",
       "colesterol ~ 1 + (1 | pacientef) + (1 | corridaf) + (1 | pacientef:corridaf)\n",
       "\n",
       "REML criterion at convergence: 234.3\n",
       "\n",
       "Scaled residuals: \n",
       "    Min      1Q  Median      3Q     Max \n",
       "-2.0127 -0.5037  0.1301  0.5603  2.1510 \n",
       "\n",
       "Random effects:\n",
       " Groups             Name        Variance Std.Dev.\n",
       " pacientef:corridaf (Intercept)    1.258  1.121  \n",
       " pacientef          (Intercept) 1642.864 40.532  \n",
       " corridaf           (Intercept)   35.533  5.961  \n",
       " Residual                          6.608  2.571  \n",
       "Number of obs: 40, groups:  pacientef:corridaf, 20; pacientef, 5; corridaf, 4\n",
       "\n",
       "Fixed effects:\n",
       "            Estimate Std. Error t value\n",
       "(Intercept)   167.44      18.38   9.112"
      ]
     },
     "metadata": {},
     "output_type": "display_data"
    }
   ],
   "source": [
    "library(lme4)\n",
    "modelo = lmer(colesterol~1 + (1|pacientef) + (1|corridaf) + (1|pacientef:corridaf))\n",
    "summary(modelo)\n",
    "# aca vemos el orden:\n",
    "# 1) pacientef:corridaf\n",
    "# 2) pacientef\n",
    "# 3) corridaf"
   ]
  },
  {
   "cell_type": "code",
   "execution_count": 12,
   "metadata": {},
   "outputs": [
    {
     "name": "stderr",
     "output_type": "stream",
     "text": [
      "Computing profile confidence intervals ...\n"
     ]
    },
    {
     "data": {
      "text/html": [
       "<table>\n",
       "<thead><tr><th></th><th scope=col>2.5 %</th><th scope=col>97.5 %</th></tr></thead>\n",
       "<tbody>\n",
       "\t<tr><th scope=row>.sig01</th><td>  0.000000</td><td>  2.885759</td></tr>\n",
       "\t<tr><th scope=row>.sig02</th><td> 21.725081</td><td> 79.271621</td></tr>\n",
       "\t<tr><th scope=row>.sig03</th><td>  3.050675</td><td> 17.113633</td></tr>\n",
       "\t<tr><th scope=row>.sigma</th><td>  1.941092</td><td>  3.533180</td></tr>\n",
       "\t<tr><th scope=row>(Intercept)</th><td>128.010427</td><td>206.859576</td></tr>\n",
       "</tbody>\n",
       "</table>\n"
      ],
      "text/latex": [
       "\\begin{tabular}{r|ll}\n",
       "  & 2.5 \\% & 97.5 \\%\\\\\n",
       "\\hline\n",
       "\t.sig01 &   0.000000 &   2.885759\\\\\n",
       "\t.sig02 &  21.725081 &  79.271621\\\\\n",
       "\t.sig03 &   3.050675 &  17.113633\\\\\n",
       "\t.sigma &   1.941092 &   3.533180\\\\\n",
       "\t(Intercept) & 128.010427 & 206.859576\\\\\n",
       "\\end{tabular}\n"
      ],
      "text/markdown": [
       "\n",
       "| <!--/--> | 2.5 % | 97.5 % | \n",
       "|---|---|---|---|---|\n",
       "| .sig01 |   0.000000 |   2.885759 | \n",
       "| .sig02 |  21.725081 |  79.271621 | \n",
       "| .sig03 |   3.050675 |  17.113633 | \n",
       "| .sigma |   1.941092 |   3.533180 | \n",
       "| (Intercept) | 128.010427 | 206.859576 | \n",
       "\n",
       "\n"
      ],
      "text/plain": [
       "            2.5 %      97.5 %    \n",
       ".sig01        0.000000   2.885759\n",
       ".sig02       21.725081  79.271621\n",
       ".sig03        3.050675  17.113633\n",
       ".sigma        1.941092   3.533180\n",
       "(Intercept) 128.010427 206.859576"
      ]
     },
     "metadata": {},
     "output_type": "display_data"
    }
   ],
   "source": [
    "# ahora que sabemos el orden vemos los IC\n",
    "confint(modelo)"
   ]
  },
  {
   "cell_type": "markdown",
   "metadata": {},
   "source": [
    "En los IC previos observamos que la interacción de los efectos aleatorios no es significativa que que el límite inferior es 0. \n",
    "\n",
    "**b)** Muestre los cuadrados medios esperados para el análisis de varianza.\n",
    "\n",
    "Para esto vamos a usar la librería ``EMSaov``"
   ]
  },
  {
   "cell_type": "code",
   "execution_count": 15,
   "metadata": {},
   "outputs": [
    {
     "name": "stdout",
     "output_type": "stream",
     "text": [
      "                   Df         SS           MS    Fvalue  Pvalue Sig\n",
      "pacientef           4 52608.1035 13152.025875 1441.4956 <0.0001 ***\n",
      "corridaf            3  1093.3710   364.457000   39.9454 <0.0001 ***\n",
      "pacientef:corridaf 12   109.4865     9.123875    1.3806   0.253    \n",
      "Residuals          20   132.1700     6.608500                      \n",
      "                                                    EMS\n",
      "pacientef          Error+2pacientef:corridaf+8pacientef\n",
      "corridaf           Error+2pacientef:corridaf+10corridaf\n",
      "pacientef:corridaf            Error+2pacientef:corridaf\n",
      "Residuals                                         Error\n"
     ]
    }
   ],
   "source": [
    "library(EMSaov)\n",
    "# agregamos como columnas los factores\n",
    "datos$pacientef = pacientef\n",
    "datos$corridaf = corridaf\n",
    "\n",
    "m = EMSanova(colesterol~pacientef + corridaf, type = c('R', 'R'), data = datos) \n",
    "# esto te da los cuadrados medios esperados\n",
    "print(m) "
   ]
  },
  {
   "cell_type": "code",
   "execution_count": 17,
   "metadata": {},
   "outputs": [
    {
     "data": {
      "text/html": [
       "105241.06325"
      ],
      "text/latex": [
       "105241.06325"
      ],
      "text/markdown": [
       "105241.06325"
      ],
      "text/plain": [
       "[1] 105241.1"
      ]
     },
     "metadata": {},
     "output_type": "display_data"
    },
    {
     "data": {
      "text/html": [
       "3669.42625"
      ],
      "text/latex": [
       "3669.42625"
      ],
      "text/markdown": [
       "3669.42625"
      ],
      "text/plain": [
       "[1] 3669.426"
      ]
     },
     "metadata": {},
     "output_type": "display_data"
    },
    {
     "data": {
      "text/html": [
       "24.85625"
      ],
      "text/latex": [
       "24.85625"
      ],
      "text/markdown": [
       "24.85625"
      ],
      "text/plain": [
       "[1] 24.85625"
      ]
     },
     "metadata": {},
     "output_type": "display_data"
    }
   ],
   "source": [
    "# Cuadrados medios esperados calculados siguiendo la tabla previa\n",
    "(Epaciente = 6.608500 + 2*9.123875 + 8*13152.025875)\n",
    "(Ecorrida = 6.608500 + 2*9.123875 + 10*364.457000)\n",
    "(Einteraccion = 6.608500 + 2*9.123875)"
   ]
  },
  {
   "cell_type": "markdown",
   "metadata": {},
   "source": [
    "**c)** Estime las componentes de la varianza para corridas, pacientes e interacción.\n",
    "\n",
    "PREGUNTAR PORQUE NO SABEMOS COMO OBTENER LOS VALORES"
   ]
  },
  {
   "cell_type": "markdown",
   "metadata": {},
   "source": [
    "**d)** Establezca las hipótesis nula y alternativa para los efectos principales y de interacción, pruebe cada una de las hipótesis nulas e interprete sus resultados.\n",
    "\n",
    "**SABIENDO DE LOS CONFINT QUE LA INTERACCION NO ES SIGNIFICATIVA, ¿¿DEBEMOS HACER LA COMPARACIÓN TAMBIÉN ENTRE LOS EFECTOS PRINCIPALES O NO HACE FALTA??**\n",
    "\n",
    "No, no hace falta hacer ambas en efectos aleatorios, si usamos máxima verosimilitud miramos solamente los IC. Pero, para efectos fijos sí es conveniente hacer el test.\n",
    "\n",
    "\n",
    "Hipótesis para la interacción:\n",
    "\n",
    "- H0: $\\sigma^2_{interaccion} = 0 $\n",
    "- H1: $\\sigma^2_{interaccion} > 0 $\n",
    "\n",
    "Para esto comparamos el modelo completo contra uno reducido que excluya el término de interacción"
   ]
  },
  {
   "cell_type": "code",
   "execution_count": 18,
   "metadata": {},
   "outputs": [
    {
     "name": "stderr",
     "output_type": "stream",
     "text": [
      "refitting model(s) with ML (instead of REML)\n"
     ]
    },
    {
     "data": {
      "text/html": [
       "<table>\n",
       "<thead><tr><th></th><th scope=col>Df</th><th scope=col>AIC</th><th scope=col>BIC</th><th scope=col>logLik</th><th scope=col>deviance</th><th scope=col>Chisq</th><th scope=col>Chi Df</th><th scope=col>Pr(&gt;Chisq)</th></tr></thead>\n",
       "<tbody>\n",
       "\t<tr><th scope=row>modelo2</th><td>4        </td><td>250.2463 </td><td>257.0018 </td><td>-121.1232</td><td>242.2463 </td><td>       NA</td><td>NA       </td><td>       NA</td></tr>\n",
       "\t<tr><th scope=row>modelo</th><td>5        </td><td>251.8470 </td><td>260.2914 </td><td>-120.9235</td><td>241.8470 </td><td>0.3992791</td><td> 1       </td><td>0.5274618</td></tr>\n",
       "</tbody>\n",
       "</table>\n"
      ],
      "text/latex": [
       "\\begin{tabular}{r|llllllll}\n",
       "  & Df & AIC & BIC & logLik & deviance & Chisq & Chi Df & Pr(>Chisq)\\\\\n",
       "\\hline\n",
       "\tmodelo2 & 4         & 250.2463  & 257.0018  & -121.1232 & 242.2463  &        NA & NA        &        NA\\\\\n",
       "\tmodelo & 5         & 251.8470  & 260.2914  & -120.9235 & 241.8470  & 0.3992791 &  1        & 0.5274618\\\\\n",
       "\\end{tabular}\n"
      ],
      "text/markdown": [
       "\n",
       "| <!--/--> | Df | AIC | BIC | logLik | deviance | Chisq | Chi Df | Pr(>Chisq) | \n",
       "|---|---|\n",
       "| modelo2 | 4         | 250.2463  | 257.0018  | -121.1232 | 242.2463  |        NA | NA        |        NA | \n",
       "| modelo | 5         | 251.8470  | 260.2914  | -120.9235 | 241.8470  | 0.3992791 |  1        | 0.5274618 | \n",
       "\n",
       "\n"
      ],
      "text/plain": [
       "        Df AIC      BIC      logLik    deviance Chisq     Chi Df Pr(>Chisq)\n",
       "modelo2 4  250.2463 257.0018 -121.1232 242.2463        NA NA            NA \n",
       "modelo  5  251.8470 260.2914 -120.9235 241.8470 0.3992791  1     0.5274618 "
      ]
     },
     "metadata": {},
     "output_type": "display_data"
    }
   ],
   "source": [
    "# modelo reducido sin la interaccion\n",
    "modelo2 = lmer(colesterol~1 + (1|pacientef) + (1|corridaf))\n",
    "anova(modelo, modelo2)"
   ]
  },
  {
   "cell_type": "markdown",
   "metadata": {},
   "source": [
    "El pvalor nos da grande aceptamos la H0, que nos dice que la interacción no es significativa. \n",
    "Como el modelo es **puramente de efectos aleatorios**, es resultado debe ser equivalente a usar el IC que nos devolvió el **confint**."
   ]
  },
  {
   "cell_type": "code",
   "execution_count": null,
   "metadata": {},
   "outputs": [],
   "source": []
  }
 ],
 "metadata": {
  "kernelspec": {
   "display_name": "R",
   "language": "R",
   "name": "ir"
  },
  "language_info": {
   "codemirror_mode": "r",
   "file_extension": ".r",
   "mimetype": "text/x-r-source",
   "name": "R",
   "pygments_lexer": "r",
   "version": "3.5.1"
  },
  "toc": {
   "nav_menu": {},
   "number_sections": true,
   "sideBar": true,
   "skip_h1_title": false,
   "title_cell": "Tabla de Contenidos",
   "title_sidebar": "Contenido",
   "toc_cell": false,
   "toc_position": {},
   "toc_section_display": true,
   "toc_window_display": false
  }
 },
 "nbformat": 4,
 "nbformat_minor": 2
}
