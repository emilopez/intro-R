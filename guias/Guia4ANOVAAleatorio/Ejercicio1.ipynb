{
 "cells": [
  {
   "cell_type": "code",
   "execution_count": 1,
   "metadata": {},
   "outputs": [
    {
     "data": {
      "text/html": [
       "<table>\n",
       "<thead><tr><th scope=col>strenght</th><th scope=col>machine</th></tr></thead>\n",
       "<tbody>\n",
       "\t<tr><td>128</td><td>1  </td></tr>\n",
       "\t<tr><td>127</td><td>1  </td></tr>\n",
       "\t<tr><td>129</td><td>1  </td></tr>\n",
       "\t<tr><td>126</td><td>1  </td></tr>\n",
       "\t<tr><td>128</td><td>1  </td></tr>\n",
       "\t<tr><td>121</td><td>2  </td></tr>\n",
       "</tbody>\n",
       "</table>\n"
      ],
      "text/latex": [
       "\\begin{tabular}{r|ll}\n",
       " strenght & machine\\\\\n",
       "\\hline\n",
       "\t 128 & 1  \\\\\n",
       "\t 127 & 1  \\\\\n",
       "\t 129 & 1  \\\\\n",
       "\t 126 & 1  \\\\\n",
       "\t 128 & 1  \\\\\n",
       "\t 121 & 2  \\\\\n",
       "\\end{tabular}\n"
      ],
      "text/markdown": [
       "\n",
       "strenght | machine | \n",
       "|---|---|---|---|---|---|\n",
       "| 128 | 1   | \n",
       "| 127 | 1   | \n",
       "| 129 | 1   | \n",
       "| 126 | 1   | \n",
       "| 128 | 1   | \n",
       "| 121 | 2   | \n",
       "\n",
       "\n"
      ],
      "text/plain": [
       "  strenght machine\n",
       "1 128      1      \n",
       "2 127      1      \n",
       "3 129      1      \n",
       "4 126      1      \n",
       "5 128      1      \n",
       "6 121      2      "
      ]
     },
     "metadata": {},
     "output_type": "display_data"
    },
    {
     "name": "stdout",
     "output_type": "stream",
     "text": [
      "'data.frame':\t20 obs. of  2 variables:\n",
      " $ strenght: int  128 127 129 126 128 121 120 123 122 125 ...\n",
      " $ machine : int  1 1 1 1 1 2 2 2 2 2 ...\n"
     ]
    }
   ],
   "source": [
    "datos = read.csv(\"/home/emiliano/EstadisticaAplicada/Estadistica.Aplicada.2018/03_efectos_aleatorios_y_mixtos/datos/fishing.csv\", sep=\",\")\n",
    "head(datos)\n",
    "str(datos)\n",
    "attach(datos)\n",
    "machinef=as.factor(machine)"
   ]
  },
  {
   "cell_type": "code",
   "execution_count": 2,
   "metadata": {},
   "outputs": [
    {
     "name": "stderr",
     "output_type": "stream",
     "text": [
      "Loading required package: Matrix\n"
     ]
    }
   ],
   "source": [
    "library(lme4)"
   ]
  },
  {
   "cell_type": "code",
   "execution_count": 4,
   "metadata": {},
   "outputs": [
    {
     "name": "stderr",
     "output_type": "stream",
     "text": [
      "Computing profile confidence intervals ...\n"
     ]
    },
    {
     "data": {
      "text/html": [
       "<table>\n",
       "<thead><tr><th></th><th scope=col>2.5 %</th><th scope=col>97.5 %</th></tr></thead>\n",
       "<tbody>\n",
       "\t<tr><th scope=row>.sig01</th><td>  0.967975</td><td>  5.093825</td></tr>\n",
       "\t<tr><th scope=row>.sigma</th><td>  1.087139</td><td>  2.194122</td></tr>\n",
       "\t<tr><th scope=row>(Intercept)</th><td>122.890054</td><td>128.209944</td></tr>\n",
       "</tbody>\n",
       "</table>\n"
      ],
      "text/latex": [
       "\\begin{tabular}{r|ll}\n",
       "  & 2.5 \\% & 97.5 \\%\\\\\n",
       "\\hline\n",
       "\t.sig01 &   0.967975 &   5.093825\\\\\n",
       "\t.sigma &   1.087139 &   2.194122\\\\\n",
       "\t(Intercept) & 122.890054 & 128.209944\\\\\n",
       "\\end{tabular}\n"
      ],
      "text/markdown": [
       "\n",
       "| <!--/--> | 2.5 % | 97.5 % | \n",
       "|---|---|---|\n",
       "| .sig01 |   0.967975 |   5.093825 | \n",
       "| .sigma |   1.087139 |   2.194122 | \n",
       "| (Intercept) | 122.890054 | 128.209944 | \n",
       "\n",
       "\n"
      ],
      "text/plain": [
       "            2.5 %      97.5 %    \n",
       ".sig01        0.967975   5.093825\n",
       ".sigma        1.087139   2.194122\n",
       "(Intercept) 122.890054 128.209944"
      ]
     },
     "metadata": {},
     "output_type": "display_data"
    }
   ],
   "source": [
    "modelo = lmer(strenght~1 + (1|machinef))\n",
    "confint(modelo)"
   ]
  },
  {
   "cell_type": "code",
   "execution_count": 5,
   "metadata": {},
   "outputs": [
    {
     "name": "stdout",
     "output_type": "stream",
     "text": [
      "          Df    SS    MS  Fvalue Pvalue Sig             EMS\n",
      "machinef   3 87.75 29.25 13.2955  1e-04 *** Error+5machinef\n",
      "Residuals 16 35.20  2.20                              Error\n"
     ]
    }
   ],
   "source": [
    "library(EMSaov)\n",
    "datos$machinef = machinef\n",
    "\n",
    "m0 = EMSanova(strenght ~ machinef, type=c('R'), data=datos)\n",
    "print(m0)"
   ]
  },
  {
   "cell_type": "markdown",
   "metadata": {},
   "source": [
    "**CONCLUSION:** con ambos métodos (IC de la varianza y tabla EMSanova) confirmamos que el efecto aleatorio de las máquinas es significativo. \n",
    "\n",
    "**PREGUNTA: ¿Se puede hacer algo más? ¿Podemos inferir algo a partir de la comparación con el IC del error?** \n",
    "\n",
    "A veces queremos conocer la proporción de cada varianza, la de tu factor y la del error. Entonces podrías ver cuánto representa uno respecto al otro, \n",
    "\n",
    "Dice que podemos ver el estimador puntual para de cada varianza, de la tabla de EMSaov, tenemos que hacer\n",
    "\n",
    "$$\\sigma^2_A = (1/a) {{(MSA - MSE)} \\over {MSE}}$$\n",
    "\n",
    "$$\\sigma^2_E = MSE$$\n",
    "\n",
    "Nos pide que le enviemos un mail para que nos diga como sacar los estimadores puntual, que nos lo devuelve el ``lmer``"
   ]
  },
  {
   "cell_type": "code",
   "execution_count": null,
   "metadata": {},
   "outputs": [],
   "source": []
  }
 ],
 "metadata": {
  "kernelspec": {
   "display_name": "R",
   "language": "R",
   "name": "ir"
  },
  "language_info": {
   "codemirror_mode": "r",
   "file_extension": ".r",
   "mimetype": "text/x-r-source",
   "name": "R",
   "pygments_lexer": "r",
   "version": "3.5.1"
  },
  "toc": {
   "nav_menu": {},
   "number_sections": true,
   "sideBar": true,
   "skip_h1_title": false,
   "title_cell": "Tabla de Contenidos",
   "title_sidebar": "Contenido",
   "toc_cell": false,
   "toc_position": {},
   "toc_section_display": true,
   "toc_window_display": false
  }
 },
 "nbformat": 4,
 "nbformat_minor": 2
}
