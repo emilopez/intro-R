{
 "cells": [
  {
   "cell_type": "code",
   "execution_count": 6,
   "metadata": {},
   "outputs": [
    {
     "data": {
      "text/html": [
       "<table>\n",
       "<thead><tr><th scope=col>trt</th><th scope=col>lifetime</th></tr></thead>\n",
       "<tbody>\n",
       "\t<tr><td>BrandA</td><td>110   </td></tr>\n",
       "\t<tr><td>BrandA</td><td>113   </td></tr>\n",
       "\t<tr><td>BrandA</td><td>108   </td></tr>\n",
       "\t<tr><td>BrandA</td><td>115   </td></tr>\n",
       "\t<tr><td>BrandB</td><td>118   </td></tr>\n",
       "\t<tr><td>BrandB</td><td>116   </td></tr>\n",
       "</tbody>\n",
       "</table>\n"
      ],
      "text/latex": [
       "\\begin{tabular}{r|ll}\n",
       " trt & lifetime\\\\\n",
       "\\hline\n",
       "\t BrandA & 110   \\\\\n",
       "\t BrandA & 113   \\\\\n",
       "\t BrandA & 108   \\\\\n",
       "\t BrandA & 115   \\\\\n",
       "\t BrandB & 118   \\\\\n",
       "\t BrandB & 116   \\\\\n",
       "\\end{tabular}\n"
      ],
      "text/markdown": [
       "\n",
       "trt | lifetime | \n",
       "|---|---|---|---|---|---|\n",
       "| BrandA | 110    | \n",
       "| BrandA | 113    | \n",
       "| BrandA | 108    | \n",
       "| BrandA | 115    | \n",
       "| BrandB | 118    | \n",
       "| BrandB | 116    | \n",
       "\n",
       "\n"
      ],
      "text/plain": [
       "  trt    lifetime\n",
       "1 BrandA 110     \n",
       "2 BrandA 113     \n",
       "3 BrandA 108     \n",
       "4 BrandA 115     \n",
       "5 BrandB 118     \n",
       "6 BrandB 116     "
      ]
     },
     "metadata": {},
     "output_type": "display_data"
    }
   ],
   "source": [
    "# Ejercicio 2\n",
    "# leemos los datos\n",
    "\n",
    "datos = read.csv(\"/home/emiliano/EstadisticaAplicada/Estadistica.Aplicada.2018/03_efectos_aleatorios_y_mixtos/datos/battery_data.txt\", sep=\"\\t\")\n",
    "head(datos)\n",
    "attach(datos)"
   ]
  },
  {
   "cell_type": "markdown",
   "metadata": {},
   "source": [
    "**a)** Escriba el modelo estadı́stico sobre el que basará su estudio y explique sus componentes.\n",
    "\n",
    "$$y_{ij} = \\mu + A_i + \\epsilon_{ij}$$\n",
    "\n",
    "Donde $A_i$ es el efecto aleatorio y $e_i$ el error o los residuos.\n",
    "\n",
    "**b)** Establezca las suposiciones necesarias para un análisis de varianza de los datos.\n",
    "\n",
    "- $A_i$ es una variable aletoria\n",
    "- Independiente\n",
    "- $\\epsilon_i = N(0, \\sigma_\\epsilon^2)$\n",
    "- $A_i = N(0, \\sigma_A^2)$\n",
    "- Y $var(y_i) = \\sigma^2_A + \\sigma^2_{\\epsilon}$"
   ]
  },
  {
   "cell_type": "code",
   "execution_count": 7,
   "metadata": {},
   "outputs": [
    {
     "name": "stderr",
     "output_type": "stream",
     "text": [
      "Computing profile confidence intervals ...\n"
     ]
    },
    {
     "data": {
      "text/html": [
       "<table>\n",
       "<thead><tr><th></th><th scope=col>2.5 %</th><th scope=col>97.5 %</th></tr></thead>\n",
       "<tbody>\n",
       "\t<tr><th scope=row>.sig01</th><td>  0.6530752</td><td>  7.166913 </td></tr>\n",
       "\t<tr><th scope=row>.sigma</th><td>  1.9371621</td><td>  4.374014 </td></tr>\n",
       "\t<tr><th scope=row>(Intercept)</th><td>109.1585596</td><td>116.716437 </td></tr>\n",
       "</tbody>\n",
       "</table>\n"
      ],
      "text/latex": [
       "\\begin{tabular}{r|ll}\n",
       "  & 2.5 \\% & 97.5 \\%\\\\\n",
       "\\hline\n",
       "\t.sig01 &   0.6530752 &   7.166913 \\\\\n",
       "\t.sigma &   1.9371621 &   4.374014 \\\\\n",
       "\t(Intercept) & 109.1585596 & 116.716437 \\\\\n",
       "\\end{tabular}\n"
      ],
      "text/markdown": [
       "\n",
       "| <!--/--> | 2.5 % | 97.5 % | \n",
       "|---|---|---|\n",
       "| .sig01 |   0.6530752 |   7.166913  | \n",
       "| .sigma |   1.9371621 |   4.374014  | \n",
       "| (Intercept) | 109.1585596 | 116.716437  | \n",
       "\n",
       "\n"
      ],
      "text/plain": [
       "            2.5 %       97.5 %    \n",
       ".sig01        0.6530752   7.166913\n",
       ".sigma        1.9371621   4.374014\n",
       "(Intercept) 109.1585596 116.716437"
      ]
     },
     "metadata": {},
     "output_type": "display_data"
    }
   ],
   "source": [
    "# Ajustamos un modelo de únicamente efectos aleatorios\n",
    "library(lme4)\n",
    "# la marca de baterias es un efecto aleatorio\n",
    "m = lmer(lifetime ~ 1 + (1|trt), REML=TRUE)\n",
    "confint(m)\n",
    "\n",
    "# nos damos cuenta que es significativa la interaccion porque  \n",
    "# .sig01 es el del factor aleatorio, si el limite inferior es 0 entonces NO ES SIGNIFICATIVO, pero vemos que es muy importante\n",
    "# .sigma es siempre un estimador del error estandar"
   ]
  },
  {
   "cell_type": "markdown",
   "metadata": {},
   "source": [
    "Vemos que es significativa el aporte del efecto aleatorio ya que el límite inferior del Intervalo de confianza ``.sig01`` NO es cero."
   ]
  },
  {
   "cell_type": "markdown",
   "metadata": {},
   "source": [
    "**c)** ¿Cambiarı́a el modelo si el objetivo de los investigadores fuera comparar la vida útil de las baterı́as\n",
    "producidas por esas marcas en particular?. En caso de respuesta afirmativa, escriba el modelo apropiado y realice la prueba ANOVA correspondiente.\n",
    "\n",
    "Si me interesa conocer la marca que dura más entonces debería estudiarlo como efecto fijo, por lo que el modelo queda de la siguiente manera:\n",
    "\n",
    "$$y_{ij} = \\mu + \\tau_i + \\epsilon_{ij}$$\n",
    "\n",
    "Hacemos luego el análisis ANOVA:"
   ]
  },
  {
   "cell_type": "code",
   "execution_count": 9,
   "metadata": {},
   "outputs": [
    {
     "data": {
      "text/plain": [
       "            Df Sum Sq Mean Sq F value  Pr(>F)   \n",
       "trt          3 141.69   47.23   6.211 0.00863 **\n",
       "Residuals   12  91.25    7.60                   \n",
       "---\n",
       "Signif. codes:  0 ‘***’ 0.001 ‘**’ 0.01 ‘*’ 0.05 ‘.’ 0.1 ‘ ’ 1"
      ]
     },
     "metadata": {},
     "output_type": "display_data"
    }
   ],
   "source": [
    "m0 = aov(lifetime~trt)\n",
    "summary(m0)"
   ]
  },
  {
   "cell_type": "markdown",
   "metadata": {},
   "source": [
    "En este caso, vemos que nos da significativo la marca de batería en el análisis ya que el pvalor=0.00863, entonces, ahora sí hacemos comparaciones multuples usando ``tukey``:"
   ]
  },
  {
   "cell_type": "code",
   "execution_count": 10,
   "metadata": {},
   "outputs": [
    {
     "data": {
      "text/plain": [
       "  Tukey multiple comparisons of means\n",
       "    95% family-wise confidence level\n",
       "\n",
       "Fit: aov(formula = lifetime ~ trt)\n",
       "\n",
       "$trt\n",
       "               diff       lwr      upr     p adj\n",
       "BrandB-BrandA  4.25  -1.53904 10.03904 0.1841092\n",
       "BrandC-BrandA -2.75  -8.53904  3.03904 0.5167931\n",
       "BrandD-BrandA  4.25  -1.53904 10.03904 0.1841092\n",
       "BrandC-BrandB -7.00 -12.78904 -1.21096 0.0169072\n",
       "BrandD-BrandB  0.00  -5.78904  5.78904 1.0000000\n",
       "BrandD-BrandC  7.00   1.21096 12.78904 0.0169072\n"
      ]
     },
     "metadata": {},
     "output_type": "display_data"
    }
   ],
   "source": [
    "# si tenemos efecto fijo y un solo factor podemos hacer tukey asi\n",
    "TukeyHSD(m0)\n",
    "\n",
    "# el grafico exploratorio boxplot nos dice una cosa que luego vemos que no es tan asi, eso lo vemos con los IC\n",
    "# para aquellos que no se incluyen el 0 \n",
    "# - D con C\n",
    "# - C con B"
   ]
  },
  {
   "cell_type": "code",
   "execution_count": 11,
   "metadata": {},
   "outputs": [
    {
     "data": {
      "image/png": "[encoded data removed]",
      "text/plain": [
       "plot without title"
      ]
     },
     "metadata": {},
     "output_type": "display_data"
    }
   ],
   "source": [
    "boxplot(lifetime~trt)"
   ]
  },
  {
   "cell_type": "code",
   "execution_count": 12,
   "metadata": {},
   "outputs": [
    {
     "name": "stdout",
     "output_type": "stream",
     "text": [
      "[1] \"WARNING: esta funcion considera que todos los ni son iguales\"\n",
      "[1] \"BrandA\"\n",
      "[1] \"BrandB\"\n",
      "[1] \"BrandD\"\n"
     ]
    },
    {
     "data": {
      "text/html": [
       "<ol class=list-inline>\n",
       "\t<li>NA</li>\n",
       "\t<li>'BrandA'</li>\n",
       "\t<li>'BrandB'</li>\n",
       "\t<li>'BrandD'</li>\n",
       "</ol>\n"
      ],
      "text/latex": [
       "\\begin{enumerate*}\n",
       "\\item NA\n",
       "\\item 'BrandA'\n",
       "\\item 'BrandB'\n",
       "\\item 'BrandD'\n",
       "\\end{enumerate*}\n"
      ],
      "text/markdown": [
       "1. NA\n",
       "2. 'BrandA'\n",
       "3. 'BrandB'\n",
       "4. 'BrandD'\n",
       "\n",
       "\n"
      ],
      "text/plain": [
       "[1] NA       \"BrandA\" \"BrandB\" \"BrandD\""
      ]
     },
     "metadata": {},
     "output_type": "display_data"
    }
   ],
   "source": [
    "# esto \n",
    "source(\"/home/emiliano/EstadisticaAplicada/practica/mymultcomp.R\")\n",
    "maxHSU(lifetime, trt, alpha=0.05, 7.60, 12) "
   ]
  },
  {
   "cell_type": "code",
   "execution_count": null,
   "metadata": {},
   "outputs": [],
   "source": []
  }
 ],
 "metadata": {
  "kernelspec": {
   "display_name": "R",
   "language": "R",
   "name": "ir"
  },
  "language_info": {
   "codemirror_mode": "r",
   "file_extension": ".r",
   "mimetype": "text/x-r-source",
   "name": "R",
   "pygments_lexer": "r",
   "version": "3.5.1"
  },
  "toc": {
   "nav_menu": {},
   "number_sections": true,
   "sideBar": true,
   "skip_h1_title": false,
   "title_cell": "Tabla de Contenidos",
   "title_sidebar": "Contenido",
   "toc_cell": false,
   "toc_position": {},
   "toc_section_display": true,
   "toc_window_display": false
  }
 },
 "nbformat": 4,
 "nbformat_minor": 2
}
