{
 "cells": [
  {
   "cell_type": "markdown",
   "metadata": {},
   "source": [
    "# Guía ANOVA factorial\n",
    "\n",
    "**Ejercicio 3:** Se ha realizado un diseño de experimentos para estudiar la calidad de las soldaduras, el objetivo es determinar si existen diferencias entre las soldaduras según el elemento de soldadura que se utilice entre tres posibles: nı́quel, hierro o cobre. Como pueden haber diferencias significativas entre los elementos a soldar se ha utilizado un diseño de bloques completamente aleatorizados. Para ello se han utilizado\n",
    "diez lingotes (bloques) y de cada uno de ellos se han soldado dos componentes utilizando los tres tipos de soldadura. Finalmente se mide la fuerza (expresada en 100 libras por pulgada cuadrada) necesaria para romper la soldadura. Los resultados obtenidos son los de la tabla adjunta. En base a estos datos estudiar la influencia de factor “tipo de soldadura”, ¿cambian los resultados si no se tiene en cuenta el bloque “lingote”?."
   ]
  },
  {
   "cell_type": "markdown",
   "metadata": {},
   "source": [
    "**a)** Escriba un modelo lineal para el experimento, explique los términos utilizados en el mismo y realice el análisis de varianza.\n",
    "\n",
    "$$y_{ijk}=\\mu + \\alpha_i + \\beta_j + \\epsilon_{ijk}$$\n",
    "\n",
    "donde $\\alpha$ es el efecto del tratamiento (distintas soldaduras), $\\beta_j$ es el efecto del bloque (distintos lingotes) y $\\epsilon_{ijk}$ el error o residuos. "
   ]
  },
  {
   "cell_type": "code",
   "execution_count": 4,
   "metadata": {},
   "outputs": [
    {
     "data": {
      "text/html": [
       "<table>\n",
       "<thead><tr><th scope=col>soldadura</th><th scope=col>lingote</th><th scope=col>fuerza</th></tr></thead>\n",
       "<tbody>\n",
       "\t<tr><td>niquel</td><td>1     </td><td>76.0  </td></tr>\n",
       "\t<tr><td>niquel</td><td>2     </td><td>66.3  </td></tr>\n",
       "\t<tr><td>niquel</td><td>3     </td><td>68.9  </td></tr>\n",
       "\t<tr><td>niquel</td><td>4     </td><td>74.7  </td></tr>\n",
       "\t<tr><td>niquel</td><td>5     </td><td>73.0  </td></tr>\n",
       "\t<tr><td>niquel</td><td>6     </td><td>72.7  </td></tr>\n",
       "</tbody>\n",
       "</table>\n"
      ],
      "text/latex": [
       "\\begin{tabular}{r|lll}\n",
       " soldadura & lingote & fuerza\\\\\n",
       "\\hline\n",
       "\t niquel & 1      & 76.0  \\\\\n",
       "\t niquel & 2      & 66.3  \\\\\n",
       "\t niquel & 3      & 68.9  \\\\\n",
       "\t niquel & 4      & 74.7  \\\\\n",
       "\t niquel & 5      & 73.0  \\\\\n",
       "\t niquel & 6      & 72.7  \\\\\n",
       "\\end{tabular}\n"
      ],
      "text/markdown": [
       "\n",
       "soldadura | lingote | fuerza | \n",
       "|---|---|---|---|---|---|\n",
       "| niquel | 1      | 76.0   | \n",
       "| niquel | 2      | 66.3   | \n",
       "| niquel | 3      | 68.9   | \n",
       "| niquel | 4      | 74.7   | \n",
       "| niquel | 5      | 73.0   | \n",
       "| niquel | 6      | 72.7   | \n",
       "\n",
       "\n"
      ],
      "text/plain": [
       "  soldadura lingote fuerza\n",
       "1 niquel    1       76.0  \n",
       "2 niquel    2       66.3  \n",
       "3 niquel    3       68.9  \n",
       "4 niquel    4       74.7  \n",
       "5 niquel    5       73.0  \n",
       "6 niquel    6       72.7  "
      ]
     },
     "metadata": {},
     "output_type": "display_data"
    },
    {
     "name": "stderr",
     "output_type": "stream",
     "text": [
      "The following objects are masked from datos (pos = 3):\n",
      "\n",
      "    fuerza, lingote, soldadura\n",
      "\n"
     ]
    }
   ],
   "source": [
    "# leemos los datos y acomodamos los factores\n",
    "setwd(\"/home/emiliano/EstadisticaAplicada/Estadistica.Aplicada.2018/02_disenio_factorial_y_bloques/datos/\")\n",
    "datos = read.csv(\"Fuerza_soldadura.csv\", sep=\",\")\n",
    "head(datos)\n",
    "#str(datos)\n",
    "attach(datos)\n",
    "lingoteB = as.factor(lingote)\n",
    "soldaduraF = as.factor(soldadura)"
   ]
  },
  {
   "cell_type": "code",
   "execution_count": 5,
   "metadata": {},
   "outputs": [
    {
     "data": {
      "text/plain": [
       "            Df Sum Sq Mean Sq F value Pr(>F)\n",
       "lingoteB     9  509.9   56.66   1.797  0.139\n",
       "soldaduraF   2  138.4   69.21   2.194  0.140\n",
       "Residuals   18  567.7   31.54               "
      ]
     },
     "metadata": {},
     "output_type": "display_data"
    }
   ],
   "source": [
    "# hacemos el analisis de la varianza\n",
    "modelo = aov(fuerza~lingoteB+soldaduraF)\n",
    "summary(modelo)"
   ]
  },
  {
   "cell_type": "markdown",
   "metadata": {},
   "source": [
    "De estos resultados vemos:\n",
    "\n",
    "- Las distintas soldaduras tenemos un p-valor de 0.140, valor superior a $\\alpha = 0.05$ por lo que no podemos rechazar la H0, así que entonces diríamos que todos los métodos son estadísticamente iguales.\n",
    "\n",
    "- Para el bloque vemos que el p-valor es de 0.139 por lo que del mismo modo podríamos decir que los diferentes lingotes tampoco afectan."
   ]
  },
  {
   "cell_type": "code",
   "execution_count": 6,
   "metadata": {},
   "outputs": [
    {
     "data": {
      "text/plain": [
       "            Df Sum Sq Mean Sq F value Pr(>F)\n",
       "soldaduraF   2  138.4   69.21   1.734  0.196\n",
       "Residuals   27 1077.6   39.91               "
      ]
     },
     "metadata": {},
     "output_type": "display_data"
    }
   ],
   "source": [
    "modelo = aov(fuerza~soldaduraF)\n",
    "summary(modelo)"
   ]
  },
  {
   "cell_type": "markdown",
   "metadata": {},
   "source": [
    "**b)** ¿Cuáles son las suposiciones necesarias para que el análisis de varianza sea válido? Analice la validez de dichos supuestos.\n",
    "\n",
    "- Normalidad de los datos\n",
    "- Varianza constante\n",
    "- Independencia entre los distintos factores\n",
    "\n",
    "Veremos con los resultados a continuación de la validez de estos supuestos:"
   ]
  },
  {
   "cell_type": "code",
   "execution_count": 9,
   "metadata": {},
   "outputs": [
    {
     "data": {
      "image/png": "[encoded data removed]",
      "text/plain": [
       "Plot with title “Normal Q-Q Plot”"
      ]
     },
     "metadata": {},
     "output_type": "display_data"
    }
   ],
   "source": [
    "# Inicialmente hacemos un gráfico exploratorio para analizar la normalidad\n",
    "qqnorm(modelo$residuals)\n",
    "qqline(modelo$residuals)"
   ]
  },
  {
   "cell_type": "code",
   "execution_count": 3,
   "metadata": {},
   "outputs": [
    {
     "data": {
      "text/plain": [
       "\n",
       "\tShapiro-Wilk normality test\n",
       "\n",
       "data:  modelo$residuals\n",
       "W = 0.96712, p-value = 0.4637\n"
      ]
     },
     "metadata": {},
     "output_type": "display_data"
    }
   ],
   "source": [
    "# Hacemos el test de Shapiro-Wilk \n",
    "# pvalor grande => aceptamos H0: Normalidad\n",
    "shapiro.test(modelo$residuals)"
   ]
  },
  {
   "cell_type": "code",
   "execution_count": 11,
   "metadata": {},
   "outputs": [
    {
     "data": {
      "text/html": [
       "<table>\n",
       "<thead><tr><th></th><th scope=col>Df</th><th scope=col>F value</th><th scope=col>Pr(&gt;F)</th></tr></thead>\n",
       "<tbody>\n",
       "\t<tr><th scope=row>group</th><td> 2        </td><td>2.585668  </td><td>0.09388105</td></tr>\n",
       "\t<tr><th scope=row> </th><td>27        </td><td>      NA  </td><td>        NA</td></tr>\n",
       "</tbody>\n",
       "</table>\n"
      ],
      "text/latex": [
       "\\begin{tabular}{r|lll}\n",
       "  & Df & F value & Pr(>F)\\\\\n",
       "\\hline\n",
       "\tgroup &  2         & 2.585668   & 0.09388105\\\\\n",
       "\t  & 27         &       NA   &         NA\\\\\n",
       "\\end{tabular}\n"
      ],
      "text/markdown": [
       "\n",
       "| <!--/--> | Df | F value | Pr(>F) | \n",
       "|---|---|\n",
       "| group |  2         | 2.585668   | 0.09388105 | \n",
       "|   | 27         |       NA   |         NA | \n",
       "\n",
       "\n"
      ],
      "text/plain": [
       "      Df F value  Pr(>F)    \n",
       "group  2 2.585668 0.09388105\n",
       "      27       NA         NA"
      ]
     },
     "metadata": {},
     "output_type": "display_data"
    }
   ],
   "source": [
    "# Para la varianza hacemos el test de Levene\n",
    "# pvalor grande => aceptamos H0:Varianzas constantes\n",
    "library(car)\n",
    "leveneTest(fuerza~soldaduraF)"
   ]
  },
  {
   "cell_type": "markdown",
   "metadata": {},
   "source": [
    "**c)** Considere que el tipo de soldadura utilizado normalmente es hierro. Use el método de Dunnett para probar la diferencia entre el hierro y cada uno de los otros tipos de soldaduras.\n",
    "\n",
    "Veamos primeramente el orden de los niveles del factor soldadura:"
   ]
  },
  {
   "cell_type": "code",
   "execution_count": 4,
   "metadata": {},
   "outputs": [
    {
     "data": {
      "text/html": [
       "<ol class=list-inline>\n",
       "\t<li>'cobre'</li>\n",
       "\t<li>'hierro'</li>\n",
       "\t<li>'niquel'</li>\n",
       "</ol>\n"
      ],
      "text/latex": [
       "\\begin{enumerate*}\n",
       "\\item 'cobre'\n",
       "\\item 'hierro'\n",
       "\\item 'niquel'\n",
       "\\end{enumerate*}\n"
      ],
      "text/markdown": [
       "1. 'cobre'\n",
       "2. 'hierro'\n",
       "3. 'niquel'\n",
       "\n",
       "\n"
      ],
      "text/plain": [
       "[1] \"cobre\"  \"hierro\" \"niquel\""
      ]
     },
     "metadata": {},
     "output_type": "display_data"
    }
   ],
   "source": [
    "levels(soldaduraF)"
   ]
  },
  {
   "cell_type": "markdown",
   "metadata": {},
   "source": [
    "Debemos reacomodar para dejar en primer lugar al hierro, ya que R tomará como control el que esté en la primer posición, notar que el factor reordenado ahora se comienza con S mayúscula. "
   ]
  },
  {
   "cell_type": "code",
   "execution_count": 7,
   "metadata": {},
   "outputs": [
    {
     "data": {
      "text/plain": [
       "            Df Sum Sq Mean Sq F value Pr(>F)\n",
       "SoldaduraF   2  138.4   69.21   2.194  0.140\n",
       "lingoteB     9  509.9   56.66   1.797  0.139\n",
       "Residuals   18  567.7   31.54               "
      ]
     },
     "metadata": {},
     "output_type": "display_data"
    }
   ],
   "source": [
    "# reordenamos los niveles del factor\n",
    "SoldaduraF = factor(soldaduraF, levels=c('hierro', 'cobre', 'niquel'))\n",
    "modelo2 = aov(fuerza~SoldaduraF+lingoteB)\n",
    "summary(modelo2)"
   ]
  },
  {
   "cell_type": "code",
   "execution_count": 16,
   "metadata": {},
   "outputs": [],
   "source": [
    "# Estas comparaciones multiples dejan de tener sentido porque ya vimos por el pvalor\n",
    "# que no hay diferencias entre las medias, asi que lo comento\n",
    "#library(multcomp)\n",
    "#T2 = glht(modelo2, linfct = mcp(SoldaduraF = \"Dunnet\"), alternative=\"two.sided\")\n",
    "#summary(T2)\n",
    "#confint(T2, level = .95)"
   ]
  },
  {
   "cell_type": "code",
   "execution_count": 17,
   "metadata": {},
   "outputs": [],
   "source": [
    "#plot(confint(T2, level = .95))"
   ]
  },
  {
   "cell_type": "markdown",
   "metadata": {},
   "source": [
    "**d)** Calcule la potencia relativa de este diseño respecto a un diseño totalmente aleatorizado. ¿Cuáles son sus conclusiones?"
   ]
  },
  {
   "cell_type": "code",
   "execution_count": 8,
   "metadata": {},
   "outputs": [],
   "source": [
    "# La idea es calcular la potencia del test usando el diseño con bloques, y la potencia del modelo \n",
    "# sin utilizar los bloques (es decir, considerando solo el factor tipo de soldadura)  y ver cuanto \n",
    "# mejora (o no) la potencia al considerar los bloques (por eso potencia relativa, ver cuanto da el \n",
    "# cociente entre la potencia con y sin bloques). Me explico??"
   ]
  },
  {
   "cell_type": "markdown",
   "metadata": {},
   "source": [
    "Sobre esto dijo el profesor en clases:\n",
    "\n",
    "- Nos pide que comparemos la (potencia con el bloque) / (potencia comun)\n",
    "- El D que necesitamos podemos usar cualquiera, dice que se lo olvidaron, pero podriamos tener varios y hacer una curva"
   ]
  },
  {
   "cell_type": "code",
   "execution_count": 2,
   "metadata": {},
   "outputs": [
    {
     "data": {
      "text/html": [
       "0.355320906187869"
      ],
      "text/latex": [
       "0.355320906187869"
      ],
      "text/markdown": [
       "0.355320906187869"
      ],
      "text/plain": [
       "[1] 0.3553209"
      ]
     },
     "metadata": {},
     "output_type": "display_data"
    }
   ],
   "source": [
    "# potencia (modelo con bloques)\n",
    "D = 5\n",
    "b = 10 # cantidad de bloques\n",
    "a = 3 # niveles por factor\n",
    "MSE = 31.54\n",
    "lambda = b*D^2/(2*MSE)\n",
    "alpha = 0.05\n",
    "A = qf(1-alpha, a-1, (a-1)*(b-1))\n",
    "(potenciaCON = 1-pf(A, a-1, (a-1)*(b-1), lambda))"
   ]
  },
  {
   "cell_type": "code",
   "execution_count": 3,
   "metadata": {},
   "outputs": [
    {
     "data": {
      "text/html": [
       "0.302701371912643"
      ],
      "text/latex": [
       "0.302701371912643"
      ],
      "text/markdown": [
       "0.302701371912643"
      ],
      "text/plain": [
       "[1] 0.3027014"
      ]
     },
     "metadata": {},
     "output_type": "display_data"
    }
   ],
   "source": [
    "# potencia (modelo SIN bloques)\n",
    "D = 5\n",
    "b = 10 # replicas por nivel del factor\n",
    "a = 3 # niveles por factor\n",
    "MSE = 39.91\n",
    "lambda = b*D^2/(2*MSE)\n",
    "A = qf(1-alpha, a-1, a*b-a) # (a-1)*(b-1)\n",
    "(potenciaSIN = 1-pf(A, a-1, a*b-a, lambda))"
   ]
  },
  {
   "cell_type": "code",
   "execution_count": 6,
   "metadata": {},
   "outputs": [
    {
     "data": {
      "text/html": [
       "1.27911342495674"
      ],
      "text/latex": [
       "1.27911342495674"
      ],
      "text/markdown": [
       "1.27911342495674"
      ],
      "text/plain": [
       "[1] 1.279113"
      ]
     },
     "metadata": {},
     "output_type": "display_data"
    }
   ],
   "source": [
    "# potencia relavita\n",
    "(potenciaCON/potenciaSIN)\n",
    "\n",
    "# con bloques tenemos mas potencia como es de esperar"
   ]
  },
  {
   "cell_type": "markdown",
   "metadata": {},
   "source": [
    "- Obtenemos mayor potencia **CON** bloques ya que el MSE es menor, por lo tanto la F se desplaza mas a la derecha ya que el parámetro de no centralidad $\\lambda$ da mayor. \n",
    "\n",
    "- Para el caso **SIN** bloques, el MSE nos da mayor ya que no se le resta el error de los bloques, de esta manera al calcular el parámetro de no centralidad $\\lambda$ la F se desplaza menos. "
   ]
  },
  {
   "cell_type": "code",
   "execution_count": null,
   "metadata": {},
   "outputs": [],
   "source": []
  }
 ],
 "metadata": {
  "kernelspec": {
   "display_name": "R",
   "language": "R",
   "name": "ir"
  },
  "language_info": {
   "codemirror_mode": "r",
   "file_extension": ".r",
   "mimetype": "text/x-r-source",
   "name": "R",
   "pygments_lexer": "r",
   "version": "3.5.1"
  },
  "toc": {
   "nav_menu": {},
   "number_sections": true,
   "sideBar": true,
   "skip_h1_title": false,
   "title_cell": "Tabla de Contenidos",
   "title_sidebar": "Contenido",
   "toc_cell": false,
   "toc_position": {},
   "toc_section_display": true,
   "toc_window_display": false
  }
 },
 "nbformat": 4,
 "nbformat_minor": 2
}
