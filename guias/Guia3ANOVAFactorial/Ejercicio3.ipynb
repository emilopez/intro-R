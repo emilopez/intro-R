{
 "cells": [
  {
   "cell_type": "markdown",
   "metadata": {},
   "source": [
    "# Guía ANOVA factorial\n",
    "(x emilopez)\n",
    "\n",
    "**Ejercicio 3:** Se ha realizado un diseño de experimentos para estudiar la calidad de las soldaduras, el objetivo es determinar si existen diferencias entre las soldaduras según el elemento de soldadura que se utilice entre tres posibles: nı́quel, hierro o cobre. Como pueden haber diferencias significativas entre los elementos a soldar se ha utilizado un diseño de bloques completamente aleatorizados. Para ello se han utilizado\n",
    "diez lingotes (bloques) y de cada uno de ellos se han soldado dos componentes utilizando los tres tipos de soldadura. Finalmente se mide la fuerza (expresada en 100 libras por pulgada cuadrada) necesaria para romper la soldadura. Los resultados obtenidos son los de la tabla adjunta. En base a estos datos estudiar la influencia de factor “tipo de soldadura”, ¿cambian los resultados si no se tiene en cuenta el bloque “lingote”?."
   ]
  },
  {
   "cell_type": "code",
   "execution_count": null,
   "metadata": {},
   "outputs": [],
   "source": []
  }
 ],
 "metadata": {
  "kernelspec": {
   "display_name": "R",
   "language": "R",
   "name": "ir"
  },
  "language_info": {
   "codemirror_mode": "r",
   "file_extension": ".r",
   "mimetype": "text/x-r-source",
   "name": "R",
   "pygments_lexer": "r",
   "version": "3.5.1"
  },
  "toc": {
   "nav_menu": {},
   "number_sections": true,
   "sideBar": true,
   "skip_h1_title": false,
   "title_cell": "Tabla de Contenidos",
   "title_sidebar": "Contenido",
   "toc_cell": false,
   "toc_position": {},
   "toc_section_display": true,
   "toc_window_display": false
  }
 },
 "nbformat": 4,
 "nbformat_minor": 2
}
