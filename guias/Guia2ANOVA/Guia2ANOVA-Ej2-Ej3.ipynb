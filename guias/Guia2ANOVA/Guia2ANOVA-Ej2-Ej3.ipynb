{
 "cells": [
  {
   "cell_type": "markdown",
   "metadata": {},
   "source": [
    "# Ejercicio 2\n",
    "\n",
    "a) Modelo supuesto:\n",
    "\n",
    "$$y_{ij} =  \\mu + \\tau_i + \\epsilon_{ij}$$\n",
    "\n",
    "donde tenemos i tratamientos (1..5) y j observaciones y:\n",
    "\n",
    "- $\\mu$ es la media global \n",
    "- $\\tau_i$ es el efecto del tratamiento i\n",
    "- $\\epsilon_{ij}$ es el error aleatorio de distribución Normal\n",
    "\n",
    "\n",
    "\n",
    "b) Las suposiciones son: \n",
    "\n",
    "- Los $\\epsilon_{ij}$ siguen una distribución normal con media cero.\n",
    "- Los $\\epsilon_{ij}$ son independientes entre sí.\n",
    "- Los residuos de cada tratamiento tienen la misma varianza $\\sigma^2$.\n",
    "\n",
    "\n",
    "c) Cargamos los datos y los visualizamos"
   ]
  },
  {
   "cell_type": "code",
   "execution_count": 1,
   "metadata": {},
   "outputs": [
    {
     "name": "stdout",
     "output_type": "stream",
     "text": [
      "'data.frame':\t25 obs. of  2 variables:\n",
      " $ Etapa  : Factor w/ 5 levels \"60gSalvado\",\"80gSalvado\",..: 5 5 5 5 5 3 3 3 3 3 ...\n",
      " $ SueroT3: num  94.1 90.5 99.4 73.6 74.4 ...\n"
     ]
    },
    {
     "data": {
      "text/html": [
       "<ol class=list-inline>\n",
       "\t<li>'Etapa'</li>\n",
       "\t<li>'SueroT3'</li>\n",
       "</ol>\n"
      ],
      "text/latex": [
       "\\begin{enumerate*}\n",
       "\\item 'Etapa'\n",
       "\\item 'SueroT3'\n",
       "\\end{enumerate*}\n"
      ],
      "text/markdown": [
       "1. 'Etapa'\n",
       "2. 'SueroT3'\n",
       "\n",
       "\n"
      ],
      "text/plain": [
       "[1] \"Etapa\"   \"SueroT3\""
      ]
     },
     "metadata": {},
     "output_type": "display_data"
    },
    {
     "data": {
      "text/html": [
       "<ol class=list-inline>\n",
       "\t<li>'60gSalvado'</li>\n",
       "\t<li>'80gSalvado'</li>\n",
       "\t<li>'Ayuno'</li>\n",
       "\t<li>'Mezcla'</li>\n",
       "\t<li>'Premuda'</li>\n",
       "</ol>\n"
      ],
      "text/latex": [
       "\\begin{enumerate*}\n",
       "\\item '60gSalvado'\n",
       "\\item '80gSalvado'\n",
       "\\item 'Ayuno'\n",
       "\\item 'Mezcla'\n",
       "\\item 'Premuda'\n",
       "\\end{enumerate*}\n"
      ],
      "text/markdown": [
       "1. '60gSalvado'\n",
       "2. '80gSalvado'\n",
       "3. 'Ayuno'\n",
       "4. 'Mezcla'\n",
       "5. 'Premuda'\n",
       "\n",
       "\n"
      ],
      "text/plain": [
       "[1] \"60gSalvado\" \"80gSalvado\" \"Ayuno\"      \"Mezcla\"     \"Premuda\"   "
      ]
     },
     "metadata": {},
     "output_type": "display_data"
    }
   ],
   "source": [
    "datos = read.csv(\"/home/emiliano/EstadisticaAplicada/practica/gallinas.csv\", sep=\",\", header=TRUE)\n",
    "# es buena practiva ver la estructura para saber si tomo como factores los datos\n",
    "attach(datos)\n",
    "str(datos)\n",
    "names(datos)\n",
    "levels(Etapa)"
   ]
  },
  {
   "cell_type": "markdown",
   "metadata": {},
   "source": [
    "**R ordena los datos alfabeticamente según el factor y luego usará el primero como control.** Si quisieramos cambiar el orden compulsivamente hacemos:\n",
    "\n",
    "``etapa = factor(Etapa, levels=c('Premuda', 'Ayuno', '60gSalvado', '80gSalvado', 'Mezcla'))``"
   ]
  },
  {
   "cell_type": "code",
   "execution_count": 2,
   "metadata": {},
   "outputs": [
    {
     "name": "stderr",
     "output_type": "stream",
     "text": [
      "The following objects are masked from datos (pos = 3):\n",
      "\n",
      "    Etapa, SueroT3\n",
      "\n"
     ]
    }
   ],
   "source": [
    "attach(datos)\n",
    "etapa = factor(Etapa, levels=c('Premuda', 'Ayuno', '60gSalvado', '80gSalvado', 'Mezcla'))"
   ]
  },
  {
   "cell_type": "code",
   "execution_count": 3,
   "metadata": {},
   "outputs": [
    {
     "data": {},
     "metadata": {},
     "output_type": "display_data"
    },
    {
     "data": {
      "image/png": "[encoded data removed]",
      "text/plain": [
       "plot without title"
      ]
     },
     "metadata": {},
     "output_type": "display_data"
    }
   ],
   "source": [
    "#no conviene el boxplot pq son pocos datos\n",
    "library(lattice)\n",
    "xyplot(SueroT3~etapa, data = datos)"
   ]
  },
  {
   "cell_type": "markdown",
   "metadata": {},
   "source": [
    "**c)** Vemos que el tratamiento afecta a la respuesta ya que al hacer el análisis ANOVA obtenemos una tabla donde vemos que el p-valor pequeño (6.48E-12). \n",
    "\n",
    "De esta tabla es importante también el $MSE = Sp^2 = 156$, que usaremos en cálculos posteriores."
   ]
  },
  {
   "cell_type": "code",
   "execution_count": 4,
   "metadata": {},
   "outputs": [
    {
     "data": {
      "text/plain": [
       "            Df Sum Sq Mean Sq F value   Pr(>F)    \n",
       "etapa        4  48569   12142   78.08 6.48e-12 ***\n",
       "Residuals   20   3110     156                     \n",
       "---\n",
       "Signif. codes:  0 ‘***’ 0.001 ‘**’ 0.01 ‘*’ 0.05 ‘.’ 0.1 ‘ ’ 1"
      ]
     },
     "metadata": {},
     "output_type": "display_data"
    }
   ],
   "source": [
    "# Vemos de la tabla anova que el pvalor es pequeño\n",
    "\n",
    "# Veamos la tabla ANOVA, que la guardamos en modelo\n",
    "modelo = aov(SueroT3~etapa, data = datos)\n",
    "summary(modelo)"
   ]
  },
  {
   "cell_type": "code",
   "execution_count": 5,
   "metadata": {},
   "outputs": [],
   "source": [
    "MSE = 156"
   ]
  },
  {
   "cell_type": "code",
   "execution_count": 6,
   "metadata": {},
   "outputs": [
    {
     "data": {
      "text/html": [
       "6.48170406236659e-12"
      ],
      "text/latex": [
       "6.48170406236659e-12"
      ],
      "text/markdown": [
       "6.48170406236659e-12"
      ],
      "text/plain": [
       "[1] 6.481704e-12"
      ]
     },
     "metadata": {},
     "output_type": "display_data"
    }
   ],
   "source": [
    "# Calculamos el pvalor hecho a pata, como para corroborar las cuentas q hace R\n",
    "pval = 1-pf(78.08, 5-1, 25-5)\n",
    "pval"
   ]
  },
  {
   "cell_type": "markdown",
   "metadata": {},
   "source": [
    "d) Analice la validez de los supuestos postulados en (b).\n",
    "\n",
    "- **NORMALIDAD** Veamos si son normales son el test de shapiro, queremos obtener un pvalor grande para aceptar H0, es decir normalidad en la distribución de los datos"
   ]
  },
  {
   "cell_type": "code",
   "execution_count": 7,
   "metadata": {},
   "outputs": [],
   "source": [
    "# esto nos da un resumen gráfico del modelo, pero no me gusta tanto\n",
    "#plot(modelo)"
   ]
  },
  {
   "cell_type": "code",
   "execution_count": 8,
   "metadata": {},
   "outputs": [
    {
     "data": {
      "image/png": "[encoded data removed]",
      "text/plain": [
       "Plot with title “Normal Q-Q Plot”"
      ]
     },
     "metadata": {},
     "output_type": "display_data"
    }
   ],
   "source": [
    "# vemos el qqnorm de los residuos del modelo\n",
    "qqnorm(modelo$residuals)\n",
    "qqline(modelo$residuals)"
   ]
  },
  {
   "cell_type": "code",
   "execution_count": 9,
   "metadata": {},
   "outputs": [
    {
     "data": {
      "image/png": "[encoded data removed]",
      "text/plain": [
       "plot without title"
      ]
     },
     "metadata": {},
     "output_type": "display_data"
    }
   ],
   "source": [
    "# podriamos querer hacer un boxplot de los residuos para ver si es mas o menos simétrico\n",
    "boxplot(modelo$residuals)"
   ]
  },
  {
   "cell_type": "code",
   "execution_count": 10,
   "metadata": {},
   "outputs": [
    {
     "data": {
      "text/plain": [
       "\n",
       "\tShapiro-Wilk normality test\n",
       "\n",
       "data:  modelo$residuals\n",
       "W = 0.97412, p-value = 0.7498\n"
      ]
     },
     "metadata": {},
     "output_type": "display_data"
    }
   ],
   "source": [
    "# con este test vemos el pvalor, no encontró EVIDENCIA FUERTE en los datos en contra de la normalidad\n",
    "shapiro.test(modelo$residuals)"
   ]
  },
  {
   "cell_type": "markdown",
   "metadata": {},
   "source": [
    "- **VARIANZAS CONSTANTES:** *levene test* nos da un pvalor grande, por lo que no rechazamos H0, por ende no encontró EVIDENCIA SUFICIENTE para suponer que las varianzas son distintas, por lo que aceptamos que son iguales."
   ]
  },
  {
   "cell_type": "code",
   "execution_count": 11,
   "metadata": {},
   "outputs": [
    {
     "name": "stderr",
     "output_type": "stream",
     "text": [
      "Loading required package: carData\n"
     ]
    },
    {
     "data": {
      "text/html": [
       "<table>\n",
       "<thead><tr><th></th><th scope=col>Df</th><th scope=col>F value</th><th scope=col>Pr(&gt;F)</th></tr></thead>\n",
       "<tbody>\n",
       "\t<tr><th scope=row>group</th><td> 4       </td><td>1.553884 </td><td>0.2251455</td></tr>\n",
       "\t<tr><th scope=row> </th><td>20       </td><td>      NA </td><td>       NA</td></tr>\n",
       "</tbody>\n",
       "</table>\n"
      ],
      "text/latex": [
       "\\begin{tabular}{r|lll}\n",
       "  & Df & F value & Pr(>F)\\\\\n",
       "\\hline\n",
       "\tgroup &  4        & 1.553884  & 0.2251455\\\\\n",
       "\t  & 20        &       NA  &        NA\\\\\n",
       "\\end{tabular}\n"
      ],
      "text/markdown": [
       "\n",
       "| <!--/--> | Df | F value | Pr(>F) | \n",
       "|---|---|\n",
       "| group |  4        | 1.553884  | 0.2251455 | \n",
       "|   | 20        |       NA  |        NA | \n",
       "\n",
       "\n"
      ],
      "text/plain": [
       "      Df F value  Pr(>F)   \n",
       "group  4 1.553884 0.2251455\n",
       "      20       NA        NA"
      ]
     },
     "metadata": {},
     "output_type": "display_data"
    }
   ],
   "source": [
    "library(car)\n",
    "leveneTest(modelo)"
   ]
  },
  {
   "cell_type": "markdown",
   "metadata": {},
   "source": [
    "**e)** Si necesita hacer alguna transformación de los datos o sacar algun outlier debe volver a repetir todos los incisos anteriores (y este) antes de contestar el próximo."
   ]
  },
  {
   "cell_type": "code",
   "execution_count": 12,
   "metadata": {},
   "outputs": [
    {
     "data": {
      "text/plain": [
       "No Studentized residuals with Bonferonni p < 0.05\n",
       "Largest |rstudent|:\n",
       "    rstudent unadjusted p-value Bonferonni p\n",
       "13 -3.059331          0.0064537      0.16134"
      ]
     },
     "metadata": {},
     "output_type": "display_data"
    }
   ],
   "source": [
    "# vemos el pvalor etiquetado de Bonferonni (es mayor a 0.05 entonces no tenemos EVIDENCIA que hay valores atipicos)\n",
    "# y nos da el candidato, que en este caso es 13, pero que no le damos bolilla por el pvalor\n",
    "# podriamos o bien sacarlo del archivo (estrategia bestial) o sacarlo del modelo\n",
    "# modeloSin13 = aov(SuertoT3~etapa, subset=-13) # o varios subset=-c(13, 15)\n",
    "\n",
    "outlierTest(modelo)"
   ]
  },
  {
   "cell_type": "code",
   "execution_count": 13,
   "metadata": {},
   "outputs": [],
   "source": [
    "# otra forma de ver outliers es usando un diagnostic plots influenceIndexPlot(modelo)"
   ]
  },
  {
   "cell_type": "markdown",
   "metadata": {},
   "source": [
    "**f)** Usando comparaciones múltiples diga qué tratamientos son diferentes y cuáles son estadı́sticamente equivalentes al control. Reporte los resultados obtenidos en cotexto del problema."
   ]
  },
  {
   "cell_type": "code",
   "execution_count": 14,
   "metadata": {},
   "outputs": [],
   "source": [
    "# vamos a hacer lo mismo usando etapa ordenada, dejando en primer lugar el que vamos a usar de control, \n",
    "# ya lo hice así desde arriba porque lo cambié en clases (factor(Etapa, levels)), si modelo sería el anterior\n",
    "# modelo1 = aov(SueroT3~etapa)\n",
    "\n",
    "# tambien podriamos haber dejado primero el que queriamos usando relevel\n",
    "# newEtapa = relevel(Etapa, 'Premuda')"
   ]
  },
  {
   "cell_type": "code",
   "execution_count": 15,
   "metadata": {},
   "outputs": [
    {
     "name": "stderr",
     "output_type": "stream",
     "text": [
      "Loading required package: mvtnorm\n",
      "Loading required package: survival\n",
      "Loading required package: TH.data\n",
      "Loading required package: MASS\n",
      "\n",
      "Attaching package: ‘TH.data’\n",
      "\n",
      "The following object is masked from ‘package:MASS’:\n",
      "\n",
      "    geyser\n",
      "\n"
     ]
    },
    {
     "data": {
      "text/plain": [
       "\n",
       "\t Simultaneous Tests for General Linear Hypotheses\n",
       "\n",
       "Multiple Comparisons of Means: Dunnett Contrasts\n",
       "\n",
       "\n",
       "Fit: aov(formula = SueroT3 ~ etapa, data = datos)\n",
       "\n",
       "Linear Hypotheses:\n",
       "                          Estimate Std. Error t value Pr(>|t|)    \n",
       "Ayuno - Premuda == 0        26.478      7.887   3.357   0.0109 *  \n",
       "60gSalvado - Premuda == 0  119.782      7.887  15.187   <0.001 ***\n",
       "80gSalvado - Premuda == 0   24.320      7.887   3.084   0.0202 *  \n",
       "Mezcla - Premuda == 0        1.598      7.887   0.203   0.9987    \n",
       "---\n",
       "Signif. codes:  0 ‘***’ 0.001 ‘**’ 0.01 ‘*’ 0.05 ‘.’ 0.1 ‘ ’ 1\n",
       "(Adjusted p values reported -- single-step method)\n"
      ]
     },
     "metadata": {},
     "output_type": "display_data"
    },
    {
     "data": {
      "text/plain": [
       "\n",
       "\t Simultaneous Confidence Intervals\n",
       "\n",
       "Multiple Comparisons of Means: Dunnett Contrasts\n",
       "\n",
       "\n",
       "Fit: aov(formula = SueroT3 ~ etapa, data = datos)\n",
       "\n",
       "Quantile = 2.6514\n",
       "95% family-wise confidence level\n",
       " \n",
       "\n",
       "Linear Hypotheses:\n",
       "                          Estimate lwr      upr     \n",
       "Ayuno - Premuda == 0       26.4780   5.5669  47.3891\n",
       "60gSalvado - Premuda == 0 119.7820  98.8709 140.6931\n",
       "80gSalvado - Premuda == 0  24.3200   3.4089  45.2311\n",
       "Mezcla - Premuda == 0       1.5980 -19.3131  22.5091\n"
      ]
     },
     "metadata": {},
     "output_type": "display_data"
    }
   ],
   "source": [
    "# hay una forma completa (se puede usar en casi cualquier problema) y otra mas restringida\n",
    "library(multcomp) # multcomp: multiples comparaciones\n",
    "# test de hipotesis lineal generalizada (glht)\n",
    "# linfct defino la funcion de contraste, le digo para q contrastes quiero hacer comparaciones multiples\n",
    "# pondriamos etapa = \"Tukey\" si quisieramos hacer comparaciones entre todas\n",
    "\n",
    "T2 = glht(modelo, linfct = mcp(etapa = \"Dunnet\"), alternative=\"two.sided\")\n",
    "# esto nos da una tabla donde nos muestra los puntos centrales de los IC y los pvalores\n",
    "summary(T2)\n",
    "# esto nos muestra los interfalos de confianza, vemos cual contiene al 0\n",
    "confint(T2, level = .95)"
   ]
  },
  {
   "cell_type": "code",
   "execution_count": 16,
   "metadata": {},
   "outputs": [],
   "source": [
    "# esto habiamos probado nosotros y estaba RE mal\n",
    "#source(\"/home/emiliano/EstadisticaAplicada/practica/mymultcomp.R\") # llamo al archivo dnd esta la funcion minHSU\n",
    "#maxHSU(SueroT3, Etapa, alpha=0.05, MSE, 20)"
   ]
  },
  {
   "cell_type": "markdown",
   "metadata": {},
   "source": [
    "**Dibujamos los IC y vemos que el último no es significativo contrastado con el control, el efecto no es significativo entre mezcla y premuda (control)**"
   ]
  },
  {
   "cell_type": "code",
   "execution_count": 17,
   "metadata": {},
   "outputs": [
    {
     "data": {
      "image/png": "[encoded data removed]",
      "text/plain": [
       "Plot with title “95% family-wise confidence level\n",
       "”"
      ]
     },
     "metadata": {},
     "output_type": "display_data"
    }
   ],
   "source": [
    "plot(confint(T2, level = .95))"
   ]
  },
  {
   "cell_type": "code",
   "execution_count": 18,
   "metadata": {},
   "outputs": [
    {
     "data": {
      "text/html": [
       "7"
      ],
      "text/latex": [
       "7"
      ],
      "text/markdown": [
       "7"
      ],
      "text/plain": [
       "[1] 7"
      ]
     },
     "metadata": {},
     "output_type": "display_data"
    }
   ],
   "source": [
    "# g) ¿Cuántas gallinas necesitaría el biólogo en cada tratamiento para rechazar la hipótesis nula a un\n",
    "# nivel de significancia de α = 0.05, con una potencia de 0.90, si la diferencia entre el tratamiento\n",
    "# de control y algún tratamiento nuevo es de 30 unidades de T3?\n",
    "\n",
    "t = 5\n",
    "alpha = 0.05\n",
    "D = 30\n",
    "sigma2 = 156\n",
    "potencia_q_quiero = 0.9\n",
    "r = 5\n",
    "pot = 0\n",
    "while (pot < potencia_q_quiero){\n",
    "    r = r + 1\n",
    "    # parametro de NO CENTRALIDAD lambda, es el corrimiento de la F de la H1\n",
    "    lambda = (r * D * D) / ( 2*sigma2) \n",
    "    # valor critico de la region de rechazo\n",
    "    A = qf(1-alpha, t-1, r*t-t)\n",
    "    # calculamos la potencia\n",
    "    pot = 1-pf(A, t-1, r*t-t, lambda)\n",
    "}\n",
    "r"
   ]
  },
  {
   "cell_type": "code",
   "execution_count": 19,
   "metadata": {},
   "outputs": [
    {
     "data": {
      "text/plain": [
       "\n",
       "     Balanced one-way analysis of variance power calculation \n",
       "\n",
       "              k = 5\n",
       "              n = 6.372452\n",
       "              f = 0.7595545\n",
       "      sig.level = 0.05\n",
       "          power = 0.9\n",
       "\n",
       "NOTE: n is number in each group\n"
      ]
     },
     "metadata": {},
     "output_type": "display_data"
    }
   ],
   "source": [
    "# R ya lo hace solo a lo anterior\n",
    "D = 30\n",
    "library(pwr)\n",
    "pwr.anova.test(k = 5, sig.level = 0.05, power = 0.9, f = sqrt(D^2/(2*5*MSE)))"
   ]
  },
  {
   "cell_type": "code",
   "execution_count": 20,
   "metadata": {},
   "outputs": [
    {
     "data": {
      "text/plain": [
       "\n",
       "     Balanced one-way analysis of variance power calculation \n",
       "\n",
       "              k = 5\n",
       "              n = 6\n",
       "              f = 0.7595545\n",
       "      sig.level = 0.05\n",
       "          power = 0.8748368\n",
       "\n",
       "NOTE: n is number in each group\n"
      ]
     },
     "metadata": {},
     "output_type": "display_data"
    }
   ],
   "source": [
    "# si ahora quiero saber la potencia determinada para un n fijo\n",
    "pwr.anova.test(k = 5, sig.level = 0.05, n = 6, f = sqrt(D^2/(2*5*MSE)))"
   ]
  },
  {
   "cell_type": "markdown",
   "metadata": {},
   "source": [
    "vemos que para n=6 obtenemos una potencia de 0.87"
   ]
  },
  {
   "cell_type": "markdown",
   "metadata": {},
   "source": [
    "# Ejercicio 3 hecho x profesor reordenado para que el control este al principio"
   ]
  },
  {
   "cell_type": "code",
   "execution_count": 21,
   "metadata": {},
   "outputs": [
    {
     "name": "stderr",
     "output_type": "stream",
     "text": [
      "The 'lsmeans' package is being deprecated.\n",
      "Users are encouraged to switch to 'emmeans'.\n",
      "See help('transition') for more information, including how\n",
      "to convert 'lsmeans' objects and scripts to work with 'emmeans'.\n"
     ]
    }
   ],
   "source": [
    "K1 = c(1,-1,0,0,0) # premuda contra ayuno\n",
    "K2 = c(0,1,-1,0,0) # ayuno - 60grSalvado\n",
    "K3 = c(0,0,1,-1,0) # 60grSalvado - 80grSalvado\n",
    "K4 = c(0,0,0,1,-1) # 80grSalvado - mezcla\n",
    "library(lsmeans)\n",
    "medias = summary(lsmeans(modelo,'etapa'))$lsmean\n",
    "# es lo mismo que hacer\n",
    "#medias = tapply(SueroT3, etapa, mean)"
   ]
  },
  {
   "cell_type": "code",
   "execution_count": 22,
   "metadata": {},
   "outputs": [
    {
     "data": {
      "text/html": [
       "<ol class=list-inline>\n",
       "\t<li>86.3740000000001</li>\n",
       "\t<li>112.852</li>\n",
       "\t<li>206.156</li>\n",
       "\t<li>110.694</li>\n",
       "\t<li>87.972</li>\n",
       "</ol>\n"
      ],
      "text/latex": [
       "\\begin{enumerate*}\n",
       "\\item 86.3740000000001\n",
       "\\item 112.852\n",
       "\\item 206.156\n",
       "\\item 110.694\n",
       "\\item 87.972\n",
       "\\end{enumerate*}\n"
      ],
      "text/markdown": [
       "1. 86.3740000000001\n",
       "2. 112.852\n",
       "3. 206.156\n",
       "4. 110.694\n",
       "5. 87.972\n",
       "\n",
       "\n"
      ],
      "text/plain": [
       "[1]  86.374 112.852 206.156 110.694  87.972"
      ]
     },
     "metadata": {},
     "output_type": "display_data"
    }
   ],
   "source": [
    "medias"
   ]
  },
  {
   "cell_type": "code",
   "execution_count": 23,
   "metadata": {},
   "outputs": [
    {
     "data": {
      "text/html": [
       "-26.478"
      ],
      "text/latex": [
       "-26.478"
      ],
      "text/markdown": [
       "-26.478"
      ],
      "text/plain": [
       "[1] -26.478"
      ]
     },
     "metadata": {},
     "output_type": "display_data"
    },
    {
     "data": {
      "text/html": [
       "-93.304"
      ],
      "text/latex": [
       "-93.304"
      ],
      "text/markdown": [
       "-93.304"
      ],
      "text/plain": [
       "[1] -93.304"
      ]
     },
     "metadata": {},
     "output_type": "display_data"
    },
    {
     "data": {
      "text/html": [
       "95.462"
      ],
      "text/latex": [
       "95.462"
      ],
      "text/markdown": [
       "95.462"
      ],
      "text/plain": [
       "[1] 95.462"
      ]
     },
     "metadata": {},
     "output_type": "display_data"
    },
    {
     "data": {
      "text/html": [
       "22.722"
      ],
      "text/latex": [
       "22.722"
      ],
      "text/markdown": [
       "22.722"
      ],
      "text/plain": [
       "[1] 22.722"
      ]
     },
     "metadata": {},
     "output_type": "display_data"
    }
   ],
   "source": [
    "# Los estimadores puntuales de los 4 contrastes\n",
    "(C1hat = sum(K1*medias))\n",
    "(C2hat = sum(K2*medias))\n",
    "(C3hat = sum(K3*medias))\n",
    "(C4hat = sum(K4*medias))"
   ]
  },
  {
   "cell_type": "markdown",
   "metadata": {},
   "source": [
    "los errores estandares son la raiz cuadrada de las varianzas, que nos queda:\n",
    "\n",
    "$$erroresContraste_j = \\sqrt{{MSE\\sum {{k_{ji}^2} \\over {r}} }}$$\n",
    "\n",
    "donde r es la cantidad de obsrevaciones si en cada tratamiento son iguales."
   ]
  },
  {
   "cell_type": "code",
   "execution_count": 24,
   "metadata": {},
   "outputs": [
    {
     "data": {
      "text/html": [
       "7.8993670632526"
      ],
      "text/latex": [
       "7.8993670632526"
      ],
      "text/markdown": [
       "7.8993670632526"
      ],
      "text/plain": [
       "[1] 7.899367"
      ]
     },
     "metadata": {},
     "output_type": "display_data"
    },
    {
     "data": {
      "text/html": [
       "7.8993670632526"
      ],
      "text/latex": [
       "7.8993670632526"
      ],
      "text/markdown": [
       "7.8993670632526"
      ],
      "text/plain": [
       "[1] 7.899367"
      ]
     },
     "metadata": {},
     "output_type": "display_data"
    },
    {
     "data": {
      "text/html": [
       "7.8993670632526"
      ],
      "text/latex": [
       "7.8993670632526"
      ],
      "text/markdown": [
       "7.8993670632526"
      ],
      "text/plain": [
       "[1] 7.899367"
      ]
     },
     "metadata": {},
     "output_type": "display_data"
    },
    {
     "data": {
      "text/html": [
       "7.8993670632526"
      ],
      "text/latex": [
       "7.8993670632526"
      ],
      "text/markdown": [
       "7.8993670632526"
      ],
      "text/plain": [
       "[1] 7.899367"
      ]
     },
     "metadata": {},
     "output_type": "display_data"
    }
   ],
   "source": [
    "# ver que es lo mismo que nos dio una tabla arriba\n",
    "r = 5\n",
    "(SE_C1 = sqrt(MSE*sum(K1^2)/r))\n",
    "(SE_C2 = sqrt(MSE*sum(K2^2)/r))\n",
    "(SE_C3 = sqrt(MSE*sum(K3^2)/r))\n",
    "(SE_C4 = sqrt(MSE*sum(K4^2)/r))"
   ]
  },
  {
   "cell_type": "code",
   "execution_count": 25,
   "metadata": {},
   "outputs": [
    {
     "data": {
      "text/html": [
       "<ol class=list-inline>\n",
       "\t<li>-40.1021824815193</li>\n",
       "\t<li>-12.8538175184806</li>\n",
       "</ol>\n"
      ],
      "text/latex": [
       "\\begin{enumerate*}\n",
       "\\item -40.1021824815193\n",
       "\\item -12.8538175184806\n",
       "\\end{enumerate*}\n"
      ],
      "text/markdown": [
       "1. -40.1021824815193\n",
       "2. -12.8538175184806\n",
       "\n",
       "\n"
      ],
      "text/plain": [
       "[1] -40.10218 -12.85382"
      ]
     },
     "metadata": {},
     "output_type": "display_data"
    },
    {
     "data": {
      "text/html": [
       "<ol class=list-inline>\n",
       "\t<li>-106.928182481519</li>\n",
       "\t<li>-79.6798175184806</li>\n",
       "</ol>\n"
      ],
      "text/latex": [
       "\\begin{enumerate*}\n",
       "\\item -106.928182481519\n",
       "\\item -79.6798175184806\n",
       "\\end{enumerate*}\n"
      ],
      "text/markdown": [
       "1. -106.928182481519\n",
       "2. -79.6798175184806\n",
       "\n",
       "\n"
      ],
      "text/plain": [
       "[1] -106.92818  -79.67982"
      ]
     },
     "metadata": {},
     "output_type": "display_data"
    },
    {
     "data": {
      "text/html": [
       "<ol class=list-inline>\n",
       "\t<li>81.8378175184807</li>\n",
       "\t<li>109.086182481519</li>\n",
       "</ol>\n"
      ],
      "text/latex": [
       "\\begin{enumerate*}\n",
       "\\item 81.8378175184807\n",
       "\\item 109.086182481519\n",
       "\\end{enumerate*}\n"
      ],
      "text/markdown": [
       "1. 81.8378175184807\n",
       "2. 109.086182481519\n",
       "\n",
       "\n"
      ],
      "text/plain": [
       "[1]  81.83782 109.08618"
      ]
     },
     "metadata": {},
     "output_type": "display_data"
    },
    {
     "data": {
      "text/html": [
       "<ol class=list-inline>\n",
       "\t<li>9.09781751848065</li>\n",
       "\t<li>36.3461824815194</li>\n",
       "</ol>\n"
      ],
      "text/latex": [
       "\\begin{enumerate*}\n",
       "\\item 9.09781751848065\n",
       "\\item 36.3461824815194\n",
       "\\end{enumerate*}\n"
      ],
      "text/markdown": [
       "1. 9.09781751848065\n",
       "2. 36.3461824815194\n",
       "\n",
       "\n"
      ],
      "text/plain": [
       "[1]  9.097818 36.346182"
      ]
     },
     "metadata": {},
     "output_type": "display_data"
    }
   ],
   "source": [
    "# si hacemos los IC ...\n",
    "(c(C1hat-qt(1-0.05,20)*SE_C1, C1hat+qt(1-0.05,20)*SE_C1))\n",
    "(c(C2hat-qt(1-0.05,20)*SE_C2, C2hat+qt(1-0.05,20)*SE_C2))\n",
    "(c(C3hat-qt(1-0.05,20)*SE_C3, C3hat+qt(1-0.05,20)*SE_C3))\n",
    "(c(C4hat-qt(1-0.05,20)*SE_C4, C4hat+qt(1-0.05,20)*SE_C4))"
   ]
  },
  {
   "cell_type": "markdown",
   "metadata": {},
   "source": [
    "# Ejercicio 3 hecho x nosotros con otro orden\n",
    "\n",
    "1) premuda contra ayuno, 2) ayuno contra 60 g de salvado, 3) 60 contra 80 g de salvado y 4) 80 g de salvado contra mezcla de malta:"
   ]
  },
  {
   "cell_type": "code",
   "execution_count": 26,
   "metadata": {},
   "outputs": [
    {
     "ename": "ERROR",
     "evalue": "Error in lsmeans.character.ref.grid(object = new(\"ref.grid\", model.info = list(: No variable named Etapa in the reference grid\n",
     "output_type": "error",
     "traceback": [
      "Error in lsmeans.character.ref.grid(object = new(\"ref.grid\", model.info = list(: No variable named Etapa in the reference grid\nTraceback:\n",
      "1. lsmeans(modelo, \"Etapa\")",
      "2. lsmeans.character(modelo, \"Etapa\")",
      "3. lsmeans.character.default(modelo, \"Etapa\")",
      "4. lsmeans.default(object, specs, ...)",
      "5. do.call(\"lsmeans\", lsargs)",
      "6. lsmeans(object = new(\"ref.grid\", model.info = list(call = aov(formula = SueroT3 ~ \n .     etapa, data = datos), terms = ~etapa, xlev = list(etapa = c(\"Premuda\", \n . \"Ayuno\", \"60gSalvado\", \"80gSalvado\", \"Mezcla\"))), roles = list(\n .     predictors = \"etapa\", responses = character(0), multresp = character(0)), \n .     grid = structure(list(etapa = structure(1:5, .Label = c(\"Premuda\", \n .     \"Ayuno\", \"60gSalvado\", \"80gSalvado\", \"Mezcla\"), class = \"factor\"), \n .         .wgt. = c(5, 5, 5, 5, 5)), out.attrs = list(dim = c(etapa = 5L), \n .         dimnames = list(etapa = c(\"etapa=Premuda\", \"etapa=Ayuno\", \n .         \"etapa=60gSalvado\", \"etapa=80gSalvado\", \"etapa=Mezcla\"\n .         ))), row.names = c(NA, -5L), class = \"data.frame\"), levels = list(\n .         etapa = c(\"Premuda\", \"Ayuno\", \"60gSalvado\", \"80gSalvado\", \n .         \"Mezcla\")), matlevs = list(), linfct = structure(c(1, \n .     1, 1, 1, 1, 0, 1, 0, 0, 0, 0, 0, 1, 0, 0, 0, 0, 0, 1, 0, \n .     0, 0, 0, 0, 1), .Dim = c(5L, 5L), .Dimnames = list(c(\"1\", \n .     \"2\", \"3\", \"4\", \"5\"), c(\"(Intercept)\", \"etapaAyuno\", \"etapa60gSalvado\", \n .     \"etapa80gSalvado\", \"etapaMezcla\"))), bhat = c(86.3740000000001, \n .     26.478, 119.782, 24.32, 1.59799999999997), nbasis = structure(NA, .Dim = c(1L, \n .     1L)), V = structure(c(31.1018912000001, -31.1018912000001, \n .     -31.1018912000001, -31.1018912000001, -31.1018912000001, \n .     -31.1018912000001, 62.2037824000001, 31.1018912000001, 31.1018912000001, \n .     31.1018912000001, -31.1018912000001, 31.1018912000001, 62.2037824000001, \n .     31.1018912000001, 31.1018912000001, -31.1018912000001, 31.1018912000001, \n .     31.1018912000001, 62.2037824000001, 31.1018912000001, -31.1018912000001, \n .     31.1018912000001, 31.1018912000001, 31.1018912000001, 62.2037824000001\n .     ), .Dim = c(5L, 5L), .Dimnames = list(c(\"(Intercept)\", \"etapaAyuno\", \n .     \"etapa60gSalvado\", \"etapa80gSalvado\", \"etapaMezcla\"), c(\"(Intercept)\", \n .     \"etapaAyuno\", \"etapa60gSalvado\", \"etapa80gSalvado\", \"etapaMezcla\"\n .     ))), dffun = function (k, dfargs) \n .     dfargs$df, dfargs = list(df = 20L), misc = list(estName = \"prediction\", \n .         estType = \"prediction\", infer = c(FALSE, FALSE), level = 0.95, \n .         adjust = \"none\", famSize = 5L, avgd.over = character(0)), \n .     post.beta = structure(NA, .Dim = c(1L, 1L))), specs = \"Etapa\")",
      "7. lsmeans.character(object = new(\"ref.grid\", model.info = list(\n .     call = aov(formula = SueroT3 ~ etapa, data = datos), terms = ~etapa, \n .     xlev = list(etapa = c(\"Premuda\", \"Ayuno\", \"60gSalvado\", \"80gSalvado\", \n .     \"Mezcla\"))), roles = list(predictors = \"etapa\", responses = character(0), \n .     multresp = character(0)), grid = structure(list(etapa = structure(1:5, .Label = c(\"Premuda\", \n . \"Ayuno\", \"60gSalvado\", \"80gSalvado\", \"Mezcla\"), class = \"factor\"), \n .     .wgt. = c(5, 5, 5, 5, 5)), out.attrs = list(dim = c(etapa = 5L), \n .     dimnames = list(etapa = c(\"etapa=Premuda\", \"etapa=Ayuno\", \n .     \"etapa=60gSalvado\", \"etapa=80gSalvado\", \"etapa=Mezcla\"))), row.names = c(NA, \n . -5L), class = \"data.frame\"), levels = list(etapa = c(\"Premuda\", \n . \"Ayuno\", \"60gSalvado\", \"80gSalvado\", \"Mezcla\")), matlevs = list(), \n .     linfct = structure(c(1, 1, 1, 1, 1, 0, 1, 0, 0, 0, 0, 0, \n .     1, 0, 0, 0, 0, 0, 1, 0, 0, 0, 0, 0, 1), .Dim = c(5L, 5L), .Dimnames = list(\n .         c(\"1\", \"2\", \"3\", \"4\", \"5\"), c(\"(Intercept)\", \"etapaAyuno\", \n .         \"etapa60gSalvado\", \"etapa80gSalvado\", \"etapaMezcla\"))), \n .     bhat = c(86.3740000000001, 26.478, 119.782, 24.32, 1.59799999999997\n .     ), nbasis = structure(NA, .Dim = c(1L, 1L)), V = structure(c(31.1018912000001, \n .     -31.1018912000001, -31.1018912000001, -31.1018912000001, \n .     -31.1018912000001, -31.1018912000001, 62.2037824000001, 31.1018912000001, \n .     31.1018912000001, 31.1018912000001, -31.1018912000001, 31.1018912000001, \n .     62.2037824000001, 31.1018912000001, 31.1018912000001, -31.1018912000001, \n .     31.1018912000001, 31.1018912000001, 62.2037824000001, 31.1018912000001, \n .     -31.1018912000001, 31.1018912000001, 31.1018912000001, 31.1018912000001, \n .     62.2037824000001), .Dim = c(5L, 5L), .Dimnames = list(c(\"(Intercept)\", \n .     \"etapaAyuno\", \"etapa60gSalvado\", \"etapa80gSalvado\", \"etapaMezcla\"\n .     ), c(\"(Intercept)\", \"etapaAyuno\", \"etapa60gSalvado\", \"etapa80gSalvado\", \n .     \"etapaMezcla\"))), dffun = function (k, dfargs) \n .     dfargs$df, dfargs = list(df = 20L), misc = list(estName = \"prediction\", \n .         estType = \"prediction\", infer = c(FALSE, FALSE), level = 0.95, \n .         adjust = \"none\", famSize = 5L, avgd.over = character(0)), \n .     post.beta = structure(NA, .Dim = c(1L, 1L))), specs = \"Etapa\")",
      "8. lsmeans.character.ref.grid(object = new(\"ref.grid\", model.info = list(\n .     call = aov(formula = SueroT3 ~ etapa, data = datos), terms = ~etapa, \n .     xlev = list(etapa = c(\"Premuda\", \"Ayuno\", \"60gSalvado\", \"80gSalvado\", \n .     \"Mezcla\"))), roles = list(predictors = \"etapa\", responses = character(0), \n .     multresp = character(0)), grid = structure(list(etapa = structure(1:5, .Label = c(\"Premuda\", \n . \"Ayuno\", \"60gSalvado\", \"80gSalvado\", \"Mezcla\"), class = \"factor\"), \n .     .wgt. = c(5, 5, 5, 5, 5)), out.attrs = list(dim = c(etapa = 5L), \n .     dimnames = list(etapa = c(\"etapa=Premuda\", \"etapa=Ayuno\", \n .     \"etapa=60gSalvado\", \"etapa=80gSalvado\", \"etapa=Mezcla\"))), row.names = c(NA, \n . -5L), class = \"data.frame\"), levels = list(etapa = c(\"Premuda\", \n . \"Ayuno\", \"60gSalvado\", \"80gSalvado\", \"Mezcla\")), matlevs = list(), \n .     linfct = structure(c(1, 1, 1, 1, 1, 0, 1, 0, 0, 0, 0, 0, \n .     1, 0, 0, 0, 0, 0, 1, 0, 0, 0, 0, 0, 1), .Dim = c(5L, 5L), .Dimnames = list(\n .         c(\"1\", \"2\", \"3\", \"4\", \"5\"), c(\"(Intercept)\", \"etapaAyuno\", \n .         \"etapa60gSalvado\", \"etapa80gSalvado\", \"etapaMezcla\"))), \n .     bhat = c(86.3740000000001, 26.478, 119.782, 24.32, 1.59799999999997\n .     ), nbasis = structure(NA, .Dim = c(1L, 1L)), V = structure(c(31.1018912000001, \n .     -31.1018912000001, -31.1018912000001, -31.1018912000001, \n .     -31.1018912000001, -31.1018912000001, 62.2037824000001, 31.1018912000001, \n .     31.1018912000001, 31.1018912000001, -31.1018912000001, 31.1018912000001, \n .     62.2037824000001, 31.1018912000001, 31.1018912000001, -31.1018912000001, \n .     31.1018912000001, 31.1018912000001, 62.2037824000001, 31.1018912000001, \n .     -31.1018912000001, 31.1018912000001, 31.1018912000001, 31.1018912000001, \n .     62.2037824000001), .Dim = c(5L, 5L), .Dimnames = list(c(\"(Intercept)\", \n .     \"etapaAyuno\", \"etapa60gSalvado\", \"etapa80gSalvado\", \"etapaMezcla\"\n .     ), c(\"(Intercept)\", \"etapaAyuno\", \"etapa60gSalvado\", \"etapa80gSalvado\", \n .     \"etapaMezcla\"))), dffun = function (k, dfargs) \n .     dfargs$df, dfargs = list(df = 20L), misc = list(estName = \"prediction\", \n .         estType = \"prediction\", infer = c(FALSE, FALSE), level = 0.95, \n .         adjust = \"none\", famSize = 5L, avgd.over = character(0)), \n .     post.beta = structure(NA, .Dim = c(1L, 1L))), specs = \"Etapa\")",
      "9. stop(paste(\"No variable named\", f, \"in the reference grid\"))"
     ]
    }
   ],
   "source": [
    "library(lsmeans)\n",
    "medias = lsmeans(modelo, \"Etapa\")\n",
    "print(medias)"
   ]
  },
  {
   "cell_type": "code",
   "execution_count": null,
   "metadata": {},
   "outputs": [],
   "source": [
    "# premuda - ayuno = u1 - u3\n",
    "theta1 = 86.374 - 112.852\n",
    "k1 = c(1,0,-1,0,0)\n",
    "n = c(5,5,5,5,5)\n",
    "\n",
    "Sp = sqrt(MSE)\n",
    "A = qt(1-0.025,25-5)\n",
    "\n",
    "Li = theta1 - A * Sp * sqrt(sum(k1^2/n))\n",
    "Ls = theta1 + A * Sp * sqrt(sum(k1^2/n))"
   ]
  },
  {
   "cell_type": "code",
   "execution_count": null,
   "metadata": {},
   "outputs": [],
   "source": [
    "# ayuno - 60grSalvado = u3-u5\n",
    "theta2 = 112.852 - 206.156\n",
    "k2 = c(0,0,1,0,-1)\n",
    "\n",
    "Li = theta2 - A * Sp * sqrt(sum(k2^2/n))\n",
    "Ls = theta2 + A * Sp * sqrt(sum(k2^2/n))"
   ]
  },
  {
   "cell_type": "code",
   "execution_count": null,
   "metadata": {},
   "outputs": [],
   "source": [
    "# 60grSalvado-80grSalvado = u5-u4\n",
    "theta3 = 206.156 - 110.694\n",
    "k3 = c(0,0,0,-1,1)\n",
    "\n",
    "Li = theta3 - A * Sp * sqrt(sum(k3^2/n))\n",
    "Ls = theta3 + A * Sp * sqrt(sum(k3^2/n))\n",
    "Li\n",
    "Ls"
   ]
  },
  {
   "cell_type": "code",
   "execution_count": null,
   "metadata": {},
   "outputs": [],
   "source": [
    "# 80grSalvado - mezcla = u4-u2\n",
    "theta4 = 110.694 - 87.972\n",
    "k4 = c(0,-1,0,1,0)\n",
    "\n",
    "Li = theta4 - A * Sp * sqrt(sum(k4^2/n))\n",
    "Ls = theta4 + A * Sp * sqrt(sum(k4^2/n))\n",
    "Li\n",
    "Ls"
   ]
  },
  {
   "cell_type": "code",
   "execution_count": null,
   "metadata": {},
   "outputs": [],
   "source": [
    "# Veamos la ortogonalidad de los contrastes\n",
    "sum(k1*k2)\n",
    "sum(k1*k3)\n",
    "sum(k1*k4)\n",
    "sum(k2*k3)\n",
    "sum(k2*k4)\n",
    "sum(k3*k4)"
   ]
  },
  {
   "cell_type": "code",
   "execution_count": null,
   "metadata": {},
   "outputs": [],
   "source": []
  }
 ],
 "metadata": {
  "kernelspec": {
   "display_name": "R",
   "language": "R",
   "name": "ir"
  },
  "language_info": {
   "codemirror_mode": "r",
   "file_extension": ".r",
   "mimetype": "text/x-r-source",
   "name": "R",
   "pygments_lexer": "r",
   "version": "3.5.1"
  },
  "toc": {
   "nav_menu": {},
   "number_sections": true,
   "sideBar": true,
   "skip_h1_title": false,
   "title_cell": "Tabla de Contenidos",
   "title_sidebar": "Contenido",
   "toc_cell": false,
   "toc_position": {},
   "toc_section_display": true,
   "toc_window_display": false
  }
 },
 "nbformat": 4,
 "nbformat_minor": 2
}
