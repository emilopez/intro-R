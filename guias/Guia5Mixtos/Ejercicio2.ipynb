{
 "cells": [
  {
   "cell_type": "markdown",
   "metadata": {},
   "source": [
    "**Ejercicio 2:** (Ejercicio 7.5, Kuehl) Se realizó un experimento para comparar la exactitud de dos espectrómetros de masa en la medición de las proporciones de 14 N/ 15 N. Se tomaron dos muestras de suelo de cada una de tres parcelas tratadas con 15 N y se analizaron dos submuestras de cada muestra en cada una de dos máquinas. El diseño resultante tiene máquinas cruzadas con parcelas y muestras, pero las muestras están anidadas dentro de las parcelas. Los siguientes datos son las proporciones 14 N/ 15 N (multiplicadas por 1000)."
   ]
  },
  {
   "cell_type": "code",
   "execution_count": 1,
   "metadata": {},
   "outputs": [],
   "source": [
    "datos = read.csv(\"/home/emiliano/EstadisticaAplicada/Estadistica.Aplicada.2018/03_efectos_aleatorios_y_mixtos/datos/ej2_guiaMixtos.csv\", sep = \";\")"
   ]
  },
  {
   "cell_type": "code",
   "execution_count": 2,
   "metadata": {},
   "outputs": [
    {
     "data": {
      "text/html": [
       "<table>\n",
       "<thead><tr><th scope=col>proporcion</th><th scope=col>parcela</th><th scope=col>muestra</th><th scope=col>maquina</th></tr></thead>\n",
       "<tbody>\n",
       "\t<tr><td>3.833</td><td>1    </td><td>1    </td><td>1    </td></tr>\n",
       "\t<tr><td>3.866</td><td>1    </td><td>1    </td><td>1    </td></tr>\n",
       "\t<tr><td>3.932</td><td>1    </td><td>1    </td><td>2    </td></tr>\n",
       "\t<tr><td>3.943</td><td>1    </td><td>1    </td><td>2    </td></tr>\n",
       "\t<tr><td>3.819</td><td>1    </td><td>2    </td><td>1    </td></tr>\n",
       "\t<tr><td>3.853</td><td>1    </td><td>2    </td><td>1    </td></tr>\n",
       "</tbody>\n",
       "</table>\n"
      ],
      "text/latex": [
       "\\begin{tabular}{r|llll}\n",
       " proporcion & parcela & muestra & maquina\\\\\n",
       "\\hline\n",
       "\t 3.833 & 1     & 1     & 1    \\\\\n",
       "\t 3.866 & 1     & 1     & 1    \\\\\n",
       "\t 3.932 & 1     & 1     & 2    \\\\\n",
       "\t 3.943 & 1     & 1     & 2    \\\\\n",
       "\t 3.819 & 1     & 2     & 1    \\\\\n",
       "\t 3.853 & 1     & 2     & 1    \\\\\n",
       "\\end{tabular}\n"
      ],
      "text/markdown": [
       "\n",
       "proporcion | parcela | muestra | maquina | \n",
       "|---|---|---|---|---|---|\n",
       "| 3.833 | 1     | 1     | 1     | \n",
       "| 3.866 | 1     | 1     | 1     | \n",
       "| 3.932 | 1     | 1     | 2     | \n",
       "| 3.943 | 1     | 1     | 2     | \n",
       "| 3.819 | 1     | 2     | 1     | \n",
       "| 3.853 | 1     | 2     | 1     | \n",
       "\n",
       "\n"
      ],
      "text/plain": [
       "  proporcion parcela muestra maquina\n",
       "1 3.833      1       1       1      \n",
       "2 3.866      1       1       1      \n",
       "3 3.932      1       1       2      \n",
       "4 3.943      1       1       2      \n",
       "5 3.819      1       2       1      \n",
       "6 3.853      1       2       1      "
      ]
     },
     "metadata": {},
     "output_type": "display_data"
    },
    {
     "name": "stdout",
     "output_type": "stream",
     "text": [
      "'data.frame':\t24 obs. of  4 variables:\n",
      " $ proporcion: num  3.83 3.87 3.93 3.94 3.82 ...\n",
      " $ parcela   : int  1 1 1 1 1 1 1 1 2 2 ...\n",
      " $ muestra   : int  1 1 1 1 2 2 2 2 3 3 ...\n",
      " $ maquina   : int  1 1 2 2 1 1 2 2 1 1 ...\n"
     ]
    }
   ],
   "source": [
    "head(datos)\n",
    "str(datos)\n",
    "attach(datos)\n",
    "parcelaf = as.factor(parcela)\n",
    "muestraf = as.factor(muestra)\n",
    "maquinaf = as.factor(maquina)"
   ]
  },
  {
   "cell_type": "markdown",
   "metadata": {},
   "source": [
    "**a)** Escriba un modelo lineal para el experimento, suponga que las máquinas tienen efectos fijos y las parcelas y muestras, efectos aleatorios; explique los términos y calcule el análisis de varianza para los datos.\n",
    "\n",
    "- Maquina: $\\alpha$ (efecto fijo) - *i*\n",
    "- Parcela: P (efecto aleatorio) - *j*\n",
    "- Muestra: T (efecto aleatorio) - *k* anidada a parcela *j*\n",
    "\n",
    "$$y_{ijkl} = \\mu + \\alpha_i + P_j + T_{k(j)} + (\\alpha P)_{ij} + \\epsilon_{ijkl}$$\n",
    "\n",
    "**Lo rehago**\n",
    "\n",
    "$$y_{ijkl} = \\mu + \\alpha_i + P_j + T_{k(j)} + \\underbrace{(\\alpha P)_{ij}}_{A} + \\underbrace{(\\alpha T)_{ik(j)}}_{B} + \\epsilon_{ijkl}$$"
   ]
  },
  {
   "cell_type": "markdown",
   "metadata": {},
   "source": [
    "Donde:\n",
    "- A: efecto aleatorio de Maquina por interacción con Parcela\n",
    "- B: efecto aleatorio de Maquina por interacción con Muestra anidado dentro de Parcela"
   ]
  },
  {
   "cell_type": "markdown",
   "metadata": {},
   "source": [
    "<font color='red'>**PREGUNTA 1:** \n",
    "- a) Cargamos en un archivo manualmente los datos tal cual como figuran en la tabla del enunciado\n",
    "- b) No estamos seguros de cómo armar el modelo para los casos donde los factores aleatorios están anidados. \n",
    "- c) ¿Se incluye la interacción triple o la interacción *Máquina-Parcela* ya incluye la *Muestra*?\n",
    "- d) Cuando armamos el modelo no usamos %in% ya que cada *Muestra* tiene un número distinto, sin embargo si usamos el %in% obtuvimos resultados diferentes, ¿Cuál es la forma correcta?\n",
    "</font>"
   ]
  },
  {
   "cell_type": "code",
   "execution_count": 3,
   "metadata": {},
   "outputs": [
    {
     "name": "stderr",
     "output_type": "stream",
     "text": [
      "Loading required package: Matrix\n"
     ]
    },
    {
     "data": {
      "text/plain": [
       "Linear mixed model fit by REML ['lmerMod']\n",
       "Formula: proporcion ~ maquinaf + (1 | parcelaf) + (1 | muestraf:parcelaf) +  \n",
       "    (1 | maquinaf:parcelaf) + (1 | maquinaf:muestraf:parcelaf)\n",
       "\n",
       "REML criterion at convergence: -97.9\n",
       "\n",
       "Scaled residuals: \n",
       "     Min       1Q   Median       3Q      Max \n",
       "-1.79392 -0.27412  0.00808  0.28755  1.57098 \n",
       "\n",
       "Random effects:\n",
       " Groups                     Name        Variance  Std.Dev.\n",
       " maquinaf:muestraf:parcelaf (Intercept) 9.807e-05 0.009903\n",
       " maquinaf:parcelaf          (Intercept) 0.000e+00 0.000000\n",
       " muestraf:parcelaf          (Intercept) 2.124e-03 0.046090\n",
       " parcelaf                   (Intercept) 1.995e-03 0.044662\n",
       " Residual                               1.698e-04 0.013030\n",
       "Number of obs: 24, groups:  \n",
       "maquinaf:muestraf:parcelaf, 12; maquinaf:parcelaf, 6; muestraf:parcelaf, 6; parcelaf, 3\n",
       "\n",
       "Fixed effects:\n",
       "            Estimate Std. Error t value\n",
       "(Intercept)  3.79783    0.03240 117.235\n",
       "maquinaf2    0.06492    0.00781   8.312\n",
       "\n",
       "Correlation of Fixed Effects:\n",
       "          (Intr)\n",
       "maquinaf2 -0.121"
      ]
     },
     "metadata": {},
     "output_type": "display_data"
    }
   ],
   "source": [
    "library(lme4)\n",
    "\n",
    "# asi lo habiamos hecho\n",
    "#m0 = lmer(proporcion ~ maquinaf + (1|parcelaf) + (1|muestraf) + (1|maquinaf:parcelaf))\n",
    "\n",
    "# lo pruebo ahora del siguiente modo, si uso los %in% me da error\n",
    "m0 = lmer(proporcion ~ maquinaf + (1|parcelaf) + \n",
    "          (1|muestraf:parcelaf) + \n",
    "          (1|maquinaf:parcelaf) + \n",
    "          (1|maquinaf:muestraf:parcelaf))\n",
    "\n",
    "summary(m0)"
   ]
  },
  {
   "cell_type": "markdown",
   "metadata": {},
   "source": [
    "- ``.sig01:`` maquinaf:muestraf:parcelaf\n",
    "- ``.sig02:`` maquinaf:parcelaf \n",
    "- ``.sig03:`` muestraf:parcelaf \n",
    "- ``.sig04:`` parcelaf"
   ]
  },
  {
   "cell_type": "code",
   "execution_count": 4,
   "metadata": {},
   "outputs": [
    {
     "name": "stderr",
     "output_type": "stream",
     "text": [
      "Computing profile confidence intervals ...\n"
     ]
    },
    {
     "data": {
      "text/html": [
       "<table>\n",
       "<thead><tr><th></th><th scope=col>2.5 %</th><th scope=col>97.5 %</th></tr></thead>\n",
       "<tbody>\n",
       "\t<tr><th scope=row>.sig01</th><td>0.000000000</td><td>0.02302805 </td></tr>\n",
       "\t<tr><th scope=row>.sig02</th><td>0.000000000</td><td>0.01678990 </td></tr>\n",
       "\t<tr><th scope=row>.sig03</th><td>0.023312000</td><td>0.10906838 </td></tr>\n",
       "\t<tr><th scope=row>.sig04</th><td>0.000000000</td><td>0.13022518 </td></tr>\n",
       "\t<tr><th scope=row>.sigma</th><td>0.009153634</td><td>0.02031211 </td></tr>\n",
       "\t<tr><th scope=row>(Intercept)</th><td>3.724341009</td><td>3.87132527 </td></tr>\n",
       "\t<tr><th scope=row>maquinaf2</th><td>0.048343558</td><td>0.08148983 </td></tr>\n",
       "</tbody>\n",
       "</table>\n"
      ],
      "text/latex": [
       "\\begin{tabular}{r|ll}\n",
       "  & 2.5 \\% & 97.5 \\%\\\\\n",
       "\\hline\n",
       "\t.sig01 & 0.000000000 & 0.02302805 \\\\\n",
       "\t.sig02 & 0.000000000 & 0.01678990 \\\\\n",
       "\t.sig03 & 0.023312000 & 0.10906838 \\\\\n",
       "\t.sig04 & 0.000000000 & 0.13022518 \\\\\n",
       "\t.sigma & 0.009153634 & 0.02031211 \\\\\n",
       "\t(Intercept) & 3.724341009 & 3.87132527 \\\\\n",
       "\tmaquinaf2 & 0.048343558 & 0.08148983 \\\\\n",
       "\\end{tabular}\n"
      ],
      "text/markdown": [
       "\n",
       "| <!--/--> | 2.5 % | 97.5 % | \n",
       "|---|---|---|---|---|---|---|\n",
       "| .sig01 | 0.000000000 | 0.02302805  | \n",
       "| .sig02 | 0.000000000 | 0.01678990  | \n",
       "| .sig03 | 0.023312000 | 0.10906838  | \n",
       "| .sig04 | 0.000000000 | 0.13022518  | \n",
       "| .sigma | 0.009153634 | 0.02031211  | \n",
       "| (Intercept) | 3.724341009 | 3.87132527  | \n",
       "| maquinaf2 | 0.048343558 | 0.08148983  | \n",
       "\n",
       "\n"
      ],
      "text/plain": [
       "            2.5 %       97.5 %    \n",
       ".sig01      0.000000000 0.02302805\n",
       ".sig02      0.000000000 0.01678990\n",
       ".sig03      0.023312000 0.10906838\n",
       ".sig04      0.000000000 0.13022518\n",
       ".sigma      0.009153634 0.02031211\n",
       "(Intercept) 3.724341009 3.87132527\n",
       "maquinaf2   0.048343558 0.08148983"
      ]
     },
     "metadata": {},
     "output_type": "display_data"
    }
   ],
   "source": [
    "confint(m0)"
   ]
  },
  {
   "cell_type": "markdown",
   "metadata": {},
   "source": [
    "Vemos que únicamente es significativo quien no incluye el 0 en el IC de la varianza el ``.sig3``, que corresponde a la combinación muestra con parcela, por lo que vamos a hacer un test entre el modelo completo y uno reducido para corroborarlo:"
   ]
  },
  {
   "cell_type": "code",
   "execution_count": 5,
   "metadata": {},
   "outputs": [
    {
     "data": {
      "text/html": [
       "<table>\n",
       "<thead><tr><th></th><th scope=col>Df</th><th scope=col>AIC</th><th scope=col>BIC</th><th scope=col>logLik</th><th scope=col>deviance</th><th scope=col>Chisq</th><th scope=col>Chi Df</th><th scope=col>Pr(&gt;Chisq)</th></tr></thead>\n",
       "<tbody>\n",
       "\t<tr><th scope=row>m1</th><td>6          </td><td>-87.40302  </td><td>-80.33469  </td><td>49.70151   </td><td> -99.40302 </td><td>      NA   </td><td>NA         </td><td>         NA</td></tr>\n",
       "\t<tr><th scope=row>m0</th><td>7          </td><td>-97.11655  </td><td>-88.87017  </td><td>55.55827   </td><td>-111.11655 </td><td>11.71353   </td><td> 1         </td><td>0.000620473</td></tr>\n",
       "</tbody>\n",
       "</table>\n"
      ],
      "text/latex": [
       "\\begin{tabular}{r|llllllll}\n",
       "  & Df & AIC & BIC & logLik & deviance & Chisq & Chi Df & Pr(>Chisq)\\\\\n",
       "\\hline\n",
       "\tm1 & 6           & -87.40302   & -80.33469   & 49.70151    &  -99.40302  &       NA    & NA          &          NA\\\\\n",
       "\tm0 & 7           & -97.11655   & -88.87017   & 55.55827    & -111.11655  & 11.71353    &  1          & 0.000620473\\\\\n",
       "\\end{tabular}\n"
      ],
      "text/markdown": [
       "\n",
       "| <!--/--> | Df | AIC | BIC | logLik | deviance | Chisq | Chi Df | Pr(>Chisq) | \n",
       "|---|---|\n",
       "| m1 | 6           | -87.40302   | -80.33469   | 49.70151    |  -99.40302  |       NA    | NA          |          NA | \n",
       "| m0 | 7           | -97.11655   | -88.87017   | 55.55827    | -111.11655  | 11.71353    |  1          | 0.000620473 | \n",
       "\n",
       "\n"
      ],
      "text/plain": [
       "   Df AIC       BIC       logLik   deviance   Chisq    Chi Df Pr(>Chisq) \n",
       "m1 6  -87.40302 -80.33469 49.70151  -99.40302       NA NA              NA\n",
       "m0 7  -97.11655 -88.87017 55.55827 -111.11655 11.71353  1     0.000620473"
      ]
     },
     "metadata": {},
     "output_type": "display_data"
    }
   ],
   "source": [
    "m0 = lmer(proporcion ~ maquinaf + (1|parcelaf) + \n",
    "          (1|muestraf:parcelaf) + \n",
    "          (1|maquinaf:parcelaf) + \n",
    "          (1|maquinaf:muestraf:parcelaf), REML = FALSE)\n",
    "# esto habiamos hecho\n",
    "#m1 = lmer(proporcion ~ maquinaf + (1|muestraf:parcelaf), REML=FALSE)\n",
    "\n",
    "# pero nos dice que saquemos el fijo porque es lo que queremos ver si afecta o no \n",
    "m1 = lmer(proporcion ~ 1 + (1|parcelaf) + \n",
    "          (1|muestraf:parcelaf) + \n",
    "          (1|maquinaf:parcelaf) + \n",
    "          (1|maquinaf:muestraf:parcelaf), REML = FALSE)\n",
    "\n",
    "anova(m0,m1)"
   ]
  },
  {
   "cell_type": "markdown",
   "metadata": {},
   "source": [
    "Como vemos un **pvalor** es chico (<0.05) podemos rechazar la H0. En eso es que usaba chi2 para construir el pvalor que podría darnos mal porque es aproximada, esto es bueno cuando tenemos un n grande, sino no es muy confiable. **¿Puedo hacer algo mejor?** usamos esta otra ``lib``."
   ]
  },
  {
   "cell_type": "code",
   "execution_count": 6,
   "metadata": {},
   "outputs": [
    {
     "data": {
      "text/plain": [
       "F-test with Kenward-Roger approximation; computing time: 0.19 sec.\n",
       "large : proporcion ~ maquinaf + (1 | parcelaf) + (1 | muestraf:parcelaf) + \n",
       "    (1 | maquinaf:parcelaf) + (1 | maquinaf:muestraf:parcelaf)\n",
       "small : proporcion ~ 1 + (1 | parcelaf) + (1 | muestraf:parcelaf) + (1 | \n",
       "    maquinaf:parcelaf) + (1 | maquinaf:muestraf:parcelaf)\n",
       "        stat    ndf    ddf F.scaling p.value  \n",
       "Ftest 69.096  1.000  2.000         1 0.01417 *\n",
       "---\n",
       "Signif. codes:  0 ‘***’ 0.001 ‘**’ 0.01 ‘*’ 0.05 ‘.’ 0.1 ‘ ’ 1"
      ]
     },
     "metadata": {},
     "output_type": "display_data"
    }
   ],
   "source": [
    "# ahora usamos esto que aproxima mejor que la chi2 cuando tenemos pocas muestras\n",
    "library(pbkrtest)\n",
    "KRmodcomp(m1,m0)\n",
    "\n",
    "# nos da un pvalor mas grande pero sigue siendo significativo. Si se contradicen les creemos a este en vez de a anova"
   ]
  },
  {
   "cell_type": "markdown",
   "metadata": {},
   "source": [
    "Ahora hace un test de shapiro, pvalor grande asi que es normal"
   ]
  },
  {
   "cell_type": "code",
   "execution_count": 7,
   "metadata": {},
   "outputs": [
    {
     "data": {
      "text/plain": [
       "\n",
       "\tShapiro-Wilk normality test\n",
       "\n",
       "data:  residuals(m1)\n",
       "W = 0.92953, p-value = 0.09515\n"
      ]
     },
     "metadata": {},
     "output_type": "display_data"
    }
   ],
   "source": [
    "shapiro.test(residuals(m1))"
   ]
  },
  {
   "cell_type": "markdown",
   "metadata": {},
   "source": [
    "**b) Muestre los cuadrados medios esperados.**\n",
    "\n",
    "Para que lo que queremos, para estimar varianza, cuando queremos un estimador de la varianza. Para que nos sirve es para **tener una idea de potencia**, usaba un F0 = MSA/MSE bajo la H0, y bajo la H1: \n",
    "\n",
    "F0 = MSA/E(MSA) / MSE/E(MSE)\n",
    "\n",
    "= 1 / 1 + tau = MSA/MSE\n",
    "\n",
    "\n",
    "\n",
    "Ahora usamos EMSanova para obtener los EMS.\n",
    "\n",
    "<font color='red'>**PREGUNTA 2:** \n",
    "- a) Los *pvalores* obtenidos de la tabla ``EMSanova`` contradicen lo que obtuvimos en los IC previos del ``lmer``: acá nos dice que no hay efecto significativo de la interacción *Maquina-Muestra* porque el pvalor es grande (0.128) cuando previamente vimos un IC que no contenía el 0.\n",
    "- b) ¿``EMSanova`` se puede usar solamente con 1 efecto aleatorio? Porque si probamos de usar con mas de uno nos devuelve valores NA y sin pvalores\n",
    "</font>    "
   ]
  },
  {
   "cell_type": "code",
   "execution_count": 9,
   "metadata": {},
   "outputs": [],
   "source": [
    "library(EMSaov)"
   ]
  },
  {
   "cell_type": "code",
   "execution_count": 10,
   "metadata": {},
   "outputs": [],
   "source": [
    "# agregamos los factores al dataframe\n",
    "datos$parcelaf = parcelaf\n",
    "datos$muestraf = muestraf\n",
    "datos$maquinaf = maquinaf\n",
    "\n",
    "m2 = EMSanova(proporcion ~ maquinaf + parcelaf + muestraf, type = c(\"F\", \"R\", \"R\"), nested=c(NA, NA, \"parcelaf\"), data = datos)"
   ]
  },
  {
   "cell_type": "code",
   "execution_count": 24,
   "metadata": {},
   "outputs": [
    {
     "name": "stdout",
     "output_type": "stream",
     "text": [
      "                  Df          SS           MS  Fvalue  Pvalue Sig\n",
      "maquinaf           1 0.025285042 0.0252850417 69.0958   4e-04 ***\n",
      "muestraf           5 0.076230708 0.0152461417 89.7932 <0.0001 ***\n",
      "maquinaf:muestraf  5 0.001829708 0.0003659417  2.1552   0.128    \n",
      "Residuals         12 0.002037500 0.0001697917                    \n",
      "                                                  EMS\n",
      "maquinaf          Error+2maquinaf:muestraf+12maquinaf\n",
      "muestraf                              Error+4muestraf\n",
      "maquinaf:muestraf            Error+2maquinaf:muestraf\n",
      "Residuals                                       Error\n"
     ]
    }
   ],
   "source": [
    "print(m2)"
   ]
  },
  {
   "cell_type": "markdown",
   "metadata": {},
   "source": [
    "Los EMS son:\n",
    "\n",
    "- maquinaf          Error+2maquinaf:muestraf+12maquinaf\n",
    "- muestraf                              Error+4muestraf\n",
    "- maquinaf:muestraf            Error+2maquinaf:muestraf"
   ]
  },
  {
   "cell_type": "markdown",
   "metadata": {},
   "source": [
    "**c) Pruebe la hipótesis nula de que no hay diferencia entre las medias para las dos máquinas.**\n",
    "\n",
    "Veamos el IC de la comparación entre ambas máquinas:"
   ]
  },
  {
   "cell_type": "code",
   "execution_count": 31,
   "metadata": {},
   "outputs": [
    {
     "name": "stderr",
     "output_type": "stream",
     "text": [
      "Loading required package: mvtnorm\n",
      "Loading required package: survival\n",
      "Loading required package: TH.data\n",
      "Loading required package: MASS\n",
      "\n",
      "Attaching package: ‘TH.data’\n",
      "\n",
      "The following object is masked from ‘package:MASS’:\n",
      "\n",
      "    geyser\n",
      "\n"
     ]
    }
   ],
   "source": [
    "library(multcomp)"
   ]
  },
  {
   "cell_type": "markdown",
   "metadata": {},
   "source": [
    "<font color='red'>**PREGUNTA 3:** Con esta comparación vemos que no son equivalentes las dos máquinas ¿Está bien esto?\n",
    "</font> "
   ]
  },
  {
   "cell_type": "code",
   "execution_count": 34,
   "metadata": {},
   "outputs": [
    {
     "data": {
      "image/png": "[encoded data removed]",
      "text/plain": [
       "Plot with title “95% family-wise confidence level\n",
       "”"
      ]
     },
     "metadata": {},
     "output_type": "display_data"
    }
   ],
   "source": [
    "plot(glht(m1, linfct = mcp(maquinaf=\"Tukey\")))"
   ]
  },
  {
   "cell_type": "markdown",
   "metadata": {},
   "source": [
    "Vemos que el gráfico del IC no contiene el 0 por lo que hay diferencias entre las medias de las máquinas y por lo tanto se rechaza la H0."
   ]
  },
  {
   "cell_type": "markdown",
   "metadata": {},
   "source": [
    "   "
   ]
  }
 ],
 "metadata": {
  "kernelspec": {
   "display_name": "R",
   "language": "R",
   "name": "ir"
  },
  "language_info": {
   "codemirror_mode": "r",
   "file_extension": ".r",
   "mimetype": "text/x-r-source",
   "name": "R",
   "pygments_lexer": "r",
   "version": "3.5.1"
  },
  "toc": {
   "nav_menu": {},
   "number_sections": true,
   "sideBar": true,
   "skip_h1_title": false,
   "title_cell": "Tabla de Contenidos",
   "title_sidebar": "Contenido",
   "toc_cell": false,
   "toc_position": {},
   "toc_section_display": true,
   "toc_window_display": false
  }
 },
 "nbformat": 4,
 "nbformat_minor": 2
}
