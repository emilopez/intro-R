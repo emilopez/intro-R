{
 "cells": [
  {
   "cell_type": "markdown",
   "metadata": {},
   "source": [
    "# Ejercicio 7\n",
    "\n",
    "## Análisis del ejercicio\n",
    "\n",
    "- diseño de factores anidado es cuando no estan cruzados, el operario 1 de la maquina 1, no maneja la maquina 2\n",
    "- por como esta expresado: las maquinas SON efecto fijo\n",
    "- nos pide despsues que supongamos que son facroes cruzados los operarios, entonces seria un diseño en bloques\n",
    "\n",
    "## Caso 1: anidado\n",
    "- Ajustamos el modelo donde el operario es el efecto aleatorio anidado en la maquina"
   ]
  },
  {
   "cell_type": "code",
   "execution_count": null,
   "metadata": {},
   "outputs": [],
   "source": [
    "# Caso 1\n",
    "m = lmer(Y~Maquina + (1|Operario%in%MAquina))"
   ]
  },
  {
   "cell_type": "markdown",
   "metadata": {},
   "source": [
    "## Caso 2 \n",
    "- Cruzados, maquina siguie siendo fija pero consideras al operario como un factor aleatorio que eventualmente\n",
    "- puede tener una interaccion con la maquina"
   ]
  },
  {
   "cell_type": "code",
   "execution_count": null,
   "metadata": {},
   "outputs": [],
   "source": [
    "# Caso 2\n",
    "m = lmer(Y~Maquina + (1|Operario) + (1|Operario:Maquina))"
   ]
  },
  {
   "cell_type": "markdown",
   "metadata": {},
   "source": [
    "# ver lo que escribió EDNA sobre como hacer lo mismo con otra herramienta EMSanova, que usa la biblioteca EMSaov pero recomienda usar el otro, el lmer"
   ]
  },
  {
   "cell_type": "code",
   "execution_count": null,
   "metadata": {},
   "outputs": [],
   "source": []
  }
 ],
 "metadata": {
  "kernelspec": {
   "display_name": "R",
   "language": "R",
   "name": "ir"
  },
  "language_info": {
   "codemirror_mode": "r",
   "file_extension": ".r",
   "mimetype": "text/x-r-source",
   "name": "R",
   "pygments_lexer": "r",
   "version": "3.5.1"
  },
  "toc": {
   "nav_menu": {},
   "number_sections": true,
   "sideBar": true,
   "skip_h1_title": false,
   "title_cell": "Tabla de Contenidos",
   "title_sidebar": "Contenido",
   "toc_cell": false,
   "toc_position": {},
   "toc_section_display": true,
   "toc_window_display": false
  }
 },
 "nbformat": 4,
 "nbformat_minor": 2
}
