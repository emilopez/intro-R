{
 "cells": [
  {
   "cell_type": "markdown",
   "metadata": {},
   "source": [
    "# Ejercicio de tarea\n",
    "\n",
    "Ver lo que sucede si no se cumplen los supuestos, es decir, que las distribuciones de los datos son **normales** o **t-student**.\n",
    "\n",
    "Entonces para probar esto vamos a simular dos muestras con varianzas distintas y las suponemos iguales.\n",
    "Primero probamos con n1=n2 para cada muestra y luego para n1 != n2.\n",
    "\n",
    "Vemos que "
   ]
  },
  {
   "cell_type": "code",
   "execution_count": 163,
   "metadata": {},
   "outputs": [
    {
     "name": "stdout",
     "output_type": "stream",
     "text": [
      "[1] 16\n",
      "[1] 0.016\n"
     ]
    }
   ],
   "source": [
    "alpha = 0.05\n",
    "rechazosH0 = 0\n",
    "\n",
    "# ir variando los n. Ver la variación cuando el menor n este asociada a la varianza mas chica o a la varianza mas grande\n",
    "n1 = 5\n",
    "n2 = 10\n",
    "\n",
    "sd1 = 1\n",
    "sd2 = 10\n",
    "\n",
    "for (rep in 1:1000){\n",
    "    muestra1 = rnorm(n1, mean=0, sd = sd1)\n",
    "    muestra2 = rnorm(n2, mean=0, sd = sd2)\n",
    "    h = t.test(muestra1, muestra2, var.equal = TRUE)\n",
    "    pvalor = h$p.value\n",
    "    if (pvalor < alpha){\n",
    "        rechazosH0 = rechazosH0 + 1\n",
    "    }\n",
    "}\n",
    "alphabarra = rechazosH0/1000\n",
    "print(rechazosH0)\n",
    "print(alphabarra)"
   ]
  },
  {
   "cell_type": "code",
   "execution_count": null,
   "metadata": {},
   "outputs": [],
   "source": []
  },
  {
   "cell_type": "code",
   "execution_count": null,
   "metadata": {},
   "outputs": [],
   "source": []
  }
 ],
 "metadata": {
  "kernelspec": {
   "display_name": "R",
   "language": "R",
   "name": "ir"
  },
  "language_info": {
   "codemirror_mode": "r",
   "file_extension": ".r",
   "mimetype": "text/x-r-source",
   "name": "R",
   "pygments_lexer": "r",
   "version": "3.5.1"
  },
  "toc": {
   "nav_menu": {},
   "number_sections": true,
   "sideBar": true,
   "skip_h1_title": false,
   "title_cell": "Tabla de Contenidos",
   "title_sidebar": "Contenido",
   "toc_cell": false,
   "toc_position": {},
   "toc_section_display": true,
   "toc_window_display": false
  }
 },
 "nbformat": 4,
 "nbformat_minor": 2
}
