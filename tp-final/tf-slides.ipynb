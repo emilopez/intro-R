{
 "cells": [
  {
   "cell_type": "markdown",
   "metadata": {
    "slideshow": {
     "slide_type": "slide"
    }
   },
   "source": [
    "# Análisis de sensores\n",
    "\n",
    "## Trabajo Final de Estadística 2018\n",
    "\n",
    "- Alumno: Emiliano López - Centro de Estudios HidroAmbientales (CENEHA) / FICH - UNL\n",
    "- Docentes: Diego Tomassi / Antonella Gieco - FIQ-UNL"
   ]
  },
  {
   "cell_type": "markdown",
   "metadata": {
    "slideshow": {
     "slide_type": "slide"
    }
   },
   "source": [
    "# Introducción\n",
    "\n",
    "- En el estudio de fenómenos hidrológicos o ambientales es indispensable contar con mediciones in situ"
   ]
  },
  {
   "cell_type": "markdown",
   "metadata": {
    "slideshow": {
     "slide_type": "fragment"
    }
   },
   "source": [
    "- En general son usados: alimentar modelos de simulación, calibrar parámetros, comprender la dinámica de los fenómenos, etc"
   ]
  },
  {
   "cell_type": "markdown",
   "metadata": {
    "slideshow": {
     "slide_type": "fragment"
    }
   },
   "source": [
    "- Frecuentemente son necesarios dispositivos de medición de diferentes fabricantes y elevado costo"
   ]
  },
  {
   "cell_type": "markdown",
   "metadata": {
    "slideshow": {
     "slide_type": "fragment"
    }
   },
   "source": [
    "- Dificulta el mantenimiento e integración, impactando en la resolución espacial y temporal"
   ]
  },
  {
   "cell_type": "markdown",
   "metadata": {
    "slideshow": {
     "slide_type": "subslide"
    }
   },
   "source": [
    "- **Desarrollos propios**\n",
    "\n",
    "- El CENEHA comenzó a desarrollar dispositivos propios basados en hardware libre / de código abierto\n",
    "- Costo de un orden de magnitud frente a alternativas comerciales/cerradas\n",
    "\n",
    "<center>\n",
    "    <img src=\"img/sensores.png\" alt=\"drawing\" width=\"550\"/>\n",
    "    <img src=\"img/combo-lab-campo.png\" alt=\"drawing\" width=\"550\"/>\n",
    "</center>"
   ]
  },
  {
   "cell_type": "markdown",
   "metadata": {
    "slideshow": {
     "slide_type": "subslide"
    }
   },
   "source": [
    "- **Mejorar la resolución espacial y temporal**\n",
    "\n",
    "<center>\n",
    "<img src=\"img/sfe1.png\" alt=\"drawing\" width=\"500\"/>\n",
    "</center>"
   ]
  },
  {
   "cell_type": "code",
   "execution_count": null,
   "metadata": {
    "slideshow": {
     "slide_type": "-"
    }
   },
   "outputs": [],
   "source": []
  }
 ],
 "metadata": {
  "celltoolbar": "Slideshow",
  "kernelspec": {
   "display_name": "R",
   "language": "R",
   "name": "ir"
  },
  "language_info": {
   "codemirror_mode": "r",
   "file_extension": ".r",
   "mimetype": "text/x-r-source",
   "name": "R",
   "pygments_lexer": "r",
   "version": "3.5.1"
  },
  "toc": {
   "nav_menu": {},
   "number_sections": true,
   "sideBar": true,
   "skip_h1_title": false,
   "title_cell": "Tabla de Contenidos",
   "title_sidebar": "Contenido",
   "toc_cell": false,
   "toc_position": {},
   "toc_section_display": true,
   "toc_window_display": false
  }
 },
 "nbformat": 4,
 "nbformat_minor": 2
}
