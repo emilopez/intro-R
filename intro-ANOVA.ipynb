{
 "cells": [
  {
   "cell_type": "markdown",
   "metadata": {},
   "source": [
    "# Estudiando ANOVA\n",
    "\n",
    "¿Cuáles son los límites del universo? ¿Dios existe? ¿Cuál es el punto exacto del arroz? ¿Qué carajo es ANOVA? preguntas que la humanidad ha intentado responder desde sus orígenes, en este opúsculo pretendo responder la única sin respuesta.\n",
    "\n",
    "## ¿Qué carajo es ANOVA?\n",
    "\n",
    "Es un método para comparar distintos tratamientos, ni más, ni menos. La idea general es separar la variación total en las partes con las que contribuye cada fuente de variación en el experimento. Se separan la variabilidad debida a los tratamientos y la debida al error. \n",
    "\n",
    "- Cuando la primera predomina \"claramente\" sobre la segunda, es cuando se concluye que los tratamientos tienen efecto, o dicho de otra manera, las medias son diferentes. \n",
    "- Cuando los tratamientos no dominan, contribuyen igual o menos que el error, por lo que se concluye que las medias son iguales\n",
    "\n",
    "Esto se plantea en modo de test, con H0 suponiendo que las medias son iguales y H1 diciendo que al menos un par son distintas, pero **¿cómo hacemos el test, cuál es nuestro estadístico de prueba?**\n",
    "\n",
    "Bueno, acá está la posta, lo que tenemos que hacer es armar ese estadístico dividiendo algo que me indica la variabilidad entre los tratamientos sobre la variabilidad dentro de cada tratamiento. \n",
    "\n",
    "ANOVA significa análisis de la varianza, pero ¿dónde entra en juego la varianza? Bueno, debe venir del supuesto para poder realizar el test, que dice que los tratamientos poseen varianza constante. \n",
    "\n",
    "Es bueno entender lo que significa cada notación, ya que luego lo usamos a troche y moche, si lo entendemos de entrada ganamos vida.\n",
    "\n",
    "## Notación\n",
    "\n",
    "Tenemos k cantidad de tratamientos, y en cada tratamiento tenemos un número $n_i$ observaciones. $n_i$ es la cantidad de observaciones del tratamiento *i*.\n",
    "\n",
    "- Sumamos todas las observaciones $n_i$ de cada tratamiento (medias)\n",
    "\n",
    "$$N = \\sum_{i=1}^{t} n_i$$\n",
    "\n",
    "- Media de cada tratamiento (muestra)\n",
    "\n",
    "$$\\overline{Y}_{i \\cdot} = {{1} \\over {n_i}} \\sum_{j=1}^{n_i}y_{ij}$$\n",
    "\n",
    "- Media global, promedio de todas las observaciones\n",
    "\n",
    "$$\\overline{Y}_{\\cdot \\cdot} = {{1} \\over {N}} \\sum_{i=1}^{k}\\sum_{j=1}^{n_j} y_{ij}$$\n",
    "\n",
    "## Modelo\n",
    "\n",
    "¿Cómo podemos suponer la distribución de las medias de las observaciones? Bueno, podemos armar un modelo/ecuación que nos describa este comportamiento:\n",
    "\n",
    "$$y_{ij}=\\mu_i + \\epsilon_{ij}$$\n",
    "\n",
    "donde $y_{ij}$ es el valor de la observación *j* del tratamiento *i*, $\\mu_i$ es la media de cada tratamiento *i* y $\\epsilon_{ij}$ es el error. Otra manera de expresarlo es:\n",
    "\n",
    "$$y_{ij}=\\mu + \\tau_i + \\epsilon_{ij}$$\n",
    "\n",
    "donde $\\mu$ es una media global y $\\tau_i$ es el efecto de cada tratamiento *i*. En base a este modelo lo que buscamos es probar la hipótesis de igualdad de los tratamientos con respecto a la media, es decir:\n",
    "\n",
    "- H0: $\\mu_1 = \\mu_2 \\cdots \\mu_k = \\mu$\n",
    "- H1: $\\mu_i \\neq \\mu_j$\n",
    "\n",
    "Lo que es equivalente a:\n",
    "\n",
    "- H0: $\\tau_1 = \\tau_2 \\cdots \\tau_k = 0$\n",
    "- H1: $\\tau_i \\neq 0$\n",
    "\n",
    "Donde $\\tau_i$ es el efecto del tratamiento *i* sobre la variable respuesta, que significa el desplazamiento de una media global $\\mu$, es decir, $\\tau_i = \\mu_i-\\mu$"
   ]
  },
  {
   "cell_type": "markdown",
   "metadata": {},
   "source": [
    "## Método\n",
    "\n",
    "Para probar las hipótesis dadas lo primero es decomponer la variabilidad total de los datos en sus dos componentes:\n",
    "\n",
    "- debida a tratamientos (entre tratamientos)\n",
    "- debida al error aleatorio (dentro de tratamientos)\n",
    "\n",
    "**Suma de Cuadrados de Tratamientos ($SC_{ENTRE}$)**\n",
    "\n",
    "Mide la diferencia entre los tratamientos, si son muy diferentes entre sí, entonces el valor tenderá a ser grande. Tiene k-1 grados de libertad.\n",
    "\n",
    "$$SC_{ENTRE} = \\sum_{i=1}^k n_i \\left(\\overline{Y}_{i \\cdot} - \\overline{Y}_{\\cdot \\cdot} \\right)^2$$\n",
    "\n",
    "**Suma de Cuadrados del Error ($SC_{DENTRO}$)**\n",
    "\n",
    "Mide la variación entre las observaciones de cada tratamiento, si hay mucha diferencia entonces tenderá a ser un valor grande. Tiene N-k grados de libertad.\n",
    "\n",
    "$$SC_{DENTRO} = \\sum_{i=1}^k \\sum_{j=1}^{n_i}  \\left(Y_{i j} - \\overline{Y}_{i \\cdot} \\right)^2$$"
   ]
  },
  {
   "cell_type": "markdown",
   "metadata": {},
   "source": [
    "## Estadístico de prueba\n",
    "\n",
    "Si dividimos las cada suma de cuadrados por sus respectivos grados de libertad obtenemos algo que denominamos *Suma de los cuadrados medios, MCentre y MCdentro*, veamos:\n",
    "\n",
    "$$MC_{ENTRE} = {{SC_{ENTRE}} \\over {k-1}}$$\n",
    "\n",
    "$$MC_{DENTRO} = {{SC_{DENTRO}} \\over {N-k}}$$\n",
    "\n",
    "donde k es la cantidad de tratamientos y N la cantidad de observaciones totales. Che, acordate que *MCdentro* es un estimador de la varianza.\n",
    "\n",
    "Ahora sí, armamos el estadístico F0:\n",
    "\n",
    "$$F0 = {{MC_{ENTRE}} \\over {MC_{DENTRO}}} \\approx F(k-1, N-k)$$\n",
    "\n",
    "Con F0 calculamos el pvalor, y con esto sabremos si **RECHAZAMOS o ACEPTAMOS H0** para un nivel $\\alpha$ prefijado.\n",
    "\n",
    "- Si rechazamos H0: tamo al horno, hay que hacer **contrastes y comparaciones múltiples**\n",
    "- Si aceptamos H0: listo, pero vamos a tener que saber qué potencia tenemos, tal vez nos damos cuenta que hay que aumentar el n."
   ]
  },
  {
   "cell_type": "markdown",
   "metadata": {},
   "source": [
    "## Contrastes\n",
    "\n",
    "Estamos acá porque rechazamos H0 y es lo último en guarachas, o sea, las medias no son todas iguales, entonces vamos a contrastar entre algunas en particular para ver esa diferencia de medias.\n",
    "\n",
    "Un contraste es esto:\n",
    "\n",
    "$$C = \\sum_{i=1}^{t}k_i\\mu_i$$\n",
    "\n",
    "pero teniendo la condición que sumando los k nos dan 0: $\\sum_{i=1}^tk_i=0$.\n",
    "\n",
    "Pero pensemos, ¿qué significan estos contrastes? Bueno, bien bien en claro no lo tengo, pero sí se que tiene sentido restar las medias para saber si hay diferencia o no. Entonces, supongamos que queremos contrastar el tratamiento 1 con el 3, esto sería: $C1 = \\mu1-\\mu3$, suponiendo que tenemos 4 tratamientos, los k que tenemos entonces son:\n",
    "\n",
    "$$k = (1,0,-1,0)$$\n",
    "\n",
    "y ahora tenemos que volver a hacer un test para saber si nuestra nueva H0 se rechaza o acepta, sería:\n",
    "\n",
    "- H0: $C1 = 0$\n",
    "- H1: $C1 \\neq 0$\n",
    "\n",
    "¿Cómo resolvemos este test? Mamita querida, esto no termina nunca: \n",
    "\n",
    "- tenemos que hacer un Intervalo de Confianza (IC) para este C1 y vemos si el 0 está dentro.\n",
    "- Para hacer el IC necesitamos un estimador del C1: $\\overline{C}=\\sum_{i=1}^t k_i \\overline{y}_{i \\cdot}$ \n",
    "\n",
    "El IC siempre es de la forma: $\\theta \\pm A \\sqrt{var(\\theta)}$ que termina quedando de la siguiente forma:\n",
    "\n",
    "$$C \\pm t_{\\alpha/2}(N-t) * S_p * \\sqrt{\\sum_{i=1}^{t} {{k_i^2}\\over{n_i}}}$$\n",
    "\n",
    "**OJITO:** *no confundir la primer t, de la distribución t-student con la t del extremo de la sumatoria que refiere a la cantidad de tratamientos. Tampoco confundir la k que usamos acá , que son los coeficientes de los constrastes con la k de la sección previa que hacía referencia a la cantidad de tratamientos.*"
   ]
  },
  {
   "cell_type": "markdown",
   "metadata": {},
   "source": [
    "## Comparaciones simultáneas\n",
    "\n",
    "Acá lo que hacemos son IC para contrastes simultáneos. ¿WTF? Claro, como vamos a hacer los contrastes simultáneos acá entra en juego cómo tomamos el $\\alpha$, de aquí que hay varios métodos para hacerlo:\n",
    "\n",
    "### Bonferroni\n",
    "\n",
    "### Tukey\n",
    "\n",
    "### Dunnett\n",
    "\n",
    "### Scheffe\n",
    "\n",
    "### Contrastes Ortogonales"
   ]
  },
  {
   "cell_type": "markdown",
   "metadata": {},
   "source": [
    "## Enunciado\n",
    "Para estudiar si el tipo de dieta influye en el tiempo de supervivencia de ratas, se midió el tiempo de supervivencia de 349 ratas femeninas que fueron asignados aleatoriamente a uno de los 6 tipos diferentes de dietas das a continuación:"
   ]
  },
  {
   "cell_type": "code",
   "execution_count": 1,
   "metadata": {},
   "outputs": [],
   "source": [
    "datos = read.table('/home/emiliano/EstadisticaAplicada/Estadistica.Aplicada.2018/datos/dietafile.R', header = TRUE)"
   ]
  },
  {
   "cell_type": "code",
   "execution_count": 2,
   "metadata": {},
   "outputs": [
    {
     "data": {
      "text/html": [
       "<table>\n",
       "<thead><tr><th scope=col>cuantovive</th><th scope=col>dieta</th></tr></thead>\n",
       "<tbody>\n",
       "\t<tr><td>35.5</td><td>NP  </td></tr>\n",
       "\t<tr><td>35.4</td><td>NP  </td></tr>\n",
       "\t<tr><td>34.9</td><td>NP  </td></tr>\n",
       "\t<tr><td>34.8</td><td>NP  </td></tr>\n",
       "\t<tr><td>33.8</td><td>NP  </td></tr>\n",
       "\t<tr><td>33.5</td><td>NP  </td></tr>\n",
       "</tbody>\n",
       "</table>\n"
      ],
      "text/latex": [
       "\\begin{tabular}{r|ll}\n",
       " cuantovive & dieta\\\\\n",
       "\\hline\n",
       "\t 35.5 & NP  \\\\\n",
       "\t 35.4 & NP  \\\\\n",
       "\t 34.9 & NP  \\\\\n",
       "\t 34.8 & NP  \\\\\n",
       "\t 33.8 & NP  \\\\\n",
       "\t 33.5 & NP  \\\\\n",
       "\\end{tabular}\n"
      ],
      "text/markdown": [
       "\n",
       "cuantovive | dieta | \n",
       "|---|---|---|---|---|---|\n",
       "| 35.5 | NP   | \n",
       "| 35.4 | NP   | \n",
       "| 34.9 | NP   | \n",
       "| 34.8 | NP   | \n",
       "| 33.8 | NP   | \n",
       "| 33.5 | NP   | \n",
       "\n",
       "\n"
      ],
      "text/plain": [
       "  cuantovive dieta\n",
       "1 35.5       NP   \n",
       "2 35.4       NP   \n",
       "3 34.9       NP   \n",
       "4 34.8       NP   \n",
       "5 33.8       NP   \n",
       "6 33.5       NP   "
      ]
     },
     "metadata": {},
     "output_type": "display_data"
    }
   ],
   "source": [
    "head(datos)\n",
    "attach(datos)"
   ]
  },
  {
   "cell_type": "markdown",
   "metadata": {},
   "source": [
    "## Resumen gráfico"
   ]
  },
  {
   "cell_type": "code",
   "execution_count": 3,
   "metadata": {},
   "outputs": [
    {
     "data": {
      "image/png": "[encoded data removed]",
      "text/plain": [
       "plot without title"
      ]
     },
     "metadata": {},
     "output_type": "display_data"
    }
   ],
   "source": [
    "boxplot(cuantovive~dieta, col = 'gray', pch = 16, xlab = 'Dieta', ylab = 'Supervivencia')"
   ]
  },
  {
   "cell_type": "markdown",
   "metadata": {},
   "source": [
    "## Resumen numérico\n",
    "\n",
    "Veamos el n de cada tipo de dieta, su promedio y su desvío"
   ]
  },
  {
   "cell_type": "code",
   "execution_count": 4,
   "metadata": {},
   "outputs": [
    {
     "name": "stdout",
     "output_type": "stream",
     "text": [
      "      ns promedio desvio\n",
      "lopro 56     39.7   6.99\n",
      "N/N85 57     32.7   5.13\n",
      "N/R40 60     45.1   6.70\n",
      "N/R50 71     42.3   7.77\n",
      "NP    49     27.4   6.13\n",
      "R/R50 56     42.9   6.68\n"
     ]
    }
   ],
   "source": [
    "# cantidad de elementos de cada muestra\n",
    "ns = tapply(cuantovive, dieta, length)\n",
    "# promedios de cada tipo de dieta\n",
    "promedio = tapply(cuantovive, dieta, mean)\n",
    "# desvios\n",
    "desvio = tapply(cuantovive, dieta, sd)\n",
    "print(cbind(ns, promedio, desvio), digits = 3)\n"
   ]
  },
  {
   "cell_type": "markdown",
   "metadata": {},
   "source": []
  },
  {
   "cell_type": "markdown",
   "metadata": {},
   "source": [
    "## Tabla ANOVA \n",
    "Mostramos la tabla ANOVA"
   ]
  },
  {
   "cell_type": "code",
   "execution_count": 6,
   "metadata": {},
   "outputs": [
    {
     "data": {
      "text/plain": [
       "             Df Sum Sq Mean Sq F value Pr(>F)    \n",
       "dieta         5  12734  2546.8    57.1 <2e-16 ***\n",
       "Residuals   343  15297    44.6                   \n",
       "---\n",
       "Signif. codes:  0 ‘***’ 0.001 ‘**’ 0.01 ‘*’ 0.05 ‘.’ 0.1 ‘ ’ 1"
      ]
     },
     "metadata": {},
     "output_type": "display_data"
    }
   ],
   "source": [
    "dieta = as.factor(dieta)\n",
    "modelo = aov(cuantovive~dieta)\n",
    "summary(modelo)"
   ]
  },
  {
   "cell_type": "markdown",
   "metadata": {},
   "source": [
    "**Chequeo de normalidad**"
   ]
  },
  {
   "cell_type": "code",
   "execution_count": 7,
   "metadata": {},
   "outputs": [
    {
     "data": {
      "image/png": "[encoded data removed]",
      "text/plain": [
       "Plot with title “Normal Q-Q Plot”"
      ]
     },
     "metadata": {},
     "output_type": "display_data"
    }
   ],
   "source": [
    "qqnorm(modelo$residuals)\n",
    "qqline(modelo$residuals)"
   ]
  },
  {
   "cell_type": "markdown",
   "metadata": {},
   "source": [
    "**Chequeo de varianza constante**"
   ]
  },
  {
   "cell_type": "code",
   "execution_count": 10,
   "metadata": {},
   "outputs": [
    {
     "ename": "ERROR",
     "evalue": "Error in is.factor(group): argument \"group\" is missing, with no default\n",
     "output_type": "error",
     "traceback": [
      "Error in is.factor(group): argument \"group\" is missing, with no default\nTraceback:\n",
      "1. leveneTest(modelo$residuals)",
      "2. leveneTest.default(modelo$residuals)",
      "3. is.factor(group)"
     ]
    }
   ],
   "source": [
    "library(car)\n",
    "leveneTest(modelo$residuals)"
   ]
  },
  {
   "cell_type": "markdown",
   "metadata": {},
   "source": [
    "Otra forma de llegar a lo mismo es hacer el modelo para H1 y compararlo con el modelo H0"
   ]
  },
  {
   "cell_type": "code",
   "execution_count": 11,
   "metadata": {},
   "outputs": [
    {
     "data": {
      "text/html": [
       "<table>\n",
       "<thead><tr><th scope=col>Res.Df</th><th scope=col>RSS</th><th scope=col>Df</th><th scope=col>Sum of Sq</th><th scope=col>F</th><th scope=col>Pr(&gt;F)</th></tr></thead>\n",
       "<tbody>\n",
       "\t<tr><td>343         </td><td>15297.42    </td><td>NA          </td><td>       NA   </td><td>      NA    </td><td>          NA</td></tr>\n",
       "\t<tr><td>348         </td><td>28031.36    </td><td>-5          </td><td>-12733.94   </td><td>57.10431    </td><td>4.111744e-43</td></tr>\n",
       "</tbody>\n",
       "</table>\n"
      ],
      "text/latex": [
       "\\begin{tabular}{r|llllll}\n",
       " Res.Df & RSS & Df & Sum of Sq & F & Pr(>F)\\\\\n",
       "\\hline\n",
       "\t 343          & 15297.42     & NA           &        NA    &       NA     &           NA\\\\\n",
       "\t 348          & 28031.36     & -5           & -12733.94    & 57.10431     & 4.111744e-43\\\\\n",
       "\\end{tabular}\n"
      ],
      "text/markdown": [
       "\n",
       "Res.Df | RSS | Df | Sum of Sq | F | Pr(>F) | \n",
       "|---|---|\n",
       "| 343          | 15297.42     | NA           |        NA    |       NA     |           NA | \n",
       "| 348          | 28031.36     | -5           | -12733.94    | 57.10431     | 4.111744e-43 | \n",
       "\n",
       "\n"
      ],
      "text/plain": [
       "  Res.Df RSS      Df Sum of Sq F        Pr(>F)      \n",
       "1 343    15297.42 NA        NA       NA           NA\n",
       "2 348    28031.36 -5 -12733.94 57.10431 4.111744e-43"
      ]
     },
     "metadata": {},
     "output_type": "display_data"
    }
   ],
   "source": [
    "modeloH1 = lm(cuantovive~dieta)\n",
    "modeloH0 = lm(cuantovive~1)\n",
    "anova(modeloH1, modeloH0)"
   ]
  },
  {
   "cell_type": "code",
   "execution_count": null,
   "metadata": {},
   "outputs": [],
   "source": []
  }
 ],
 "metadata": {
  "kernelspec": {
   "display_name": "R",
   "language": "R",
   "name": "ir"
  },
  "language_info": {
   "codemirror_mode": "r",
   "file_extension": ".r",
   "mimetype": "text/x-r-source",
   "name": "R",
   "pygments_lexer": "r",
   "version": "3.5.1"
  },
  "toc": {
   "nav_menu": {},
   "number_sections": true,
   "sideBar": true,
   "skip_h1_title": false,
   "title_cell": "Tabla de Contenidos",
   "title_sidebar": "Contenido",
   "toc_cell": false,
   "toc_position": {},
   "toc_section_display": true,
   "toc_window_display": false
  }
 },
 "nbformat": 4,
 "nbformat_minor": 2
}
