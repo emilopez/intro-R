{
 "cells": [
  {
   "cell_type": "code",
   "execution_count": 3,
   "metadata": {},
   "outputs": [
    {
     "name": "stderr",
     "output_type": "stream",
     "text": [
      "The following objects are masked from datos (pos = 3):\n",
      "\n",
      "    Alcohol, Base, Porc\n",
      "\n"
     ]
    },
    {
     "data": {
      "text/html": [
       "<ol class=list-inline>\n",
       "\t<li>'Base'</li>\n",
       "\t<li>'Alcohol'</li>\n",
       "\t<li>'Porc'</li>\n",
       "</ol>\n"
      ],
      "text/latex": [
       "\\begin{enumerate*}\n",
       "\\item 'Base'\n",
       "\\item 'Alcohol'\n",
       "\\item 'Porc'\n",
       "\\end{enumerate*}\n"
      ],
      "text/markdown": [
       "1. 'Base'\n",
       "2. 'Alcohol'\n",
       "3. 'Porc'\n",
       "\n",
       "\n"
      ],
      "text/plain": [
       "[1] \"Base\"    \"Alcohol\" \"Porc\"   "
      ]
     },
     "metadata": {},
     "output_type": "display_data"
    },
    {
     "name": "stdout",
     "output_type": "stream",
     "text": [
      "'data.frame':\t24 obs. of  3 variables:\n",
      " $ Base   : int  1 1 1 1 1 1 1 1 1 1 ...\n",
      " $ Alcohol: int  1 1 1 1 2 2 2 2 3 3 ...\n",
      " $ Porc   : num  91.3 89.9 90.7 91.4 89.3 88.1 90.4 91.4 89.5 87.6 ...\n"
     ]
    }
   ],
   "source": [
    "datos = read.table(\"/home/emiliano/EstadisticaAplicada/Estadistica.Aplicada.2018/02_disenio_factorial_y_bloques/datos/C6P1datos.txt\", header=TRUE)\n",
    "attach(datos)\n",
    "names(datos)\n",
    "str(datos)"
   ]
  },
  {
   "cell_type": "code",
   "execution_count": null,
   "metadata": {},
   "outputs": [],
   "source": [
    "Bf = as.factor(Base)\n",
    "Af = as.factor(Alcohol)\n",
    "\n",
    "# Exploratorio\n",
    "interaction.plot(Bf, Af, Porc, col=levels(Af))\n",
    "interaction.plot(Af, Bf, Porc, col=levels(Bf))"
   ]
  },
  {
   "cell_type": "markdown",
   "metadata": {},
   "source": [
    "Veremos un gráfico donde cada curva es pararme en un alcholol y moverme por una base \n",
    "la media que obtengo con la base 1 con la media que tengo con la base 2 cuando el alcohol es el 3 (verde)\n",
    "\n",
    "Si no hubiera interacción **TODOS** deberían ser paralelos, si alguna se corta entonces CLARAMENTE hay una interacción.\n",
    "\n",
    "\n",
    "Otro gráfica vemos como cambia la media para los distintos alcholes cuando la base es una u otra. Vemos como cambia el porcentaje de reacción, así que ahí también vemos interacción. También deberían dar paralelos si no hay interacción.\n",
    "\n",
    "En la realidad no nos van a dar perfectamente paralelas pero al menos no se van a cortar abruptamente, eso significa que en la población podría no cumplirse."
   ]
  },
  {
   "cell_type": "code",
   "execution_count": null,
   "metadata": {},
   "outputs": [],
   "source": [
    "modelo = aov(Porc ~ Af*Bf)\n",
    "summary(modelo)\n",
    "\n",
    "# estan bien que los grados de libertad sean 18 en los residuos, porque tengo 3x2 combinaciones distintas, las 24 \n",
    "# observaciones menos las 6 combinaciones (24-6 = 18)\n",
    "\n",
    "# tengo que comprar los cuadrados medios con los cuadrados del error para ver el pvalor, 0.0135 entonces digo que\n",
    "# tengo interaccion significativa pq el pvalor me dio chiquita, entonces no hago nada con lo otro porque no tiene\n",
    "# sentido, asi que me voy derecho a chequear los residuos, que puedo hacer?\n",
    "\n",
    "qqnorm(modelo$residuales)\n",
    "qqline(modelo$residuales)\n",
    "boxplot(modelo$residuales)\n",
    "\n",
    "# hacemos los test, no tenemos evidencia\n",
    "shapiro.test(modelo$residuales)\n",
    "leveneTest(modelo)\n",
    "outLierTest(modelo)\n",
    "\n",
    "# no rechazo igualdad de varianzas ni normalidad, luego no hace falta transformar ni sacar outliers y confio en el resultado del anova\n",
    "\n",
    "# ahora vamos a hacer los interfalos de confianza para las medias\n",
    "library(lsmeans)\n",
    "medias = lsmeans(modelo, ~Bf*Af)\n",
    "print(medias)\n",
    "\n",
    "# o lo mismo con\n",
    "# fAB = paste(Af, Bf)\n",
    "#  tapply(Porc, fAB,mean)\n",
    "\n",
    "# las medias marginales no tienen sentido, rompemos todo, pero seria asi>\n",
    "mediasB = lsmeans(modelo, ~Bf)\n",
    "print(mediasB)\n",
    "#tapply({prc ,Bf, mean})\n",
    "\n",
    "# LO FUNDAMENTAL ES TESTEAR SI HAY INTERACCION, \n",
    "# SI NOS DA QUE NO SON SIGNIFICATIVAS QUE PODEMOS PROBAR, PQ TAL VEZ SI HAY INTERACCION, QUE PODRIA HACER\n",
    "# PUEDO PREGUNTARME QUE POTENCIA TENGO"
   ]
  }
 ],
 "metadata": {
  "kernelspec": {
   "display_name": "R",
   "language": "R",
   "name": "ir"
  },
  "language_info": {
   "codemirror_mode": "r",
   "file_extension": ".r",
   "mimetype": "text/x-r-source",
   "name": "R",
   "pygments_lexer": "r",
   "version": "3.5.1"
  },
  "toc": {
   "nav_menu": {},
   "number_sections": true,
   "sideBar": true,
   "skip_h1_title": false,
   "title_cell": "Tabla de Contenidos",
   "title_sidebar": "Contenido",
   "toc_cell": false,
   "toc_position": {},
   "toc_section_display": true,
   "toc_window_display": false
  }
 },
 "nbformat": 4,
 "nbformat_minor": 2
}
