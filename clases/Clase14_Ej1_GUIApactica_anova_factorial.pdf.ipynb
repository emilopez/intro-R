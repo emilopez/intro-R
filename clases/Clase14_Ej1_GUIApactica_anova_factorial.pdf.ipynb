{
 "cells": [
  {
   "cell_type": "code",
   "execution_count": 1,
   "metadata": {},
   "outputs": [],
   "source": [
    "datos = read.table(\"/home/emiliano/EstadisticaAplicada/Estadistica.Aplicada.2018/02_disenio_factorial_y_bloques/datos/C6P3datos.txt\", header=TRUE, sep='\\t')\n",
    "#head(datos)\n",
    "attach(datos)\n",
    "Telaf = as.factor(Tela)\n",
    "Tempf = as.factor(Temp)"
   ]
  },
  {
   "cell_type": "code",
   "execution_count": 2,
   "metadata": {},
   "outputs": [
    {
     "ename": "ERROR",
     "evalue": "Error in parse(text = x, srcfile = src): <text>:4:0: unexpected end of input\n2: interaction.plot(Tempf, Telaf, Porc, col=c('magenta', 'green', 'blue', 'darked')\n3: # de\n  ^\n",
     "output_type": "error",
     "traceback": [
      "Error in parse(text = x, srcfile = src): <text>:4:0: unexpected end of input\n2: interaction.plot(Tempf, Telaf, Porc, col=c('magenta', 'green', 'blue', 'darked')\n3: # de\n  ^\nTraceback:\n"
     ]
    }
   ],
   "source": [
    "library(lattice)\n",
    "interaction.plot(Tempf, Telaf, Porc, col=c('magenta', 'green', 'blue', 'darked')\n",
    "# de"
   ]
  },
  {
   "cell_type": "code",
   "execution_count": 14,
   "metadata": {},
   "outputs": [
    {
     "data": {
      "text/plain": [
       "            Df Sum Sq Mean Sq F value   Pr(>F)    \n",
       "Telaf        3  41.88   13.96  279.18 5.05e-14 ***\n",
       "Tempf        3 283.94   94.65 1892.91  < 2e-16 ***\n",
       "Telaf:Tempf  9  15.86    1.76   35.24 7.09e-09 ***\n",
       "Residuals   16   0.80    0.05                     \n",
       "---\n",
       "Signif. codes:  0 ‘***’ 0.001 ‘**’ 0.01 ‘*’ 0.05 ‘.’ 0.1 ‘ ’ 1"
      ]
     },
     "metadata": {},
     "output_type": "display_data"
    }
   ],
   "source": [
    "modelo = aov(Porc~Telaf*Tempf)\n",
    "summary(modelo)"
   ]
  },
  {
   "cell_type": "code",
   "execution_count": 10,
   "metadata": {},
   "outputs": [
    {
     "data": {
      "text/plain": [
       "\n",
       "\tShapiro-Wilk normality test\n",
       "\n",
       "data:  modelo$residuals\n",
       "W = 0.93155, p-value = 0.04327\n"
      ]
     },
     "metadata": {},
     "output_type": "display_data"
    },
    {
     "name": "stderr",
     "output_type": "stream",
     "text": [
      "Loading required package: carData\n",
      "Warning message in anova.lm(lm(resp ~ group)):\n",
      "“ANOVA F-tests on an essentially perfect fit are unreliable”"
     ]
    },
    {
     "data": {
      "text/html": [
       "<table>\n",
       "<thead><tr><th></th><th scope=col>Df</th><th scope=col>F value</th><th scope=col>Pr(&gt;F)</th></tr></thead>\n",
       "<tbody>\n",
       "\t<tr><th scope=row>group</th><td>15           </td><td>5.265436e+28 </td><td>1.258744e-226</td></tr>\n",
       "\t<tr><th scope=row> </th><td>16           </td><td>          NA </td><td>           NA</td></tr>\n",
       "</tbody>\n",
       "</table>\n"
      ],
      "text/latex": [
       "\\begin{tabular}{r|lll}\n",
       "  & Df & F value & Pr(>F)\\\\\n",
       "\\hline\n",
       "\tgroup & 15            & 5.265436e+28  & 1.258744e-226\\\\\n",
       "\t  & 16            &           NA  &            NA\\\\\n",
       "\\end{tabular}\n"
      ],
      "text/markdown": [
       "\n",
       "| <!--/--> | Df | F value | Pr(>F) | \n",
       "|---|---|\n",
       "| group | 15            | 5.265436e+28  | 1.258744e-226 | \n",
       "|   | 16            |           NA  |            NA | \n",
       "\n",
       "\n"
      ],
      "text/plain": [
       "      Df F value      Pr(>F)       \n",
       "group 15 5.265436e+28 1.258744e-226\n",
       "      16           NA            NA"
      ]
     },
     "metadata": {},
     "output_type": "display_data"
    },
    {
     "data": {
      "image/png": "[encoded data removed]",
      "text/plain": [
       "plot without title"
      ]
     },
     "metadata": {},
     "output_type": "display_data"
    }
   ],
   "source": [
    "shapiro.test(modelo$residuals) # no puedo arreglar mucho teniendo precaucion pq no tengo tan asegurada la normalidad de los datos\n",
    "library(car)\n",
    "leveneTest(modelo) # no es confiable el test por los pocos datos\n",
    "library(MASS)\n",
    "boxcox(modelo) # me dice que no puedo mejorar mucho, no puedo hacer transformaciones\n",
    "# entonces, o bien aceptamos como esta o vamos por otro camino porque ninguna transformacion que vos puedas \n",
    "# aplicar a estos datos para que anova me quede mejor condicionado"
   ]
  },
  {
   "cell_type": "code",
   "execution_count": 12,
   "metadata": {},
   "outputs": [
    {
     "data": {
      "text/plain": [
       "\n",
       "Call:\n",
       "aov(formula = Porc ~ Telaf * Tempf)\n",
       "\n",
       "Residuals:\n",
       "    Min      1Q  Median      3Q     Max \n",
       "-0.3000 -0.1125  0.0000  0.1125  0.3000 \n",
       "\n",
       "Coefficients:\n",
       "               Estimate Std. Error t value Pr(>|t|)    \n",
       "(Intercept)     4.12500    0.07906  52.178  < 2e-16 ***\n",
       "Telaf2          1.22500    0.11180  10.957 7.59e-09 ***\n",
       "Telaf3          3.18750    0.11180  28.510 3.82e-15 ***\n",
       "Telaf4          1.76250    0.11180  15.764 3.62e-11 ***\n",
       "Tempf.L         4.47214    0.15811  28.284 4.33e-15 ***\n",
       "Tempf.Q         1.40000    0.15811   8.854 1.45e-07 ***\n",
       "Tempf.C        -0.55902    0.15811  -3.536  0.00275 ** \n",
       "Telaf2:Tempf.L  0.67082    0.22361   3.000  0.00848 ** \n",
       "Telaf3:Tempf.L  3.18640    0.22361  14.250 1.64e-10 ***\n",
       "Telaf4:Tempf.L  1.15158    0.22361   5.150 9.68e-05 ***\n",
       "Telaf2:Tempf.Q -0.30000    0.22361  -1.342  0.19845    \n",
       "Telaf3:Tempf.Q  0.07500    0.22361   0.335  0.74167    \n",
       "Telaf4:Tempf.Q  1.22500    0.22361   5.478 5.06e-05 ***\n",
       "Telaf2:Tempf.C  1.22984    0.22361   5.500 4.85e-05 ***\n",
       "Telaf3:Tempf.C  0.16771    0.22361   0.750  0.46414    \n",
       "Telaf4:Tempf.C  0.68200    0.22361   3.050  0.00764 ** \n",
       "---\n",
       "Signif. codes:  0 ‘***’ 0.001 ‘**’ 0.01 ‘*’ 0.05 ‘.’ 0.1 ‘ ’ 1\n",
       "\n",
       "Residual standard error: 0.2236 on 16 degrees of freedom\n",
       "Multiple R-squared:  0.9977,\tAdjusted R-squared:  0.9955 \n",
       "F-statistic: 455.6 on 15 and 16 DF,  p-value: < 2.2e-16\n"
      ]
     },
     "metadata": {},
     "output_type": "display_data"
    }
   ],
   "source": [
    "#f) aceptamos enotnces como esta, ahora vamos a hacer el analisis de tendencia\n",
    "\n",
    "g = 4\n",
    "contrasts(Tempf) = contr.poly(g, scores = c(210,215,220,225)) # porque no esta equispaciado\n",
    "modelo = aov(Porc~Telaf*Tempf)\n",
    "summary.lm(modelo) \n",
    "# vemos que el cubico es significativo, estamos testeando 15 cosas al mismo tiempo\n",
    "# fijemos con que valor de alpha comparamos, con benferroni alpha_PC = 1 - (1- alpha0_que_quiero)^1/15\n",
    "# alpha0_que_quiero = 0.05"
   ]
  },
  {
   "cell_type": "code",
   "execution_count": 13,
   "metadata": {},
   "outputs": [
    {
     "data": {
      "text/html": [
       "0.00341371294659032"
      ],
      "text/latex": [
       "0.00341371294659032"
      ],
      "text/markdown": [
       "0.00341371294659032"
      ],
      "text/plain": [
       "[1] 0.003413713"
      ]
     },
     "metadata": {},
     "output_type": "display_data"
    }
   ],
   "source": [
    "alpha = 0.05\n",
    "(alpha_PC = 1 - (1- alpha)^(1/15))\n",
    "# 0.003413\n",
    "# veo que no me puedo sacar de encima el cubico, los p-valores que son menores que el alpha_PC entonces\n",
    "# son los que tengo que mirar en la tabla previa"
   ]
  },
  {
   "cell_type": "code",
   "execution_count": 16,
   "metadata": {},
   "outputs": [
    {
     "name": "stderr",
     "output_type": "stream",
     "text": [
      "The following objects are masked from datos (pos = 6):\n",
      "\n",
      "    Porc, Tela, Temp\n",
      "\n"
     ]
    }
   ],
   "source": [
    "datos$interaccion = factor(paste0(Telaf, Tempf))\n",
    "attach(datos)"
   ]
  },
  {
   "cell_type": "code",
   "execution_count": 17,
   "metadata": {},
   "outputs": [
    {
     "data": {
      "text/plain": [
       "            Df Sum Sq Mean Sq F value Pr(>F)    \n",
       "interaccion 15  341.7   22.78   455.6 <2e-16 ***\n",
       "Residuals   16    0.8    0.05                   \n",
       "---\n",
       "Signif. codes:  0 ‘***’ 0.001 ‘**’ 0.01 ‘*’ 0.05 ‘.’ 0.1 ‘ ’ 1"
      ]
     },
     "metadata": {},
     "output_type": "display_data"
    }
   ],
   "source": [
    "# volvemos a ajustar\n",
    "m2 = aov(Porc~interaccion)\n",
    "summary(m2)"
   ]
  },
  {
   "cell_type": "code",
   "execution_count": 19,
   "metadata": {},
   "outputs": [
    {
     "name": "stdout",
     "output_type": "stream",
     "text": [
      "[1] \"WARNING: esta funcion considera que todos los ni son iguales\"\n",
      "[1] \"1210\"\n",
      "[1] \"1215\"\n",
      "[1] \"2210\"\n"
     ]
    },
    {
     "data": {
      "text/html": [
       "<ol class=list-inline>\n",
       "\t<li>NA</li>\n",
       "\t<li>'1210'</li>\n",
       "\t<li>'1215'</li>\n",
       "\t<li>'2210'</li>\n",
       "</ol>\n"
      ],
      "text/latex": [
       "\\begin{enumerate*}\n",
       "\\item NA\n",
       "\\item '1210'\n",
       "\\item '1215'\n",
       "\\item '2210'\n",
       "\\end{enumerate*}\n"
      ],
      "text/markdown": [
       "1. NA\n",
       "2. '1210'\n",
       "3. '1215'\n",
       "4. '2210'\n",
       "\n",
       "\n"
      ],
      "text/plain": [
       "[1] NA     \"1210\" \"1215\" \"2210\""
      ]
     },
     "metadata": {},
     "output_type": "display_data"
    }
   ],
   "source": [
    "# OJO, DEMORA \n",
    "source(\"/home/emiliano/EstadisticaAplicada/practica/mymultcomp.R\")\n",
    "minHSU(Porc, interaccion, alpha=0.05, 0.05, 16) # el mejor es el q encoje poco -> min\n",
    "# este nos dice que el mejor es 1210 y solamente son equivalentes a 1215 y 2210\n",
    "\n",
    "# probablemente si uno usa tukey probablemente encontraría alguno mas porque tiene menos potencia"
   ]
  },
  {
   "cell_type": "code",
   "execution_count": 20,
   "metadata": {},
   "outputs": [
    {
     "name": "stderr",
     "output_type": "stream",
     "text": [
      "The 'lsmeans' package is being deprecated.\n",
      "Users are encouraged to switch to 'emmeans'.\n",
      "See help('transition') for more information, including how\n",
      "to convert 'lsmeans' objects and scripts to work with 'emmeans'.\n"
     ]
    },
    {
     "data": {},
     "metadata": {},
     "output_type": "display_data"
    },
    {
     "data": {
      "image/png": "[encoded data removed]",
      "text/plain": [
       "plot without title"
      ]
     },
     "metadata": {},
     "output_type": "display_data"
    }
   ],
   "source": [
    "library(lsmeans)\n",
    "medias = lsmeans(m2, ~interaccion)\n",
    "plot(medias)"
   ]
  },
  {
   "cell_type": "code",
   "execution_count": null,
   "metadata": {},
   "outputs": [],
   "source": []
  }
 ],
 "metadata": {
  "kernelspec": {
   "display_name": "R",
   "language": "R",
   "name": "ir"
  },
  "language_info": {
   "codemirror_mode": "r",
   "file_extension": ".r",
   "mimetype": "text/x-r-source",
   "name": "R",
   "pygments_lexer": "r",
   "version": "3.5.1"
  },
  "toc": {
   "nav_menu": {},
   "number_sections": true,
   "sideBar": true,
   "skip_h1_title": false,
   "title_cell": "Tabla de Contenidos",
   "title_sidebar": "Contenido",
   "toc_cell": false,
   "toc_position": {},
   "toc_section_display": true,
   "toc_window_display": false
  }
 },
 "nbformat": 4,
 "nbformat_minor": 2
}
