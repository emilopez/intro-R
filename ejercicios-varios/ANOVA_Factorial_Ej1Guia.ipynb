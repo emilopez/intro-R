{
 "cells": [
  {
   "cell_type": "markdown",
   "metadata": {},
   "source": [
    "# ANOVA Factorial - Ej1 - Guía\n",
    "\n",
    "**Ejercicio 1.** ( 6.1, Kuehl) Un proceso de producción quı́mica consiste de una primera reacción con un\n",
    "alcohol y una segunda reacción con una base. Se realizó un experimento factorial de 3 × 2, con tres\n",
    "alcoholes y dos bases, con cuatro reacciones réplicas en un diseño totalmente aleatorizado. Los datos\n",
    "se reunieron como porcentaje de la reacción y son los que se encuentran en la siguiente tabla.\n",
    "\n",
    "- Guía ``Practica_Anova_Factorial.pdf``\n",
    "- Datos: ``C6P1datos.txt``\n",
    "- 2 factores"
   ]
  },
  {
   "cell_type": "code",
   "execution_count": 4,
   "metadata": {},
   "outputs": [
    {
     "name": "stdout",
     "output_type": "stream",
     "text": [
      "'data.frame':\t24 obs. of  3 variables:\n",
      " $ Base   : int  1 1 1 1 1 1 1 1 1 1 ...\n",
      " $ Alcohol: int  1 1 1 1 2 2 2 2 3 3 ...\n",
      " $ Porc   : num  91.3 89.9 90.7 91.4 89.3 88.1 90.4 91.4 89.5 87.6 ...\n"
     ]
    }
   ],
   "source": [
    "datos = read.csv(\"datos//C6P1datos.txt\", sep=\"\\t\")\n",
    "str(datos)\n",
    "attach(datos)\n",
    "basef = as.factor(Base)\n",
    "alchoholf = as.factor(Alcohol)"
   ]
  },
  {
   "cell_type": "markdown",
   "metadata": {},
   "source": [
    "**a) Modelo estadístico**\n",
    "\n",
    "- $\\alpha: alchohol$, *i* (efecto fijo)\n",
    "- $\\beta: base$, *j* (efecto fijo)\n",
    "- $\\epsilon_{ijk}:$ error experimental\n",
    "\n",
    "$$y_{ijk} = \\mu + \\alpha_i + \\beta_j + (\\alpha \\beta)_{ij} + \\epsilon_{ijk}$$\n",
    "\n",
    "Restricciones del modelo\n",
    "\n",
    "- $\\alpha_1 = 0$\n",
    "- $\\beta_1 = 0$\n",
    "- $(\\alpha \\beta)_{1j} = 0$\n",
    "- $(\\alpha \\beta)_{i1} = 0$"
   ]
  },
  {
   "cell_type": "markdown",
   "metadata": {},
   "source": [
    "**b) Suposiciones del modelo:** \n",
    "\n",
    " - $\\epsilon_{ijk} \\sim N(0, \\sigma^2)$, independientes\n",
    " \n",
    "**c) Análisis de la varianza** "
   ]
  },
  {
   "cell_type": "code",
   "execution_count": 5,
   "metadata": {},
   "outputs": [
    {
     "data": {
      "text/plain": [
       "                Df Sum Sq Mean Sq F value Pr(>F)  \n",
       "alchoholf        2   5.40   2.698   1.321 0.2915  \n",
       "basef            1   6.51   6.510   3.188 0.0910 .\n",
       "alchoholf:basef  2  22.57  11.283   5.525 0.0135 *\n",
       "Residuals       18  36.76   2.042                 \n",
       "---\n",
       "Signif. codes:  0 ‘***’ 0.001 ‘**’ 0.01 ‘*’ 0.05 ‘.’ 0.1 ‘ ’ 1"
      ]
     },
     "metadata": {},
     "output_type": "display_data"
    }
   ],
   "source": [
    "m0 = aov(Porc~alchoholf*basef) # alchoholf*basef -> ~alchoholf + basef +alchoholf:basef\n",
    "summary(m0)"
   ]
  },
  {
   "cell_type": "code",
   "execution_count": null,
   "metadata": {},
   "outputs": [],
   "source": []
  }
 ],
 "metadata": {
  "kernelspec": {
   "display_name": "R",
   "language": "R",
   "name": "ir"
  },
  "language_info": {
   "codemirror_mode": "r",
   "file_extension": ".r",
   "mimetype": "text/x-r-source",
   "name": "R",
   "pygments_lexer": "r",
   "version": "3.5.1"
  },
  "toc": {
   "nav_menu": {},
   "number_sections": true,
   "sideBar": true,
   "skip_h1_title": false,
   "title_cell": "Tabla de Contenidos",
   "title_sidebar": "Contenido",
   "toc_cell": false,
   "toc_position": {},
   "toc_section_display": true,
   "toc_window_display": false
  }
 },
 "nbformat": 4,
 "nbformat_minor": 2
}
