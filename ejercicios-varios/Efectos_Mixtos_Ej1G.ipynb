{
 "cells": [
  {
   "cell_type": "markdown",
   "metadata": {},
   "source": [
    "# Efectos Mixtos - Ej1 - Guía\n",
    "\n",
    "- **1 efecto fijo, 1 aleatorio Anidado**\n",
    "\n",
    "**Ejercicio 1. (Ejercicio 7.3, Kuehl):** Se prepararon tres fórmulas de aleación con cuatro coladas distintos para cada fórmula y se probó el coeficiente de ruptura en dos barras de cada lote. Los datos corresponden a la\n",
    "fuerza de las barras individualmente y existen cuatro colados anidados dentro de cada aleación."
   ]
  },
  {
   "cell_type": "code",
   "execution_count": 2,
   "metadata": {},
   "outputs": [
    {
     "data": {
      "text/html": [
       "<table>\n",
       "<thead><tr><th scope=col>ruptura</th><th scope=col>aleacion</th><th scope=col>molde</th></tr></thead>\n",
       "<tbody>\n",
       "\t<tr><td>13.2</td><td>1   </td><td>1   </td></tr>\n",
       "\t<tr><td>15.5</td><td>1   </td><td>1   </td></tr>\n",
       "\t<tr><td>17.1</td><td>2   </td><td>1   </td></tr>\n",
       "\t<tr><td>16.7</td><td>2   </td><td>1   </td></tr>\n",
       "\t<tr><td>14.1</td><td>3   </td><td>1   </td></tr>\n",
       "\t<tr><td>14.8</td><td>3   </td><td>1   </td></tr>\n",
       "</tbody>\n",
       "</table>\n"
      ],
      "text/latex": [
       "\\begin{tabular}{r|lll}\n",
       " ruptura & aleacion & molde\\\\\n",
       "\\hline\n",
       "\t 13.2 & 1    & 1   \\\\\n",
       "\t 15.5 & 1    & 1   \\\\\n",
       "\t 17.1 & 2    & 1   \\\\\n",
       "\t 16.7 & 2    & 1   \\\\\n",
       "\t 14.1 & 3    & 1   \\\\\n",
       "\t 14.8 & 3    & 1   \\\\\n",
       "\\end{tabular}\n"
      ],
      "text/markdown": [
       "\n",
       "ruptura | aleacion | molde | \n",
       "|---|---|---|---|---|---|\n",
       "| 13.2 | 1    | 1    | \n",
       "| 15.5 | 1    | 1    | \n",
       "| 17.1 | 2    | 1    | \n",
       "| 16.7 | 2    | 1    | \n",
       "| 14.1 | 3    | 1    | \n",
       "| 14.8 | 3    | 1    | \n",
       "\n",
       "\n"
      ],
      "text/plain": [
       "  ruptura aleacion molde\n",
       "1 13.2    1        1    \n",
       "2 15.5    1        1    \n",
       "3 17.1    2        1    \n",
       "4 16.7    2        1    \n",
       "5 14.1    3        1    \n",
       "6 14.8    3        1    "
      ]
     },
     "metadata": {},
     "output_type": "display_data"
    },
    {
     "name": "stderr",
     "output_type": "stream",
     "text": [
      "The following object is masked from datos (pos = 3):\n",
      "\n",
      "    molde\n",
      "\n"
     ]
    },
    {
     "name": "stdout",
     "output_type": "stream",
     "text": [
      "'data.frame':\t24 obs. of  3 variables:\n",
      " $ ruptura : num  13.2 15.5 17.1 16.7 14.1 14.8 15.2 15 16.5 17.3 ...\n",
      " $ aleacion: int  1 1 2 2 3 3 1 1 2 2 ...\n",
      " $ molde   : int  1 1 1 1 1 1 2 2 2 2 ...\n"
     ]
    }
   ],
   "source": [
    "datos = read.csv(\"/home/emiliano/EstadisticaAplicada/Estadistica.Aplicada.2018/03_efectos_aleatorios_y_mixtos/datos/ej3_ch7_nuestro.csv\", sep=\",\")\n",
    "head(datos)\n",
    "attach(datos)\n",
    "moldef = as.factor(molde)\n",
    "aleacionf = as.factor(aleacion)\n",
    "str(datos)"
   ]
  },
  {
   "cell_type": "code",
   "execution_count": 3,
   "metadata": {},
   "outputs": [
    {
     "data": {},
     "metadata": {},
     "output_type": "display_data"
    },
    {
     "data": {
      "image/png": "[encoded data removed]",
      "text/plain": [
       "plot without title"
      ]
     },
     "metadata": {},
     "output_type": "display_data"
    },
    {
     "data": {
      "image/png": "[encoded data removed]",
      "text/plain": [
       "plot without title"
      ]
     },
     "metadata": {},
     "output_type": "display_data"
    }
   ],
   "source": [
    "boxplot(ruptura~aleacionf)\n",
    "library(lattice)\n",
    "xyplot(ruptura~aleacionf)"
   ]
  },
  {
   "cell_type": "markdown",
   "metadata": {},
   "source": [
    "## Análisis de los datos\n",
    "\n",
    "- Factor fijo: fórmula de aleación\n",
    "- Factor aleatorio: molde anidado, es decir que los moldes no son los mismos para cada fórmula de aleación.\n",
    "\n",
    "Construimos un modelo que incluya estos factores fijos y aleatorios:"
   ]
  },
  {
   "cell_type": "code",
   "execution_count": 4,
   "metadata": {},
   "outputs": [
    {
     "name": "stderr",
     "output_type": "stream",
     "text": [
      "Loading required package: Matrix\n",
      "Computing profile confidence intervals ...\n",
      "Warning message in optwrap(optimizer, devfun, x@theta, lower = x@lower, calc.derivs = TRUE, :\n",
      "“convergence code 3 from bobyqa: bobyqa -- a trust region step failed to reduce q”Warning message in optwrap(optimizer, par = start, fn = function(x) dd(mkpar(npar1, :\n",
      "“convergence code 3 from bobyqa: bobyqa -- a trust region step failed to reduce q”Warning message in optwrap(optimizer, par = start, fn = function(x) dd(mkpar(npar1, :\n",
      "“convergence code 3 from bobyqa: bobyqa -- a trust region step failed to reduce q”Warning message in optwrap(optimizer, par = thopt, fn = mkdevfun(rho, 0L), lower = fitted@lower):\n",
      "“convergence code 3 from bobyqa: bobyqa -- a trust region step failed to reduce q”"
     ]
    },
    {
     "data": {
      "text/html": [
       "<table>\n",
       "<thead><tr><th></th><th scope=col>2.5 %</th><th scope=col>97.5 %</th></tr></thead>\n",
       "<tbody>\n",
       "\t<tr><th scope=row>.sig01</th><td> 0.0000000 </td><td> 0.46737944</td></tr>\n",
       "\t<tr><th scope=row>.sigma</th><td> 0.4719683 </td><td> 0.83526278</td></tr>\n",
       "\t<tr><th scope=row>(Intercept)</th><td>14.2714241 </td><td>15.15357587</td></tr>\n",
       "\t<tr><th scope=row>aleacionf2</th><td> 1.3262245 </td><td> 2.57377548</td></tr>\n",
       "\t<tr><th scope=row>aleacionf3</th><td>-1.2737755 </td><td>-0.02622452</td></tr>\n",
       "</tbody>\n",
       "</table>\n"
      ],
      "text/latex": [
       "\\begin{tabular}{r|ll}\n",
       "  & 2.5 \\% & 97.5 \\%\\\\\n",
       "\\hline\n",
       "\t.sig01 &  0.0000000  &  0.46737944\\\\\n",
       "\t.sigma &  0.4719683  &  0.83526278\\\\\n",
       "\t(Intercept) & 14.2714241  & 15.15357587\\\\\n",
       "\taleacionf2 &  1.3262245  &  2.57377548\\\\\n",
       "\taleacionf3 & -1.2737755  & -0.02622452\\\\\n",
       "\\end{tabular}\n"
      ],
      "text/markdown": [
       "\n",
       "| <!--/--> | 2.5 % | 97.5 % | \n",
       "|---|---|---|---|---|\n",
       "| .sig01 |  0.0000000  |  0.46737944 | \n",
       "| .sigma |  0.4719683  |  0.83526278 | \n",
       "| (Intercept) | 14.2714241  | 15.15357587 | \n",
       "| aleacionf2 |  1.3262245  |  2.57377548 | \n",
       "| aleacionf3 | -1.2737755  | -0.02622452 | \n",
       "\n",
       "\n"
      ],
      "text/plain": [
       "            2.5 %      97.5 %     \n",
       ".sig01       0.0000000  0.46737944\n",
       ".sigma       0.4719683  0.83526278\n",
       "(Intercept) 14.2714241 15.15357587\n",
       "aleacionf2   1.3262245  2.57377548\n",
       "aleacionf3  -1.2737755 -0.02622452"
      ]
     },
     "metadata": {},
     "output_type": "display_data"
    }
   ],
   "source": [
    "library(lme4)\n",
    "#library(RLRsim)\n",
    "modelo = lmer(ruptura ~ aleacionf + (1|moldef%in%aleacionf), REML=TRUE)\n",
    "confint(modelo)"
   ]
  },
  {
   "cell_type": "code",
   "execution_count": 6,
   "metadata": {},
   "outputs": [
    {
     "data": {
      "text/plain": [
       "Linear mixed model fit by REML ['lmerMod']\n",
       "Formula: ruptura ~ aleacionf + (1 | moldef %in% aleacionf)\n",
       "\n",
       "REML criterion at convergence: 48\n",
       "\n",
       "Scaled residuals: \n",
       "     Min       1Q   Median       3Q      Max \n",
       "-2.31473 -0.45912  0.09565  0.68868  1.20519 \n",
       "\n",
       "Random effects:\n",
       " Groups                Name        Variance Std.Dev.\n",
       " moldef %in% aleacionf (Intercept) 0.000    0.0000  \n",
       " Residual                          0.427    0.6534  \n",
       "Number of obs: 24, groups:  moldef %in% aleacionf, 2\n",
       "\n",
       "Fixed effects:\n",
       "            Estimate Std. Error t value\n",
       "(Intercept)  14.7125     0.2310  63.685\n",
       "aleacionf2    1.9500     0.3267   5.969\n",
       "aleacionf3   -0.6500     0.3267  -1.990\n",
       "\n",
       "Correlation of Fixed Effects:\n",
       "           (Intr) alcnf2\n",
       "aleacionf2 -0.707       \n",
       "aleacionf3 -0.707  0.500"
      ]
     },
     "metadata": {},
     "output_type": "display_data"
    }
   ],
   "source": [
    "summary(modelo)"
   ]
  },
  {
   "cell_type": "markdown",
   "metadata": {},
   "source": [
    "**CONCLUIMOS** que los efectos de los factores aleatorios (los moldes) no son significativos. Esto es así ya que el límite inferior del IC de la varianza sig01, es cero.\n",
    "\n",
    "Por lo tanto, ahora nos enfocamos en analizar el efecto fijo, es decir, las distintas aleaciones. Quisieramos ver, por ejemplo, una comparación de todas contra todas usando Tukey, para ver si son equivalentes. "
   ]
  },
  {
   "cell_type": "code",
   "execution_count": 9,
   "metadata": {},
   "outputs": [
    {
     "data": {
      "image/png": "[encoded data removed]",
      "text/plain": [
       "Plot with title “95% family-wise confidence level\n",
       "”"
      ]
     },
     "metadata": {},
     "output_type": "display_data"
    }
   ],
   "source": [
    "library(multcomp)\n",
    "mc = glht(modelo, linfct=mcp(aleacionf=\"Tukey\"))\n",
    "plot(confint(mc))"
   ]
  },
  {
   "cell_type": "markdown",
   "metadata": {},
   "source": [
    "A partir de analizar los IC vemos que la aleación 3 y 1 son estadísticamente equivalentes, no así la 2-1 y la 3-2."
   ]
  }
 ],
 "metadata": {
  "kernelspec": {
   "display_name": "R",
   "language": "R",
   "name": "ir"
  },
  "language_info": {
   "codemirror_mode": "r",
   "file_extension": ".r",
   "mimetype": "text/x-r-source",
   "name": "R",
   "pygments_lexer": "r",
   "version": "3.5.1"
  },
  "toc": {
   "nav_menu": {},
   "number_sections": true,
   "sideBar": true,
   "skip_h1_title": false,
   "title_cell": "Tabla de Contenidos",
   "title_sidebar": "Contenido",
   "toc_cell": false,
   "toc_position": {},
   "toc_section_display": true,
   "toc_window_display": false
  }
 },
 "nbformat": 4,
 "nbformat_minor": 2
}
